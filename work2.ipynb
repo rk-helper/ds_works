{
 "cells": [
  {
   "cell_type": "markdown",
   "metadata": {},
   "source": [
    "## 1. Матрица Вандермонда (10 баллов)"
   ]
  },
  {
   "cell_type": "markdown",
   "metadata": {},
   "source": [
    "Напишите функцию, генерирующую матрицу [Вандермонда](https://ru.wikipedia.org/wiki/Определитель_Вандермонда), принИмающую на вход вектор $(𝑥_1,...,𝑥_𝑛)$ .\n",
    "В этом задании запрещается пользоваться готовыми реализациями (например, numpy.vander), а также np.repeat и np.transpose.\n",
    "При решение задействуйте np.reshape и/или np.newaxis."
   ]
  },
  {
   "cell_type": "code",
   "execution_count": 1,
   "metadata": {},
   "outputs": [
    {
     "data": {
      "text/plain": [
       "array([[  1,   9,  81, 729],\n",
       "       [  1,   7,  49, 343],\n",
       "       [  1,   4,  16,  64],\n",
       "       [  1,   5,  25, 125]])"
      ]
     },
     "execution_count": 1,
     "metadata": {},
     "output_type": "execute_result"
    }
   ],
   "source": [
    "import numpy as np\n",
    "z = np.array([9, 7, 4, 5])\n",
    "\n",
    "m = len(z) - 1\n",
    "a = np.outer(z, np.ones(m)).astype(int)\n",
    "b = np.ones((m + 1, 1)).astype(int)\n",
    "\n",
    "s = np.append(b, a, axis=1)\n",
    "np.cumprod(s, axis = 1)"
   ]
  },
  {
   "cell_type": "markdown",
   "metadata": {},
   "source": [
    "## 2. Марафон (30 баллов)"
   ]
  },
  {
   "cell_type": "markdown",
   "metadata": {},
   "source": [
    "#### История\n",
    "Как-то раз Винни-Пух, Пятачок, Кролик и Иа-Иа решили пробежать марафон. Они договорились бежать $n$ часов. Побеждает тот, кто пробегает за эти $n$ часов больше всего километров. Каждый участник бежит по-разному, то сколько он пробежит за один час поддается одному из законов распределений. Например, если имеется равномерное распределение $U[1,3]$, то участник может пробежать за первый час 1.3км, за второй 2.4км и так далее.\n",
    "\n",
    "* Винни-Пух в целом может пробежать достаточно много, но с большой вероятностью останавливается покушать мёда и пробегает мало. Его закон распределения это показательное распределение с $\\lambda = 1$.\n",
    "* Пятачок бежит в одном темпе и старается пробегать приблизительно одинаковую дистанцию. Изредка, он может перепутать направление и немного пробежать не в ту сторону. Его закон распределения это нормальное распределение $N(1, 1)$.\n",
    "* Кролик - перфекционист. Он бежит целое количество киллометров. Если он понимает, что за оставшееся время он уже не пробежит еще один километр, то он останавливается и ждет следующий час. Его закон распределения это распределение Пуассона с $\\lambda = 1$.\n",
    "* Иа-Иа в течение часа может грустить с вероятностью 0.5 и пробжеать 0 километров или быть очень веселым (с вероятностью 0.5) и пробежать 2 километра. Его закон распределения это распределение Бернулли.\n",
    "\n",
    "#### Задание №1\n",
    "\n",
    "Вам нужно: \n",
    "* Создать трехмерную матрицу размера $10^4 \\times 4 \\times n$. Первая ось отвечает за номер марафона, вторая ось за каждого участника, а третья ось за каждый час марафона. Вторую и третью ось можно поменять, если вам так удобнее.\n",
    "* Выявить победителя в каждом из $10^4$ марафонов. \n",
    "* Нарисовать столбчатую диаграмму, на которой будет видно кто и сколько раз побеждал в марафоне.\n",
    "* Запрещено пользоваться циклами. Нужно использовать возможности numpy.\n",
    "\n",
    "Что можно сказать о результатах?\n",
    "\n",
    "#### Задание №2\n",
    " \n",
    "Участники решили объединиться в пары: Винни-Пух с Пятачком, Кролик с Иа-Иа. Они решили суммировать свои результаты.\n",
    "\n",
    "Вам нужно: \n",
    "* Сгенерировать новую трехмерную матрицу, но уже объединив участников в команды.\n",
    "* Выявить команду-победителя в каждом из $10^4$ марафонов. \n",
    "* Нарисовать столбчатую диаграмму, на которой будет видно кто и сколько раз побеждал в марафоне.\n",
    "\n",
    "Логичны ли полученные результаты?"
   ]
  },
  {
   "cell_type": "markdown",
   "metadata": {},
   "source": [
    "### Пункт 1"
   ]
  },
  {
   "cell_type": "code",
   "execution_count": 127,
   "metadata": {},
   "outputs": [],
   "source": [
    "import numpy as np\n",
    "from numpy import random\n",
    "from matplotlib import pyplot as plt"
   ]
  },
  {
   "cell_type": "code",
   "execution_count": null,
   "metadata": {},
   "outputs": [],
   "source": [
    "n = int(input('Number of races: '))"
   ]
  },
  {
   "cell_type": "markdown",
   "metadata": {},
   "source": [
    "#### Трехмерная матрица"
   ]
  },
  {
   "cell_type": "code",
   "execution_count": 201,
   "metadata": {},
   "outputs": [
    {
     "name": "stdout",
     "output_type": "stream",
     "text": [
      "Number of races: 4\n"
     ]
    },
    {
     "data": {
      "text/plain": [
       "array([[[ 0.10900438,  0.17930653,  1.68193029,  0.2985944 ],\n",
       "        [ 2.52006263,  1.03963843,  1.93631479,  0.30459797],\n",
       "        [ 0.        ,  2.        ,  0.        ,  2.        ],\n",
       "        [ 0.        ,  0.        ,  0.        ,  0.        ]],\n",
       "\n",
       "       [[ 0.4117575 ,  2.23516392,  0.68036802,  0.30061286],\n",
       "        [ 1.64909753,  1.16916162,  0.50636385,  1.79003401],\n",
       "        [ 0.        ,  0.        ,  0.        ,  0.        ],\n",
       "        [ 0.        ,  2.        ,  2.        ,  0.        ]],\n",
       "\n",
       "       [[ 0.90918116,  0.5069319 ,  1.65502208,  0.29902189],\n",
       "        [ 1.90421575,  1.47071875,  1.92002226,  0.8619511 ],\n",
       "        [ 2.        ,  2.        ,  0.        ,  1.        ],\n",
       "        [ 0.        ,  2.        ,  0.        ,  0.        ]],\n",
       "\n",
       "       ...,\n",
       "\n",
       "       [[ 1.08244249,  1.97720734,  0.10558048,  0.28224183],\n",
       "        [ 1.16056985,  1.28235226,  0.60442801,  0.16780253],\n",
       "        [ 2.        ,  0.        ,  1.        ,  0.        ],\n",
       "        [ 2.        ,  0.        ,  0.        ,  0.        ]],\n",
       "\n",
       "       [[ 0.90821144,  1.88319819,  0.58256542,  0.86485022],\n",
       "        [-1.17786266,  3.30676252,  0.15830281,  0.6752154 ],\n",
       "        [ 0.        ,  3.        ,  1.        ,  1.        ],\n",
       "        [ 0.        ,  0.        ,  2.        ,  0.        ]],\n",
       "\n",
       "       [[ 0.15074738,  0.59700846,  0.30154588,  0.42602518],\n",
       "        [-0.12105466, -1.41451687, -0.41835421,  2.51416875],\n",
       "        [ 2.        ,  4.        ,  1.        ,  1.        ],\n",
       "        [ 0.        ,  0.        ,  2.        ,  2.        ]]])"
      ]
     },
     "execution_count": 201,
     "metadata": {},
     "output_type": "execute_result"
    }
   ],
   "source": [
    "winnie = random.exponential(scale=1, size=(10 ** 4, 1, n))\n",
    "hog = random.normal(1, 1, size=(10 ** 4, 1, n))\n",
    "rabbit = random.poisson(lam = 1, size=(10 ** 4, 1, n))\n",
    "jackass = random.binomial(1, 0.5, size=(10 ** 4, 1, n)) * 2\n",
    "arr = np.concatenate((winnie, hog, rabbit, jackass),axis=1)\n",
    "arr"
   ]
  },
  {
   "cell_type": "code",
   "execution_count": 202,
   "metadata": {},
   "outputs": [
    {
     "data": {
      "text/plain": [
       "array([[2.2688356 , 5.80061382, 4.        , 0.        ],\n",
       "       [3.62790231, 5.11465701, 0.        , 4.        ],\n",
       "       [3.37015703, 6.15690787, 5.        , 2.        ],\n",
       "       ...,\n",
       "       [3.44747214, 3.21515265, 3.        , 2.        ],\n",
       "       [4.23882527, 2.96241808, 5.        , 2.        ],\n",
       "       [1.47532691, 0.56024301, 8.        , 4.        ]])"
      ]
     },
     "execution_count": 202,
     "metadata": {},
     "output_type": "execute_result"
    }
   ],
   "source": [
    "arrsum = arr.sum(axis = 2)\n",
    "arrsum"
   ]
  },
  {
   "cell_type": "markdown",
   "metadata": {},
   "source": [
    "#### Победитель в каждом из $10^4$ марафонов"
   ]
  },
  {
   "cell_type": "code",
   "execution_count": 203,
   "metadata": {},
   "outputs": [
    {
     "data": {
      "text/plain": [
       "array([1, 1, 1, ..., 0, 2, 2])"
      ]
     },
     "execution_count": 203,
     "metadata": {},
     "output_type": "execute_result"
    }
   ],
   "source": [
    "result = arrsum.argmax(axis = 1)\n",
    "result"
   ]
  },
  {
   "cell_type": "markdown",
   "metadata": {},
   "source": [
    "#### Столбчатая диаграмма, на которой видно кто и сколько раз побеждал в марафоне"
   ]
  },
  {
   "cell_type": "code",
   "execution_count": 204,
   "metadata": {},
   "outputs": [
    {
     "data": {
      "image/png": "[encoded data removed]",
      "text/plain": [
       "<Figure size 432x288 with 1 Axes>"
      ]
     },
     "metadata": {
      "needs_background": "light"
     },
     "output_type": "display_data"
    }
   ],
   "source": [
    "a = ['Winnie', 'Hog', 'Rabbit', 'Jackass']\n",
    "ypos = np.arange(len(a))\n",
    "plt.hist(result, rwidth=1, histtype='bar', color='green', alpha=1, edgecolor='black', bins=np.arange(0,np.max(result)+2)-0.5);\n",
    "plt.xlabel('Paritcipants', fontsize=10);\n",
    "plt.xticks(ypos, a);\n",
    "plt.ylabel('Number of winnings', fontsize=10);\n",
    "plt.title('Race Winners Frequency', fontsize=16);"
   ]
  },
  {
   "cell_type": "markdown",
   "metadata": {},
   "source": [
    "#### Вывод: На основе данных, можно сделать вывод, что каждый из игроков равновероятно побеждает в марафоне"
   ]
  },
  {
   "cell_type": "markdown",
   "metadata": {},
   "source": [
    "### Пункт 2"
   ]
  },
  {
   "cell_type": "markdown",
   "metadata": {},
   "source": [
    "### Winniehog's team"
   ]
  },
  {
   "cell_type": "code",
   "execution_count": 289,
   "metadata": {},
   "outputs": [
    {
     "data": {
      "text/plain": [
       "array([[[ 0.14106118,  2.79339487,  0.12173919,  0.0147933 ],\n",
       "        [ 0.61594219,  2.04312837,  2.18483994,  0.46194524]],\n",
       "\n",
       "       [[ 0.14300536,  0.02547355,  0.02187009,  0.0197329 ],\n",
       "        [ 1.39302596, -0.63292476,  0.93392787,  1.38781632]],\n",
       "\n",
       "       [[ 0.56697213,  0.72904612,  1.33290329,  2.41526341],\n",
       "        [ 0.63144348,  2.13188661,  1.17432843,  0.51656424]],\n",
       "\n",
       "       ...,\n",
       "\n",
       "       [[ 1.604507  ,  0.10002139,  0.90779369,  0.20468209],\n",
       "        [ 1.70370451,  1.39707243,  1.11364884,  1.04857561]],\n",
       "\n",
       "       [[ 0.09603059,  1.23193903,  0.1878015 ,  0.44521514],\n",
       "        [ 1.79245906,  0.86576605, -0.48198512,  0.72464528]],\n",
       "\n",
       "       [[ 0.70075855,  0.18687669,  0.29613611,  0.57432377],\n",
       "        [ 2.91445992,  1.46891569,  1.01557451,  2.30994207]]])"
      ]
     },
     "execution_count": 289,
     "metadata": {},
     "output_type": "execute_result"
    }
   ],
   "source": [
    "winnie = random.exponential(scale=1, size=(10 ** 4, 1, n))\n",
    "hog = random.normal(1, 1, size=(10 ** 4, 1, n))\n",
    "winniehog = np.concatenate((winnie, hog),axis=1)\n",
    "winniehog"
   ]
  },
  {
   "cell_type": "code",
   "execution_count": 290,
   "metadata": {},
   "outputs": [
    {
     "data": {
      "text/plain": [
       "array([[ 0.75700338,  4.83652324,  2.30657913,  0.47673854],\n",
       "       [ 1.53603132, -0.60745121,  0.95579795,  1.40754922],\n",
       "       [ 1.19841561,  2.86093274,  2.50723172,  2.93182764],\n",
       "       ...,\n",
       "       [ 3.30821152,  1.49709381,  2.02144252,  1.2532577 ],\n",
       "       [ 1.88848965,  2.09770508, -0.29418362,  1.16986042],\n",
       "       [ 3.61521848,  1.65579238,  1.31171062,  2.88426584]])"
      ]
     },
     "execution_count": 290,
     "metadata": {},
     "output_type": "execute_result"
    }
   ],
   "source": [
    "winniehogsum = winniehog.sum(axis = 1)\n",
    "winniehogsum"
   ]
  },
  {
   "cell_type": "markdown",
   "metadata": {},
   "source": [
    "### Jackaassrabbit's team"
   ]
  },
  {
   "cell_type": "code",
   "execution_count": 291,
   "metadata": {},
   "outputs": [
    {
     "data": {
      "text/plain": [
       "array([[0, 3, 0, 2],\n",
       "       [3, 0, 1, 2],\n",
       "       [0, 1, 0, 2],\n",
       "       ...,\n",
       "       [0, 0, 1, 1],\n",
       "       [4, 2, 1, 4],\n",
       "       [1, 2, 2, 2]])"
      ]
     },
     "execution_count": 291,
     "metadata": {},
     "output_type": "execute_result"
    }
   ],
   "source": [
    "rabbit = random.poisson(lam = 1, size=(10 ** 4, 1, n))\n",
    "jackass = random.binomial(1, 0.5, size=(10 ** 4, 1, n)) * 2\n",
    "jackassrabbit = np.concatenate((rabbit, jackass),axis=1)\n",
    "jackassrabbitsum = jackassrabbit.sum(axis = 1)\n",
    "jackassrabbitsum"
   ]
  },
  {
   "cell_type": "markdown",
   "metadata": {},
   "source": [
    "### Comparing teams"
   ]
  },
  {
   "cell_type": "code",
   "execution_count": 292,
   "metadata": {},
   "outputs": [
    {
     "data": {
      "text/plain": [
       "array([[[ 0.75700338,  4.83652324,  2.30657913,  0.47673854],\n",
       "        [ 0.        ,  3.        ,  0.        ,  2.        ]],\n",
       "\n",
       "       [[ 1.53603132, -0.60745121,  0.95579795,  1.40754922],\n",
       "        [ 3.        ,  0.        ,  1.        ,  2.        ]],\n",
       "\n",
       "       [[ 1.19841561,  2.86093274,  2.50723172,  2.93182764],\n",
       "        [ 0.        ,  1.        ,  0.        ,  2.        ]],\n",
       "\n",
       "       ...,\n",
       "\n",
       "       [[ 3.30821152,  1.49709381,  2.02144252,  1.2532577 ],\n",
       "        [ 0.        ,  0.        ,  1.        ,  1.        ]],\n",
       "\n",
       "       [[ 1.88848965,  2.09770508, -0.29418362,  1.16986042],\n",
       "        [ 4.        ,  2.        ,  1.        ,  4.        ]],\n",
       "\n",
       "       [[ 3.61521848,  1.65579238,  1.31171062,  2.88426584],\n",
       "        [ 1.        ,  2.        ,  2.        ,  2.        ]]])"
      ]
     },
     "execution_count": 292,
     "metadata": {},
     "output_type": "execute_result"
    }
   ],
   "source": [
    "teams = np.stack((winniehogsum, jackassrabbitsum), axis = 1)\n",
    "teams"
   ]
  },
  {
   "cell_type": "code",
   "execution_count": 293,
   "metadata": {},
   "outputs": [
    {
     "data": {
      "text/plain": [
       "array([[ 8.37684428,  5.        ],\n",
       "       [ 3.29192728,  6.        ],\n",
       "       [ 9.49840772,  3.        ],\n",
       "       ...,\n",
       "       [ 8.08000555,  2.        ],\n",
       "       [ 4.86187153, 11.        ],\n",
       "       [ 9.46698732,  7.        ]])"
      ]
     },
     "execution_count": 293,
     "metadata": {},
     "output_type": "execute_result"
    }
   ],
   "source": [
    "teamssum = teams.sum(axis = 2)\n",
    "teamssum"
   ]
  },
  {
   "cell_type": "code",
   "execution_count": 294,
   "metadata": {},
   "outputs": [
    {
     "data": {
      "text/plain": [
       "array([0, 1, 0, ..., 0, 1, 0])"
      ]
     },
     "execution_count": 294,
     "metadata": {},
     "output_type": "execute_result"
    }
   ],
   "source": [
    "teamsresult = teamssum.argmax(axis = 1)\n",
    "teamsresult"
   ]
  },
  {
   "cell_type": "markdown",
   "metadata": {},
   "source": [
    "### Histogram for teams"
   ]
  },
  {
   "cell_type": "code",
   "execution_count": 295,
   "metadata": {},
   "outputs": [
    {
     "data": {
      "image/png": "[encoded data removed]",
      "text/plain": [
       "<Figure size 432x288 with 1 Axes>"
      ]
     },
     "metadata": {
      "needs_background": "light"
     },
     "output_type": "display_data"
    }
   ],
   "source": [
    "a = ['WinnieHog', 'JackassRabbit']\n",
    "ypos = np.arange(len(a))\n",
    "plt.hist(teamsresult, rwidth=1, histtype='bar', color='green', alpha=1, edgecolor='black', bins=np.arange(0,np.max(teamsresult)+2)-0.5);\n",
    "plt.xlabel('Teams', fontsize=10);\n",
    "plt.xticks(ypos, a);\n",
    "plt.ylabel('Number of winnings', fontsize=10);\n",
    "plt.title('Team Winners Frequency', fontsize=16);"
   ]
  },
  {
   "cell_type": "markdown",
   "metadata": {},
   "source": [
    "#### Достаточно логичны, если каждый по отдельности выигрывает марафон равновероятно, то и команды скорее всего выиграют равновероятно"
   ]
  },
  {
   "cell_type": "markdown",
   "metadata": {},
   "source": [
    "## 3. Avito (30 баллов)"
   ]
  },
  {
   "cell_type": "markdown",
   "metadata": {},
   "source": [
    "В этом задании вам нужно будет написать функцию, которая парсит [Авито](https://www.avito.ru) (будем рассматривать только Москву). Эта функция принимает два параметра:\n",
    "* search - то, что мы ищем на avito\n",
    "* page - номер страницы, с которой парсим информацию\n",
    "\n",
    "```python\n",
    "def parse_page(search, page):\n",
    "    # тут ваш код\n",
    "df = parse_page('гречка', 4)\n",
    "```\n",
    "Нужно скачать следующую информацию:\n",
    "* название объявления\n",
    "* ссылка на объявление\n",
    "* цена\n",
    "* метро (если есть), вам нужно аккуратно обрабатывать None или использовать конструкцию try-except\n",
    "* сколько метров от метро (если есть)\n",
    "\n",
    "Эту информацию лучше сохранить в виде pandas df.\n",
    "\n",
    "В данном задании **не нужно** парсить все страницы (вас могут забанить). Нужно лишь сделать функцию, которая парсит одну страницу. Чтобы вас не забанили сделаейте request один раз и работайте с вашей страничкой без функции. После того как все будет готово, оберните весь ваш код в функцию."
   ]
  },
  {
   "cell_type": "code",
   "execution_count": 288,
   "metadata": {},
   "outputs": [
    {
     "name": "stdout",
     "output_type": "stream",
     "text": [
      "Data saved to CSV | avito_data.csv\n",
      "Browser closed\n"
     ]
    }
   ],
   "source": [
    "def parse_page(search, page):\n",
    "    import time\n",
    "    import csv\n",
    "    from selenium import webdriver\n",
    "    from selenium.webdriver.chrome.options import Options\n",
    "\n",
    "    while True:\n",
    "        try:\n",
    "            with open('avito_data.csv', 'w') as new_file:\n",
    "                # csv\n",
    "                fieldnames = ['Search key', 'Page', 'Price, RUB', 'Subway nearby']\n",
    "\n",
    "                csv_writer = csv.DictWriter(new_file, fieldnames=fieldnames, delimiter=',')\n",
    "\n",
    "                csv_writer.writeheader()\n",
    "\n",
    "\n",
    "                # prepare for parsing\n",
    "                chrome_options = Options()\n",
    "                chrome_options.add_argument(\"--headless\")  # we will not open selenium browser just not to slow your pc =D\n",
    "                website = 'https://www.avito.ru/moskva?q=' + str(search) + '&p=' + str(page)\n",
    "                driver = webdriver.Chrome('/usr/local/Caskroom/chromedriver/81.0.4044.69/chromedriver',\n",
    "                                          options=chrome_options)\n",
    "                driver.implicitly_wait(10)\n",
    "                driver.get(website)\n",
    "\n",
    "                # shit to find\n",
    "                name = \"h3[class='snippet-title']\"\n",
    "                url = \"a[class='snippet-link']\"\n",
    "                price = \"span[data-marker='item-price']\"\n",
    "                address = \"div[class='item-address']\"\n",
    "\n",
    "                # itemlines\n",
    "                try:\n",
    "                    driver.find_element_by_css_selector(\"div[class='item__line']\")  # check if selector exists\n",
    "                    itemlines = driver.find_elements_by_css_selector(\"div[class='item__line']\")\n",
    "                    # code to execute\n",
    "                    for el in itemlines:\n",
    "                        try:\n",
    "                            el.find_element_by_css_selector(address)\n",
    "                            new_file.write(str(el.find_element_by_css_selector(name).text).replace(',', '') + ',' +\n",
    "                                           el.find_element_by_css_selector(url).get_attribute('href') + ',' +\n",
    "                                           el.find_element_by_css_selector(price).text + ',' +\n",
    "                                           str(el.find_element_by_css_selector(address).text).replace(',', '.'))\n",
    "                            new_file.write('\\n')\n",
    "                        except:\n",
    "                            new_file.write(str(el.find_element_by_css_selector(name).text).replace(',', '') + ',' +\n",
    "                                           el.find_element_by_css_selector(url).get_attribute('href') + ',' +\n",
    "                                           el.find_element_by_css_selector(price).text + ',' +\n",
    "                                           'None')\n",
    "                            new_file.write('\\n')\n",
    "                    print('Data saved to CSV | avito_data.csv')\n",
    "                except:\n",
    "                    print('There are no items due to your request')\n",
    "                # global quit and log\n",
    "                print('Browser closed')\n",
    "                driver.quit()\n",
    "                break\n",
    "        except Exception as e:\n",
    "            driver.save_screenshot(\"screenshot.png\")\n",
    "            driver.quit()\n",
    "            print('Errot type: ' + str(e))\n",
    "            print('Trying again...')\n",
    "            pass\n",
    "\n",
    "df = parse_page('macbook', 1)"
   ]
  },
  {
   "cell_type": "markdown",
   "metadata": {},
   "source": [
    "btw while True: try...except в коде позволяет если упала страница(например сервер упал) или что-то случилось автоматически перезапустить код, да и вообще в коде много try..except в лучших традицих парсинга"
   ]
  },
  {
   "cell_type": "markdown",
   "metadata": {},
   "source": [
    "Я так понял надо еще и разделить метро и расстояние :). Элементы в веб странице, которые отвечают за \"Расстояние\" и \"Метро\" выглядят как очень неусточийвые \"item-address-georeferences-item__content\", поэтому не хочу их использовать, потому что если авито изменит элемент, то скрипт не будет работать. Неустойчивость всегда плохо. \n",
    "Лучше поработаю с таблицей."
   ]
  },
  {
   "cell_type": "markdown",
   "metadata": {},
   "source": [
    "btw первел еще все значения расстояния в метры и убрал знак рубля, потому что единственный и официальной валютой средством платежа в России является российский рубль"
   ]
  },
  {
   "cell_type": "code",
   "execution_count": 289,
   "metadata": {
    "scrolled": true
   },
   "outputs": [
    {
     "data": {
      "text/html": [
       "<div>\n",
       "<style scoped>\n",
       "    .dataframe tbody tr th:only-of-type {\n",
       "        vertical-align: middle;\n",
       "    }\n",
       "\n",
       "    .dataframe tbody tr th {\n",
       "        vertical-align: top;\n",
       "    }\n",
       "\n",
       "    .dataframe thead th {\n",
       "        text-align: right;\n",
       "    }\n",
       "</style>\n",
       "<table border=\"1\" class=\"dataframe\">\n",
       "  <thead>\n",
       "    <tr style=\"text-align: right;\">\n",
       "      <th></th>\n",
       "      <th>Search key</th>\n",
       "      <th>Page</th>\n",
       "      <th>Price, RUB</th>\n",
       "      <th>Subway name</th>\n",
       "      <th>Subway dist, m</th>\n",
       "    </tr>\n",
       "  </thead>\n",
       "  <tbody>\n",
       "    <tr>\n",
       "      <th>0</th>\n",
       "      <td>MacBook Pro 13’’ touch pad</td>\n",
       "      <td>https://www.avito.ru/moskva/noutbuki/macbook_p...</td>\n",
       "      <td>85000</td>\n",
       "      <td>Речной вокзал</td>\n",
       "      <td>700</td>\n",
       "    </tr>\n",
       "    <tr>\n",
       "      <th>1</th>\n",
       "      <td>MacBook AIR/PRO</td>\n",
       "      <td>https://www.avito.ru/moskva/noutbuki/macbook_a...</td>\n",
       "      <td>13900</td>\n",
       "      <td>Павелецкая</td>\n",
       "      <td>300</td>\n",
       "    </tr>\n",
       "    <tr>\n",
       "      <th>2</th>\n",
       "      <td>MacBook Pro 15 2018 256Gb TouchBar SpaceGray</td>\n",
       "      <td>https://www.avito.ru/moskva/noutbuki/macbook_p...</td>\n",
       "      <td>114000</td>\n",
       "      <td>Октябрьское поле</td>\n",
       "      <td>None</td>\n",
       "    </tr>\n",
       "    <tr>\n",
       "      <th>3</th>\n",
       "      <td>Macbook Pro Retina 13 2015</td>\n",
       "      <td>https://www.avito.ru/moskva/noutbuki/macbook_p...</td>\n",
       "      <td>48500</td>\n",
       "      <td>ВДНХ</td>\n",
       "      <td>100</td>\n",
       "    </tr>\n",
       "    <tr>\n",
       "      <th>4</th>\n",
       "      <td>MAC toledo palette / мак новая палетка теней</td>\n",
       "      <td>https://www.avito.ru/moskva/krasota_i_zdorove/...</td>\n",
       "      <td>1500</td>\n",
       "      <td>Киевская</td>\n",
       "      <td>100</td>\n",
       "    </tr>\n",
       "  </tbody>\n",
       "</table>\n",
       "</div>"
      ],
      "text/plain": [
       "                                     Search key  \\\n",
       "0                    MacBook Pro 13’’ touch pad   \n",
       "1                               MacBook AIR/PRO   \n",
       "2  MacBook Pro 15 2018 256Gb TouchBar SpaceGray   \n",
       "3                    Macbook Pro Retina 13 2015   \n",
       "4  MAC toledo palette / мак новая палетка теней   \n",
       "\n",
       "                                                Page Price, RUB  \\\n",
       "0  https://www.avito.ru/moskva/noutbuki/macbook_p...      85000   \n",
       "1  https://www.avito.ru/moskva/noutbuki/macbook_a...      13900   \n",
       "2  https://www.avito.ru/moskva/noutbuki/macbook_p...     114000   \n",
       "3  https://www.avito.ru/moskva/noutbuki/macbook_p...      48500   \n",
       "4  https://www.avito.ru/moskva/krasota_i_zdorove/...       1500   \n",
       "\n",
       "        Subway name Subway dist, m  \n",
       "0     Речной вокзал           700   \n",
       "1        Павелецкая           300   \n",
       "2  Октябрьское поле           None  \n",
       "3              ВДНХ           100   \n",
       "4          Киевская           100   "
      ]
     },
     "execution_count": 289,
     "metadata": {},
     "output_type": "execute_result"
    }
   ],
   "source": [
    "import pandas as pd \n",
    "   \n",
    "# reading csv file \n",
    "data = pd.read_csv(\"avito_data.csv\") \n",
    "data.dropna(inplace = True) \n",
    "new = data[\"Subway nearby\"].str.split(\".\", n = 1, expand = True) \n",
    "data[\"Subway name\"]= new[0] \n",
    "data[\"Subway dist, m\"]= new[1] \n",
    "data.drop(columns =[\"Subway nearby\"], inplace = True)\n",
    "data['Price, RUB'] = data['Price, RUB'].str.replace(\"₽\", \"\")\n",
    "for i in data['Subway dist, m']:\n",
    "    if type(i) == str:\n",
    "        if 'км' in i:\n",
    "            data['Subway dist, m'] = data['Subway dist, m'].str.replace(i, str(int(float(i.replace('км', '')) * 1000)))\n",
    "data['Subway dist, m'] = data['Subway dist, m'].str.replace(\"м\", \"\")\n",
    "data['Price, RUB'] = data['Price, RUB'].str.replace(' ', '')\n",
    "data.head()"
   ]
  },
  {
   "cell_type": "markdown",
   "metadata": {},
   "source": [
    "Сохраним все в csv файл"
   ]
  },
  {
   "cell_type": "code",
   "execution_count": 290,
   "metadata": {},
   "outputs": [],
   "source": [
    "data.to_csv('avito_data.csv')"
   ]
  },
  {
   "cell_type": "markdown",
   "metadata": {},
   "source": [
    "## 4. Walmart (30 баллов)"
   ]
  },
  {
   "cell_type": "markdown",
   "metadata": {},
   "source": [
    "В файле *walmart.csv* нам предоставлены исторические данные о продажах магазинов Walmart, расположенных в разных регионах.\n",
    "\n",
    "Нам доступны следующие переменные:\n",
    "\n",
    "* **Date** – дата;\n",
    "* **Store** – номер магазина;\n",
    "* **Dept** – номер отдела;\n",
    "* **Weekly_Sales** – объём продаж в данную неделю в данном отделе\n",
    "* **Type** – тип магазина;\n",
    "* **Size** – размер магазина;\n",
    "* **IsHoliday** – является ли неделя праздничной;\n",
    "* **Temperature** – средняя температура в регионе в градусах по Фаренгейту;\n",
    "* **Fuel_Price** – стоимость топлива в регионе;\n",
    "* **MarkDown1-5** – данные, связанные с рекламными уценками, которые запускает Walmart. Данные уценки доступны только после ноября 2011 года и доступны не для всех магазинов. Данные анонимизированы. Непонятно на какие именно товары производилась уценка и в каких количествах. Компании часто анонимизируют данные, когда выкладывают их в открытый доступ.\n",
    "* **CPI** – индекс потребительских цен;\n",
    "* **Unemployment** – уровень безработицы.\n",
    "\n",
    "\n",
    "Вам нужно выполнить следующие задания:\n",
    "1. Загрузить файл с данными. Отобразить первые и последние 5 наблюдений. Узнать сколько наблюдений и переменных есть в вашем наборе данных. Какой тип(формат) имеет каждая переменная? Привести переменную Date к формату даты.\n",
    "2. Разобраться с пропущенными значениями:\n",
    "    * вывести сколько пропущенных значений в процентах есть в каждой переменной;\n",
    "    * удалить переменные, которые имеют более 60% пропущенных значений.\n",
    "3. Сколько магазинов и отделов присутствует в выборке, за какой период времени у нас имеются данные? \n",
    "4. Посмотреть динамику продаж в магазинах walmart в целом. Для этого можно построить график, где по оси X будет дата, а по оси Y продажи всей сети Walmart.\n",
    "5. Найдите и нарисуйте матрицу корреляции для числовых показателей.\n",
    "6. Найдите топ-5 самых больших магазинов по суммарным продажам за все время и отобразите динамику их продаж на одном графике.\n",
    "7. Найдите топ-10 самых больших отделов по суммарным продажам за 2011 год среди магазинов с типом А и нарисуйте столбчатую диаграмму для них"
   ]
  },
  {
   "cell_type": "markdown",
   "metadata": {},
   "source": [
    "### Пункт 1"
   ]
  },
  {
   "cell_type": "code",
   "execution_count": 186,
   "metadata": {},
   "outputs": [],
   "source": [
    "import pandas as pd\n",
    "from matplotlib import pyplot as plt\n",
    "import seaborn as sns\n",
    "%matplotlib inline"
   ]
  },
  {
   "cell_type": "markdown",
   "metadata": {},
   "source": [
    "Первые 5 наблюдений"
   ]
  },
  {
   "cell_type": "code",
   "execution_count": 187,
   "metadata": {},
   "outputs": [],
   "source": [
    "df = pd.read_csv('walmart.csv')"
   ]
  },
  {
   "cell_type": "code",
   "execution_count": 207,
   "metadata": {
    "scrolled": true
   },
   "outputs": [
    {
     "data": {
      "text/html": [
       "<div>\n",
       "<style scoped>\n",
       "    .dataframe tbody tr th:only-of-type {\n",
       "        vertical-align: middle;\n",
       "    }\n",
       "\n",
       "    .dataframe tbody tr th {\n",
       "        vertical-align: top;\n",
       "    }\n",
       "\n",
       "    .dataframe thead th {\n",
       "        text-align: right;\n",
       "    }\n",
       "</style>\n",
       "<table border=\"1\" class=\"dataframe\">\n",
       "  <thead>\n",
       "    <tr style=\"text-align: right;\">\n",
       "      <th></th>\n",
       "      <th>Store</th>\n",
       "      <th>Date</th>\n",
       "      <th>Dept</th>\n",
       "      <th>Weekly_Sales</th>\n",
       "      <th>IsHoliday</th>\n",
       "      <th>Type</th>\n",
       "      <th>Size</th>\n",
       "      <th>Temperature</th>\n",
       "      <th>Fuel_Price</th>\n",
       "      <th>CPI</th>\n",
       "      <th>Unemployment</th>\n",
       "    </tr>\n",
       "  </thead>\n",
       "  <tbody>\n",
       "    <tr>\n",
       "      <th>0</th>\n",
       "      <td>1</td>\n",
       "      <td>2010-02-05</td>\n",
       "      <td>1</td>\n",
       "      <td>24924.50</td>\n",
       "      <td>False</td>\n",
       "      <td>A</td>\n",
       "      <td>151315</td>\n",
       "      <td>42.31</td>\n",
       "      <td>2.572</td>\n",
       "      <td>211.096358</td>\n",
       "      <td>8.106</td>\n",
       "    </tr>\n",
       "    <tr>\n",
       "      <th>1</th>\n",
       "      <td>1</td>\n",
       "      <td>2010-02-12</td>\n",
       "      <td>1</td>\n",
       "      <td>46039.49</td>\n",
       "      <td>True</td>\n",
       "      <td>A</td>\n",
       "      <td>151315</td>\n",
       "      <td>38.51</td>\n",
       "      <td>2.548</td>\n",
       "      <td>211.242170</td>\n",
       "      <td>8.106</td>\n",
       "    </tr>\n",
       "    <tr>\n",
       "      <th>2</th>\n",
       "      <td>1</td>\n",
       "      <td>2010-02-19</td>\n",
       "      <td>1</td>\n",
       "      <td>41595.55</td>\n",
       "      <td>False</td>\n",
       "      <td>A</td>\n",
       "      <td>151315</td>\n",
       "      <td>39.93</td>\n",
       "      <td>2.514</td>\n",
       "      <td>211.289143</td>\n",
       "      <td>8.106</td>\n",
       "    </tr>\n",
       "    <tr>\n",
       "      <th>3</th>\n",
       "      <td>1</td>\n",
       "      <td>2010-02-26</td>\n",
       "      <td>1</td>\n",
       "      <td>19403.54</td>\n",
       "      <td>False</td>\n",
       "      <td>A</td>\n",
       "      <td>151315</td>\n",
       "      <td>46.63</td>\n",
       "      <td>2.561</td>\n",
       "      <td>211.319643</td>\n",
       "      <td>8.106</td>\n",
       "    </tr>\n",
       "    <tr>\n",
       "      <th>4</th>\n",
       "      <td>1</td>\n",
       "      <td>2010-03-05</td>\n",
       "      <td>1</td>\n",
       "      <td>21827.90</td>\n",
       "      <td>False</td>\n",
       "      <td>A</td>\n",
       "      <td>151315</td>\n",
       "      <td>46.50</td>\n",
       "      <td>2.625</td>\n",
       "      <td>211.350143</td>\n",
       "      <td>8.106</td>\n",
       "    </tr>\n",
       "  </tbody>\n",
       "</table>\n",
       "</div>"
      ],
      "text/plain": [
       "   Store        Date  Dept  Weekly_Sales  IsHoliday Type    Size  Temperature  \\\n",
       "0      1  2010-02-05     1      24924.50      False    A  151315        42.31   \n",
       "1      1  2010-02-12     1      46039.49       True    A  151315        38.51   \n",
       "2      1  2010-02-19     1      41595.55      False    A  151315        39.93   \n",
       "3      1  2010-02-26     1      19403.54      False    A  151315        46.63   \n",
       "4      1  2010-03-05     1      21827.90      False    A  151315        46.50   \n",
       "\n",
       "   Fuel_Price         CPI  Unemployment  \n",
       "0       2.572  211.096358         8.106  \n",
       "1       2.548  211.242170         8.106  \n",
       "2       2.514  211.289143         8.106  \n",
       "3       2.561  211.319643         8.106  \n",
       "4       2.625  211.350143         8.106  "
      ]
     },
     "execution_count": 207,
     "metadata": {},
     "output_type": "execute_result"
    }
   ],
   "source": [
    "df.head() "
   ]
  },
  {
   "cell_type": "markdown",
   "metadata": {},
   "source": [
    "Последние 5 наблюдений"
   ]
  },
  {
   "cell_type": "code",
   "execution_count": 99,
   "metadata": {
    "scrolled": true
   },
   "outputs": [
    {
     "data": {
      "text/html": [
       "<div>\n",
       "<style scoped>\n",
       "    .dataframe tbody tr th:only-of-type {\n",
       "        vertical-align: middle;\n",
       "    }\n",
       "\n",
       "    .dataframe tbody tr th {\n",
       "        vertical-align: top;\n",
       "    }\n",
       "\n",
       "    .dataframe thead th {\n",
       "        text-align: right;\n",
       "    }\n",
       "</style>\n",
       "<table border=\"1\" class=\"dataframe\">\n",
       "  <thead>\n",
       "    <tr style=\"text-align: right;\">\n",
       "      <th></th>\n",
       "      <th>Store</th>\n",
       "      <th>Date</th>\n",
       "      <th>Dept</th>\n",
       "      <th>Weekly_Sales</th>\n",
       "      <th>IsHoliday</th>\n",
       "      <th>Type</th>\n",
       "      <th>Size</th>\n",
       "      <th>Temperature</th>\n",
       "      <th>Fuel_Price</th>\n",
       "      <th>MarkDown1</th>\n",
       "      <th>MarkDown2</th>\n",
       "      <th>MarkDown3</th>\n",
       "      <th>MarkDown4</th>\n",
       "      <th>MarkDown5</th>\n",
       "      <th>CPI</th>\n",
       "      <th>Unemployment</th>\n",
       "    </tr>\n",
       "  </thead>\n",
       "  <tbody>\n",
       "    <tr>\n",
       "      <th>418234</th>\n",
       "      <td>45</td>\n",
       "      <td>2012-09-21</td>\n",
       "      <td>98</td>\n",
       "      <td>467.30</td>\n",
       "      <td>False</td>\n",
       "      <td>B</td>\n",
       "      <td>118221</td>\n",
       "      <td>65.32</td>\n",
       "      <td>4.038</td>\n",
       "      <td>8452.20</td>\n",
       "      <td>92.28</td>\n",
       "      <td>63.24</td>\n",
       "      <td>2376.38</td>\n",
       "      <td>8670.40</td>\n",
       "      <td>191.856704</td>\n",
       "      <td>8.684</td>\n",
       "    </tr>\n",
       "    <tr>\n",
       "      <th>418235</th>\n",
       "      <td>45</td>\n",
       "      <td>2012-09-28</td>\n",
       "      <td>98</td>\n",
       "      <td>508.37</td>\n",
       "      <td>False</td>\n",
       "      <td>B</td>\n",
       "      <td>118221</td>\n",
       "      <td>64.88</td>\n",
       "      <td>3.997</td>\n",
       "      <td>4556.61</td>\n",
       "      <td>20.64</td>\n",
       "      <td>1.50</td>\n",
       "      <td>1601.01</td>\n",
       "      <td>3288.25</td>\n",
       "      <td>192.013558</td>\n",
       "      <td>8.684</td>\n",
       "    </tr>\n",
       "    <tr>\n",
       "      <th>418236</th>\n",
       "      <td>45</td>\n",
       "      <td>2012-10-05</td>\n",
       "      <td>98</td>\n",
       "      <td>628.10</td>\n",
       "      <td>False</td>\n",
       "      <td>B</td>\n",
       "      <td>118221</td>\n",
       "      <td>64.89</td>\n",
       "      <td>3.985</td>\n",
       "      <td>5046.74</td>\n",
       "      <td>NaN</td>\n",
       "      <td>18.82</td>\n",
       "      <td>2253.43</td>\n",
       "      <td>2340.01</td>\n",
       "      <td>192.170412</td>\n",
       "      <td>8.667</td>\n",
       "    </tr>\n",
       "    <tr>\n",
       "      <th>418237</th>\n",
       "      <td>45</td>\n",
       "      <td>2012-10-12</td>\n",
       "      <td>98</td>\n",
       "      <td>1061.02</td>\n",
       "      <td>False</td>\n",
       "      <td>B</td>\n",
       "      <td>118221</td>\n",
       "      <td>54.47</td>\n",
       "      <td>4.000</td>\n",
       "      <td>1956.28</td>\n",
       "      <td>NaN</td>\n",
       "      <td>7.89</td>\n",
       "      <td>599.32</td>\n",
       "      <td>3990.54</td>\n",
       "      <td>192.327265</td>\n",
       "      <td>8.667</td>\n",
       "    </tr>\n",
       "    <tr>\n",
       "      <th>418238</th>\n",
       "      <td>45</td>\n",
       "      <td>2012-10-19</td>\n",
       "      <td>98</td>\n",
       "      <td>760.01</td>\n",
       "      <td>False</td>\n",
       "      <td>B</td>\n",
       "      <td>118221</td>\n",
       "      <td>56.47</td>\n",
       "      <td>3.969</td>\n",
       "      <td>2004.02</td>\n",
       "      <td>NaN</td>\n",
       "      <td>3.18</td>\n",
       "      <td>437.73</td>\n",
       "      <td>1537.49</td>\n",
       "      <td>192.330854</td>\n",
       "      <td>8.667</td>\n",
       "    </tr>\n",
       "  </tbody>\n",
       "</table>\n",
       "</div>"
      ],
      "text/plain": [
       "        Store        Date  Dept  Weekly_Sales  IsHoliday Type    Size  \\\n",
       "418234     45  2012-09-21    98        467.30      False    B  118221   \n",
       "418235     45  2012-09-28    98        508.37      False    B  118221   \n",
       "418236     45  2012-10-05    98        628.10      False    B  118221   \n",
       "418237     45  2012-10-12    98       1061.02      False    B  118221   \n",
       "418238     45  2012-10-19    98        760.01      False    B  118221   \n",
       "\n",
       "        Temperature  Fuel_Price  MarkDown1  MarkDown2  MarkDown3  MarkDown4  \\\n",
       "418234        65.32       4.038    8452.20      92.28      63.24    2376.38   \n",
       "418235        64.88       3.997    4556.61      20.64       1.50    1601.01   \n",
       "418236        64.89       3.985    5046.74        NaN      18.82    2253.43   \n",
       "418237        54.47       4.000    1956.28        NaN       7.89     599.32   \n",
       "418238        56.47       3.969    2004.02        NaN       3.18     437.73   \n",
       "\n",
       "        MarkDown5         CPI  Unemployment  \n",
       "418234    8670.40  191.856704         8.684  \n",
       "418235    3288.25  192.013558         8.684  \n",
       "418236    2340.01  192.170412         8.667  \n",
       "418237    3990.54  192.327265         8.667  \n",
       "418238    1537.49  192.330854         8.667  "
      ]
     },
     "execution_count": 99,
     "metadata": {},
     "output_type": "execute_result"
    }
   ],
   "source": [
    "df.tail() "
   ]
  },
  {
   "cell_type": "markdown",
   "metadata": {},
   "source": [
    "Количество наблюдений"
   ]
  },
  {
   "cell_type": "code",
   "execution_count": 100,
   "metadata": {},
   "outputs": [
    {
     "data": {
      "text/plain": [
       "418239"
      ]
     },
     "execution_count": 100,
     "metadata": {},
     "output_type": "execute_result"
    }
   ],
   "source": [
    "len(df.index)"
   ]
  },
  {
   "cell_type": "markdown",
   "metadata": {},
   "source": [
    "Количество переменных"
   ]
  },
  {
   "cell_type": "code",
   "execution_count": 103,
   "metadata": {},
   "outputs": [
    {
     "data": {
      "text/plain": [
       "16"
      ]
     },
     "execution_count": 103,
     "metadata": {},
     "output_type": "execute_result"
    }
   ],
   "source": [
    "df.shape[1]"
   ]
  },
  {
   "cell_type": "markdown",
   "metadata": {},
   "source": [
    "Тип переменных"
   ]
  },
  {
   "cell_type": "code",
   "execution_count": 52,
   "metadata": {},
   "outputs": [
    {
     "data": {
      "text/plain": [
       "Store             int64\n",
       "Date             object\n",
       "Dept              int64\n",
       "Weekly_Sales    float64\n",
       "IsHoliday          bool\n",
       "Type             object\n",
       "Size              int64\n",
       "Temperature     float64\n",
       "Fuel_Price      float64\n",
       "MarkDown1       float64\n",
       "MarkDown2       float64\n",
       "MarkDown3       float64\n",
       "MarkDown4       float64\n",
       "MarkDown5       float64\n",
       "CPI             float64\n",
       "Unemployment    float64\n",
       "dtype: object"
      ]
     },
     "execution_count": 52,
     "metadata": {},
     "output_type": "execute_result"
    }
   ],
   "source": [
    "df.dtypes"
   ]
  },
  {
   "cell_type": "markdown",
   "metadata": {},
   "source": [
    "Приведение даты к нормальному виду"
   ]
  },
  {
   "cell_type": "code",
   "execution_count": 55,
   "metadata": {},
   "outputs": [],
   "source": [
    "df['Date'] = pd.to_datetime(df['Date'])"
   ]
  },
  {
   "cell_type": "markdown",
   "metadata": {},
   "source": [
    "Проверим, все ли ок. Должно быть \"datetime64[ns]\"."
   ]
  },
  {
   "cell_type": "code",
   "execution_count": 56,
   "metadata": {},
   "outputs": [
    {
     "data": {
      "text/plain": [
       "Store                    int64\n",
       "Date            datetime64[ns]\n",
       "Dept                     int64\n",
       "Weekly_Sales           float64\n",
       "IsHoliday                 bool\n",
       "Type                    object\n",
       "Size                     int64\n",
       "Temperature            float64\n",
       "Fuel_Price             float64\n",
       "MarkDown1              float64\n",
       "MarkDown2              float64\n",
       "MarkDown3              float64\n",
       "MarkDown4              float64\n",
       "MarkDown5              float64\n",
       "CPI                    float64\n",
       "Unemployment           float64\n",
       "dtype: object"
      ]
     },
     "execution_count": 56,
     "metadata": {},
     "output_type": "execute_result"
    }
   ],
   "source": [
    "df.dtypes"
   ]
  },
  {
   "cell_type": "markdown",
   "metadata": {},
   "source": [
    "Все ок. Можно приступать ко второму пункту"
   ]
  },
  {
   "cell_type": "markdown",
   "metadata": {},
   "source": [
    "### Пункт 2"
   ]
  },
  {
   "cell_type": "markdown",
   "metadata": {},
   "source": [
    "Пропущенные значения в каждой переменной"
   ]
  },
  {
   "cell_type": "code",
   "execution_count": 211,
   "metadata": {},
   "outputs": [
    {
     "data": {
      "text/plain": [
       "Store           0.000000\n",
       "Date            0.000000\n",
       "Dept            0.000000\n",
       "Weekly_Sales    0.000000\n",
       "IsHoliday       0.000000\n",
       "Type            0.000000\n",
       "Size            0.000000\n",
       "Temperature     0.000000\n",
       "Fuel_Price      0.000000\n",
       "MarkDown1       0.647369\n",
       "MarkDown2       0.741430\n",
       "MarkDown3       0.678251\n",
       "MarkDown4       0.683638\n",
       "MarkDown5       0.645700\n",
       "CPI             0.000000\n",
       "Unemployment    0.000000\n",
       "dtype: float64"
      ]
     },
     "execution_count": 211,
     "metadata": {},
     "output_type": "execute_result"
    }
   ],
   "source": [
    "df.isna().sum() / len(df)"
   ]
  },
  {
   "cell_type": "markdown",
   "metadata": {},
   "source": [
    "Удалим те, у которых более 60%"
   ]
  },
  {
   "cell_type": "code",
   "execution_count": 216,
   "metadata": {},
   "outputs": [],
   "source": [
    "df = df.drop(columns=df.columns[(df.isna().sum() / len(df) > 0.6)],axis=1)"
   ]
  },
  {
   "cell_type": "markdown",
   "metadata": {},
   "source": [
    "Проверим, что все удалилось"
   ]
  },
  {
   "cell_type": "code",
   "execution_count": 217,
   "metadata": {},
   "outputs": [
    {
     "data": {
      "text/plain": [
       "Store           0.0\n",
       "Date            0.0\n",
       "Dept            0.0\n",
       "Weekly_Sales    0.0\n",
       "IsHoliday       0.0\n",
       "Type            0.0\n",
       "Size            0.0\n",
       "Temperature     0.0\n",
       "Fuel_Price      0.0\n",
       "CPI             0.0\n",
       "Unemployment    0.0\n",
       "dtype: float64"
      ]
     },
     "execution_count": 217,
     "metadata": {},
     "output_type": "execute_result"
    }
   ],
   "source": [
    "df.isna().sum() / len(df)"
   ]
  },
  {
   "cell_type": "markdown",
   "metadata": {},
   "source": [
    "### Пункт 3"
   ]
  },
  {
   "cell_type": "markdown",
   "metadata": {},
   "source": [
    "Посчитаем количество магазинов"
   ]
  },
  {
   "cell_type": "code",
   "execution_count": 110,
   "metadata": {},
   "outputs": [
    {
     "data": {
      "text/plain": [
       "45"
      ]
     },
     "execution_count": 110,
     "metadata": {},
     "output_type": "execute_result"
    }
   ],
   "source": [
    "df['Store'].nunique()"
   ]
  },
  {
   "cell_type": "markdown",
   "metadata": {},
   "source": [
    "Посчитаем количество отделов"
   ]
  },
  {
   "cell_type": "code",
   "execution_count": 111,
   "metadata": {},
   "outputs": [
    {
     "data": {
      "text/plain": [
       "81"
      ]
     },
     "execution_count": 111,
     "metadata": {},
     "output_type": "execute_result"
    }
   ],
   "source": [
    "df['Dept'].nunique()"
   ]
  },
  {
   "cell_type": "markdown",
   "metadata": {},
   "source": [
    "Посчитаем период времени"
   ]
  },
  {
   "cell_type": "code",
   "execution_count": 112,
   "metadata": {},
   "outputs": [
    {
     "data": {
      "text/plain": [
       "Timedelta('987 days 00:00:00')"
      ]
     },
     "execution_count": 112,
     "metadata": {},
     "output_type": "execute_result"
    }
   ],
   "source": [
    "pd.to_datetime(max(df['Date'])) - pd.to_datetime(min(df['Date']))"
   ]
  },
  {
   "cell_type": "markdown",
   "metadata": {},
   "source": [
    "Выходит ровно 987 дней"
   ]
  },
  {
   "cell_type": "markdown",
   "metadata": {},
   "source": [
    "### Пункт 4"
   ]
  },
  {
   "cell_type": "code",
   "execution_count": 193,
   "metadata": {},
   "outputs": [
    {
     "data": {
      "image/png": "[encoded data removed]",
      "text/plain": [
       "<Figure size 1800x720 with 1 Axes>"
      ]
     },
     "metadata": {
      "needs_background": "light"
     },
     "output_type": "display_data"
    }
   ],
   "source": [
    "ax = df[['Weekly_Sales', 'Date']].groupby('Date').sum().plot(figsize=(25,10), fontsize=15)\n",
    "ax.set_title('Sales',fontsize= 30)\n",
    "ax.set_xlabel(\"Dates\", fontsize= 15)\n",
    "ax.set_ylabel(\"Sales\", fontsize= 15);"
   ]
  },
  {
   "cell_type": "markdown",
   "metadata": {},
   "source": [
    "Как и ожидалось - наибольшее число покупок совершаются перед рождеством. p.s. формат даты yyyy-mm-dd, так как wallmart американская сеть и логично предположить что данные в реальной жизни придется адаптировать под особенности страны, поэтому я не стал изменять на dd-mm-yyyy, что является  форматом в Европе и в России."
   ]
  },
  {
   "cell_type": "markdown",
   "metadata": {},
   "source": [
    "### Пункт 5"
   ]
  },
  {
   "cell_type": "markdown",
   "metadata": {},
   "source": [
    "Для начала дропну некоторы категориальные и бинарные признаки"
   ]
  },
  {
   "cell_type": "code",
   "execution_count": 123,
   "metadata": {
    "scrolled": true
   },
   "outputs": [
    {
     "data": {
      "text/html": [
       "<div>\n",
       "<style scoped>\n",
       "    .dataframe tbody tr th:only-of-type {\n",
       "        vertical-align: middle;\n",
       "    }\n",
       "\n",
       "    .dataframe tbody tr th {\n",
       "        vertical-align: top;\n",
       "    }\n",
       "\n",
       "    .dataframe thead th {\n",
       "        text-align: right;\n",
       "    }\n",
       "</style>\n",
       "<table border=\"1\" class=\"dataframe\">\n",
       "  <thead>\n",
       "    <tr style=\"text-align: right;\">\n",
       "      <th></th>\n",
       "      <th>Date</th>\n",
       "      <th>Weekly_Sales</th>\n",
       "      <th>Type</th>\n",
       "      <th>Size</th>\n",
       "      <th>Temperature</th>\n",
       "      <th>Fuel_Price</th>\n",
       "      <th>CPI</th>\n",
       "      <th>Unemployment</th>\n",
       "    </tr>\n",
       "  </thead>\n",
       "  <tbody>\n",
       "    <tr>\n",
       "      <th>0</th>\n",
       "      <td>2010-02-05</td>\n",
       "      <td>24924.50</td>\n",
       "      <td>A</td>\n",
       "      <td>151315</td>\n",
       "      <td>42.31</td>\n",
       "      <td>2.572</td>\n",
       "      <td>211.096358</td>\n",
       "      <td>8.106</td>\n",
       "    </tr>\n",
       "    <tr>\n",
       "      <th>1</th>\n",
       "      <td>2010-02-12</td>\n",
       "      <td>46039.49</td>\n",
       "      <td>A</td>\n",
       "      <td>151315</td>\n",
       "      <td>38.51</td>\n",
       "      <td>2.548</td>\n",
       "      <td>211.242170</td>\n",
       "      <td>8.106</td>\n",
       "    </tr>\n",
       "    <tr>\n",
       "      <th>2</th>\n",
       "      <td>2010-02-19</td>\n",
       "      <td>41595.55</td>\n",
       "      <td>A</td>\n",
       "      <td>151315</td>\n",
       "      <td>39.93</td>\n",
       "      <td>2.514</td>\n",
       "      <td>211.289143</td>\n",
       "      <td>8.106</td>\n",
       "    </tr>\n",
       "    <tr>\n",
       "      <th>3</th>\n",
       "      <td>2010-02-26</td>\n",
       "      <td>19403.54</td>\n",
       "      <td>A</td>\n",
       "      <td>151315</td>\n",
       "      <td>46.63</td>\n",
       "      <td>2.561</td>\n",
       "      <td>211.319643</td>\n",
       "      <td>8.106</td>\n",
       "    </tr>\n",
       "    <tr>\n",
       "      <th>4</th>\n",
       "      <td>2010-03-05</td>\n",
       "      <td>21827.90</td>\n",
       "      <td>A</td>\n",
       "      <td>151315</td>\n",
       "      <td>46.50</td>\n",
       "      <td>2.625</td>\n",
       "      <td>211.350143</td>\n",
       "      <td>8.106</td>\n",
       "    </tr>\n",
       "    <tr>\n",
       "      <th>...</th>\n",
       "      <td>...</td>\n",
       "      <td>...</td>\n",
       "      <td>...</td>\n",
       "      <td>...</td>\n",
       "      <td>...</td>\n",
       "      <td>...</td>\n",
       "      <td>...</td>\n",
       "      <td>...</td>\n",
       "    </tr>\n",
       "    <tr>\n",
       "      <th>418234</th>\n",
       "      <td>2012-09-21</td>\n",
       "      <td>467.30</td>\n",
       "      <td>B</td>\n",
       "      <td>118221</td>\n",
       "      <td>65.32</td>\n",
       "      <td>4.038</td>\n",
       "      <td>191.856704</td>\n",
       "      <td>8.684</td>\n",
       "    </tr>\n",
       "    <tr>\n",
       "      <th>418235</th>\n",
       "      <td>2012-09-28</td>\n",
       "      <td>508.37</td>\n",
       "      <td>B</td>\n",
       "      <td>118221</td>\n",
       "      <td>64.88</td>\n",
       "      <td>3.997</td>\n",
       "      <td>192.013558</td>\n",
       "      <td>8.684</td>\n",
       "    </tr>\n",
       "    <tr>\n",
       "      <th>418236</th>\n",
       "      <td>2012-10-05</td>\n",
       "      <td>628.10</td>\n",
       "      <td>B</td>\n",
       "      <td>118221</td>\n",
       "      <td>64.89</td>\n",
       "      <td>3.985</td>\n",
       "      <td>192.170412</td>\n",
       "      <td>8.667</td>\n",
       "    </tr>\n",
       "    <tr>\n",
       "      <th>418237</th>\n",
       "      <td>2012-10-12</td>\n",
       "      <td>1061.02</td>\n",
       "      <td>B</td>\n",
       "      <td>118221</td>\n",
       "      <td>54.47</td>\n",
       "      <td>4.000</td>\n",
       "      <td>192.327265</td>\n",
       "      <td>8.667</td>\n",
       "    </tr>\n",
       "    <tr>\n",
       "      <th>418238</th>\n",
       "      <td>2012-10-19</td>\n",
       "      <td>760.01</td>\n",
       "      <td>B</td>\n",
       "      <td>118221</td>\n",
       "      <td>56.47</td>\n",
       "      <td>3.969</td>\n",
       "      <td>192.330854</td>\n",
       "      <td>8.667</td>\n",
       "    </tr>\n",
       "  </tbody>\n",
       "</table>\n",
       "<p>418239 rows × 8 columns</p>\n",
       "</div>"
      ],
      "text/plain": [
       "              Date  Weekly_Sales Type    Size  Temperature  Fuel_Price  \\\n",
       "0       2010-02-05      24924.50    A  151315        42.31       2.572   \n",
       "1       2010-02-12      46039.49    A  151315        38.51       2.548   \n",
       "2       2010-02-19      41595.55    A  151315        39.93       2.514   \n",
       "3       2010-02-26      19403.54    A  151315        46.63       2.561   \n",
       "4       2010-03-05      21827.90    A  151315        46.50       2.625   \n",
       "...            ...           ...  ...     ...          ...         ...   \n",
       "418234  2012-09-21        467.30    B  118221        65.32       4.038   \n",
       "418235  2012-09-28        508.37    B  118221        64.88       3.997   \n",
       "418236  2012-10-05        628.10    B  118221        64.89       3.985   \n",
       "418237  2012-10-12       1061.02    B  118221        54.47       4.000   \n",
       "418238  2012-10-19        760.01    B  118221        56.47       3.969   \n",
       "\n",
       "               CPI  Unemployment  \n",
       "0       211.096358         8.106  \n",
       "1       211.242170         8.106  \n",
       "2       211.289143         8.106  \n",
       "3       211.319643         8.106  \n",
       "4       211.350143         8.106  \n",
       "...            ...           ...  \n",
       "418234  191.856704         8.684  \n",
       "418235  192.013558         8.684  \n",
       "418236  192.170412         8.667  \n",
       "418237  192.327265         8.667  \n",
       "418238  192.330854         8.667  \n",
       "\n",
       "[418239 rows x 8 columns]"
      ]
     },
     "execution_count": 123,
     "metadata": {},
     "output_type": "execute_result"
    }
   ],
   "source": [
    "df.drop(['Store', 'Dept', 'IsHoliday'], axis=1)"
   ]
  },
  {
   "cell_type": "markdown",
   "metadata": {},
   "source": [
    "Воспользуемся seaborn для решения этой задачи"
   ]
  },
  {
   "cell_type": "code",
   "execution_count": 220,
   "metadata": {},
   "outputs": [
    {
     "data": {
      "image/png": "[encoded data removed]",
      "text/plain": [
       "<Figure size 432x288 with 2 Axes>"
      ]
     },
     "metadata": {
      "needs_background": "light"
     },
     "output_type": "display_data"
    }
   ],
   "source": [
    "sns.heatmap(df.corr(), annot=True, fmt='.2f', cmap='RdBu').set_title('Сorrelation matrix');"
   ]
  },
  {
   "cell_type": "markdown",
   "metadata": {},
   "source": [
    "### Пункт 6"
   ]
  },
  {
   "cell_type": "code",
   "execution_count": 178,
   "metadata": {},
   "outputs": [],
   "source": [
    "import plotly_express as px\n",
    "import matplotlib.pyplot as plt"
   ]
  },
  {
   "cell_type": "markdown",
   "metadata": {},
   "source": [
    "Сгрупирую и проссумирую по Store и посортирую по Weekly_Sales"
   ]
  },
  {
   "cell_type": "code",
   "execution_count": 205,
   "metadata": {
    "scrolled": true
   },
   "outputs": [
    {
     "data": {
      "text/html": [
       "<div>\n",
       "<style scoped>\n",
       "    .dataframe tbody tr th:only-of-type {\n",
       "        vertical-align: middle;\n",
       "    }\n",
       "\n",
       "    .dataframe tbody tr th {\n",
       "        vertical-align: top;\n",
       "    }\n",
       "\n",
       "    .dataframe thead th {\n",
       "        text-align: right;\n",
       "    }\n",
       "</style>\n",
       "<table border=\"1\" class=\"dataframe\">\n",
       "  <thead>\n",
       "    <tr style=\"text-align: right;\">\n",
       "      <th></th>\n",
       "      <th>Dept</th>\n",
       "      <th>Weekly_Sales</th>\n",
       "      <th>IsHoliday</th>\n",
       "      <th>Size</th>\n",
       "      <th>Temperature</th>\n",
       "      <th>Fuel_Price</th>\n",
       "      <th>CPI</th>\n",
       "      <th>Unemployment</th>\n",
       "    </tr>\n",
       "    <tr>\n",
       "      <th>Store</th>\n",
       "      <th></th>\n",
       "      <th></th>\n",
       "      <th></th>\n",
       "      <th></th>\n",
       "      <th></th>\n",
       "      <th></th>\n",
       "      <th></th>\n",
       "      <th></th>\n",
       "    </tr>\n",
       "  </thead>\n",
       "  <tbody>\n",
       "    <tr>\n",
       "      <th>20</th>\n",
       "      <td>446829</td>\n",
       "      <td>2.993660e+08</td>\n",
       "      <td>723.0</td>\n",
       "      <td>2065128912</td>\n",
       "      <td>560723.35</td>\n",
       "      <td>34616.513</td>\n",
       "      <td>2.118369e+06</td>\n",
       "      <td>74717.345</td>\n",
       "    </tr>\n",
       "    <tr>\n",
       "      <th>4</th>\n",
       "      <td>453767</td>\n",
       "      <td>2.973940e+08</td>\n",
       "      <td>727.0</td>\n",
       "      <td>2098567422</td>\n",
       "      <td>633722.02</td>\n",
       "      <td>32764.265</td>\n",
       "      <td>1.311579e+06</td>\n",
       "      <td>60970.545</td>\n",
       "    </tr>\n",
       "    <tr>\n",
       "      <th>14</th>\n",
       "      <td>438511</td>\n",
       "      <td>2.872952e+08</td>\n",
       "      <td>701.0</td>\n",
       "      <td>2001546774</td>\n",
       "      <td>575782.53</td>\n",
       "      <td>34016.298</td>\n",
       "      <td>1.855545e+06</td>\n",
       "      <td>86170.930</td>\n",
       "    </tr>\n",
       "    <tr>\n",
       "      <th>13</th>\n",
       "      <td>463765</td>\n",
       "      <td>2.844811e+08</td>\n",
       "      <td>738.0</td>\n",
       "      <td>2282970690</td>\n",
       "      <td>557680.60</td>\n",
       "      <td>34107.434</td>\n",
       "      <td>1.337375e+06</td>\n",
       "      <td>72921.892</td>\n",
       "    </tr>\n",
       "    <tr>\n",
       "      <th>2</th>\n",
       "      <td>451852</td>\n",
       "      <td>2.735476e+08</td>\n",
       "      <td>722.0</td>\n",
       "      <td>2055439120</td>\n",
       "      <td>691853.55</td>\n",
       "      <td>32693.814</td>\n",
       "      <td>2.190477e+06</td>\n",
       "      <td>77559.623</td>\n",
       "    </tr>\n",
       "  </tbody>\n",
       "</table>\n",
       "</div>"
      ],
      "text/plain": [
       "         Dept  Weekly_Sales  IsHoliday        Size  Temperature  Fuel_Price  \\\n",
       "Store                                                                         \n",
       "20     446829  2.993660e+08      723.0  2065128912    560723.35   34616.513   \n",
       "4      453767  2.973940e+08      727.0  2098567422    633722.02   32764.265   \n",
       "14     438511  2.872952e+08      701.0  2001546774    575782.53   34016.298   \n",
       "13     463765  2.844811e+08      738.0  2282970690    557680.60   34107.434   \n",
       "2      451852  2.735476e+08      722.0  2055439120    691853.55   32693.814   \n",
       "\n",
       "                CPI  Unemployment  \n",
       "Store                              \n",
       "20     2.118369e+06     74717.345  \n",
       "4      1.311579e+06     60970.545  \n",
       "14     1.855545e+06     86170.930  \n",
       "13     1.337375e+06     72921.892  \n",
       "2      2.190477e+06     77559.623  "
      ]
     },
     "execution_count": 205,
     "metadata": {},
     "output_type": "execute_result"
    }
   ],
   "source": [
    "df.groupby(['Store']).sum().sort_values(by=['Weekly_Sales'], ascending=False).head()"
   ]
  },
  {
   "cell_type": "markdown",
   "metadata": {},
   "source": [
    "Перейду к графику"
   ]
  },
  {
   "cell_type": "code",
   "execution_count": 376,
   "metadata": {},
   "outputs": [],
   "source": [
    "task6df = df.groupby(['Store'], as_index=False).sum().sort_values(by=['Weekly_Sales'], ascending=False).head()"
   ]
  },
  {
   "cell_type": "code",
   "execution_count": 380,
   "metadata": {},
   "outputs": [
    {
     "data": {
      "image/png": "[encoded data removed]",
      "text/plain": [
       "<Figure size 432x288 with 1 Axes>"
      ]
     },
     "metadata": {
      "needs_background": "light"
     },
     "output_type": "display_data"
    }
   ],
   "source": [
    "height = task6df['Weekly_Sales']\n",
    "bars = task6df['Store']\n",
    "y_pos = [i for i in range(5)]\n",
    "plt.bar(y_pos, height, color='orange', edgecolor='black')\n",
    " \n",
    "# Create names on the x-axis\n",
    "plt.xticks(y_pos, bars)\n",
    "plt.title('Best seller stores', fontsize=16)\n",
    "plt.xlabel('Stores', fontsize=12)\n",
    "plt.ylabel('Sales, $*10^8$', fontsize=12)\n",
    "# Show graphic\n",
    "plt.show()\n"
   ]
  },
  {
   "cell_type": "markdown",
   "metadata": {},
   "source": [
    "### Пункт 7"
   ]
  },
  {
   "cell_type": "markdown",
   "metadata": {},
   "source": [
    "Новый DF в котором только департаменты типа А"
   ]
  },
  {
   "cell_type": "code",
   "execution_count": 224,
   "metadata": {},
   "outputs": [
    {
     "data": {
      "text/html": [
       "<div>\n",
       "<style scoped>\n",
       "    .dataframe tbody tr th:only-of-type {\n",
       "        vertical-align: middle;\n",
       "    }\n",
       "\n",
       "    .dataframe tbody tr th {\n",
       "        vertical-align: top;\n",
       "    }\n",
       "\n",
       "    .dataframe thead th {\n",
       "        text-align: right;\n",
       "    }\n",
       "</style>\n",
       "<table border=\"1\" class=\"dataframe\">\n",
       "  <thead>\n",
       "    <tr style=\"text-align: right;\">\n",
       "      <th></th>\n",
       "      <th>Store</th>\n",
       "      <th>Date</th>\n",
       "      <th>Dept</th>\n",
       "      <th>Weekly_Sales</th>\n",
       "      <th>IsHoliday</th>\n",
       "      <th>Type</th>\n",
       "      <th>Size</th>\n",
       "      <th>Temperature</th>\n",
       "      <th>Fuel_Price</th>\n",
       "      <th>CPI</th>\n",
       "      <th>Unemployment</th>\n",
       "    </tr>\n",
       "  </thead>\n",
       "  <tbody>\n",
       "    <tr>\n",
       "      <th>0</th>\n",
       "      <td>1</td>\n",
       "      <td>2010-02-05</td>\n",
       "      <td>1</td>\n",
       "      <td>24924.50</td>\n",
       "      <td>False</td>\n",
       "      <td>A</td>\n",
       "      <td>151315</td>\n",
       "      <td>42.31</td>\n",
       "      <td>2.572</td>\n",
       "      <td>211.096358</td>\n",
       "      <td>8.106</td>\n",
       "    </tr>\n",
       "    <tr>\n",
       "      <th>1</th>\n",
       "      <td>1</td>\n",
       "      <td>2010-02-12</td>\n",
       "      <td>1</td>\n",
       "      <td>46039.49</td>\n",
       "      <td>True</td>\n",
       "      <td>A</td>\n",
       "      <td>151315</td>\n",
       "      <td>38.51</td>\n",
       "      <td>2.548</td>\n",
       "      <td>211.242170</td>\n",
       "      <td>8.106</td>\n",
       "    </tr>\n",
       "    <tr>\n",
       "      <th>2</th>\n",
       "      <td>1</td>\n",
       "      <td>2010-02-19</td>\n",
       "      <td>1</td>\n",
       "      <td>41595.55</td>\n",
       "      <td>False</td>\n",
       "      <td>A</td>\n",
       "      <td>151315</td>\n",
       "      <td>39.93</td>\n",
       "      <td>2.514</td>\n",
       "      <td>211.289143</td>\n",
       "      <td>8.106</td>\n",
       "    </tr>\n",
       "    <tr>\n",
       "      <th>3</th>\n",
       "      <td>1</td>\n",
       "      <td>2010-02-26</td>\n",
       "      <td>1</td>\n",
       "      <td>19403.54</td>\n",
       "      <td>False</td>\n",
       "      <td>A</td>\n",
       "      <td>151315</td>\n",
       "      <td>46.63</td>\n",
       "      <td>2.561</td>\n",
       "      <td>211.319643</td>\n",
       "      <td>8.106</td>\n",
       "    </tr>\n",
       "    <tr>\n",
       "      <th>4</th>\n",
       "      <td>1</td>\n",
       "      <td>2010-03-05</td>\n",
       "      <td>1</td>\n",
       "      <td>21827.90</td>\n",
       "      <td>False</td>\n",
       "      <td>A</td>\n",
       "      <td>151315</td>\n",
       "      <td>46.50</td>\n",
       "      <td>2.625</td>\n",
       "      <td>211.350143</td>\n",
       "      <td>8.106</td>\n",
       "    </tr>\n",
       "    <tr>\n",
       "      <th>...</th>\n",
       "      <td>...</td>\n",
       "      <td>...</td>\n",
       "      <td>...</td>\n",
       "      <td>...</td>\n",
       "      <td>...</td>\n",
       "      <td>...</td>\n",
       "      <td>...</td>\n",
       "      <td>...</td>\n",
       "      <td>...</td>\n",
       "      <td>...</td>\n",
       "      <td>...</td>\n",
       "    </tr>\n",
       "    <tr>\n",
       "      <th>387983</th>\n",
       "      <td>41</td>\n",
       "      <td>2012-09-07</td>\n",
       "      <td>99</td>\n",
       "      <td>20.12</td>\n",
       "      <td>True</td>\n",
       "      <td>A</td>\n",
       "      <td>196321</td>\n",
       "      <td>67.41</td>\n",
       "      <td>3.596</td>\n",
       "      <td>198.095048</td>\n",
       "      <td>6.432</td>\n",
       "    </tr>\n",
       "    <tr>\n",
       "      <th>387984</th>\n",
       "      <td>41</td>\n",
       "      <td>2012-09-14</td>\n",
       "      <td>99</td>\n",
       "      <td>0.10</td>\n",
       "      <td>False</td>\n",
       "      <td>A</td>\n",
       "      <td>196321</td>\n",
       "      <td>59.39</td>\n",
       "      <td>3.659</td>\n",
       "      <td>198.126718</td>\n",
       "      <td>6.432</td>\n",
       "    </tr>\n",
       "    <tr>\n",
       "      <th>387985</th>\n",
       "      <td>41</td>\n",
       "      <td>2012-09-21</td>\n",
       "      <td>99</td>\n",
       "      <td>0.08</td>\n",
       "      <td>False</td>\n",
       "      <td>A</td>\n",
       "      <td>196321</td>\n",
       "      <td>59.81</td>\n",
       "      <td>3.765</td>\n",
       "      <td>198.358523</td>\n",
       "      <td>6.432</td>\n",
       "    </tr>\n",
       "    <tr>\n",
       "      <th>387986</th>\n",
       "      <td>41</td>\n",
       "      <td>2012-10-05</td>\n",
       "      <td>99</td>\n",
       "      <td>934.88</td>\n",
       "      <td>False</td>\n",
       "      <td>A</td>\n",
       "      <td>196321</td>\n",
       "      <td>50.14</td>\n",
       "      <td>3.779</td>\n",
       "      <td>198.822132</td>\n",
       "      <td>6.195</td>\n",
       "    </tr>\n",
       "    <tr>\n",
       "      <th>387987</th>\n",
       "      <td>41</td>\n",
       "      <td>2012-10-12</td>\n",
       "      <td>99</td>\n",
       "      <td>230.03</td>\n",
       "      <td>False</td>\n",
       "      <td>A</td>\n",
       "      <td>196321</td>\n",
       "      <td>39.38</td>\n",
       "      <td>3.760</td>\n",
       "      <td>199.053937</td>\n",
       "      <td>6.195</td>\n",
       "    </tr>\n",
       "  </tbody>\n",
       "</table>\n",
       "<p>213807 rows × 11 columns</p>\n",
       "</div>"
      ],
      "text/plain": [
       "        Store        Date  Dept  Weekly_Sales  IsHoliday Type    Size  \\\n",
       "0           1  2010-02-05     1      24924.50      False    A  151315   \n",
       "1           1  2010-02-12     1      46039.49       True    A  151315   \n",
       "2           1  2010-02-19     1      41595.55      False    A  151315   \n",
       "3           1  2010-02-26     1      19403.54      False    A  151315   \n",
       "4           1  2010-03-05     1      21827.90      False    A  151315   \n",
       "...       ...         ...   ...           ...        ...  ...     ...   \n",
       "387983     41  2012-09-07    99         20.12       True    A  196321   \n",
       "387984     41  2012-09-14    99          0.10      False    A  196321   \n",
       "387985     41  2012-09-21    99          0.08      False    A  196321   \n",
       "387986     41  2012-10-05    99        934.88      False    A  196321   \n",
       "387987     41  2012-10-12    99        230.03      False    A  196321   \n",
       "\n",
       "        Temperature  Fuel_Price         CPI  Unemployment  \n",
       "0             42.31       2.572  211.096358         8.106  \n",
       "1             38.51       2.548  211.242170         8.106  \n",
       "2             39.93       2.514  211.289143         8.106  \n",
       "3             46.63       2.561  211.319643         8.106  \n",
       "4             46.50       2.625  211.350143         8.106  \n",
       "...             ...         ...         ...           ...  \n",
       "387983        67.41       3.596  198.095048         6.432  \n",
       "387984        59.39       3.659  198.126718         6.432  \n",
       "387985        59.81       3.765  198.358523         6.432  \n",
       "387986        50.14       3.779  198.822132         6.195  \n",
       "387987        39.38       3.760  199.053937         6.195  \n",
       "\n",
       "[213807 rows x 11 columns]"
      ]
     },
     "execution_count": 224,
     "metadata": {},
     "output_type": "execute_result"
    }
   ],
   "source": [
    "newdf = df.groupby('Type').get_group('A')\n",
    "newdf"
   ]
  },
  {
   "cell_type": "markdown",
   "metadata": {},
   "source": [
    "Выделим групы департаментов и отсортируем по Weekly_Sales"
   ]
  },
  {
   "cell_type": "code",
   "execution_count": 232,
   "metadata": {
    "scrolled": true
   },
   "outputs": [
    {
     "data": {
      "text/html": [
       "<div>\n",
       "<style scoped>\n",
       "    .dataframe tbody tr th:only-of-type {\n",
       "        vertical-align: middle;\n",
       "    }\n",
       "\n",
       "    .dataframe tbody tr th {\n",
       "        vertical-align: top;\n",
       "    }\n",
       "\n",
       "    .dataframe thead th {\n",
       "        text-align: right;\n",
       "    }\n",
       "</style>\n",
       "<table border=\"1\" class=\"dataframe\">\n",
       "  <thead>\n",
       "    <tr style=\"text-align: right;\">\n",
       "      <th></th>\n",
       "      <th>Store</th>\n",
       "      <th>Weekly_Sales</th>\n",
       "      <th>IsHoliday</th>\n",
       "      <th>Size</th>\n",
       "      <th>Temperature</th>\n",
       "      <th>Fuel_Price</th>\n",
       "      <th>CPI</th>\n",
       "      <th>Unemployment</th>\n",
       "    </tr>\n",
       "    <tr>\n",
       "      <th>Dept</th>\n",
       "      <th></th>\n",
       "      <th></th>\n",
       "      <th></th>\n",
       "      <th></th>\n",
       "      <th></th>\n",
       "      <th></th>\n",
       "      <th></th>\n",
       "      <th></th>\n",
       "    </tr>\n",
       "  </thead>\n",
       "  <tbody>\n",
       "    <tr>\n",
       "      <th>92</th>\n",
       "      <td>69438</td>\n",
       "      <td>3.503512e+08</td>\n",
       "      <td>220.0</td>\n",
       "      <td>553721900</td>\n",
       "      <td>190644.62</td>\n",
       "      <td>10439.512</td>\n",
       "      <td>544961.156541</td>\n",
       "      <td>24406.315</td>\n",
       "    </tr>\n",
       "    <tr>\n",
       "      <th>95</th>\n",
       "      <td>69438</td>\n",
       "      <td>3.034455e+08</td>\n",
       "      <td>220.0</td>\n",
       "      <td>553721900</td>\n",
       "      <td>190644.62</td>\n",
       "      <td>10439.512</td>\n",
       "      <td>544961.156541</td>\n",
       "      <td>24406.315</td>\n",
       "    </tr>\n",
       "    <tr>\n",
       "      <th>90</th>\n",
       "      <td>69438</td>\n",
       "      <td>2.203874e+08</td>\n",
       "      <td>220.0</td>\n",
       "      <td>553721900</td>\n",
       "      <td>190644.62</td>\n",
       "      <td>10439.512</td>\n",
       "      <td>544961.156541</td>\n",
       "      <td>24406.315</td>\n",
       "    </tr>\n",
       "    <tr>\n",
       "      <th>38</th>\n",
       "      <td>69438</td>\n",
       "      <td>2.031445e+08</td>\n",
       "      <td>220.0</td>\n",
       "      <td>553721900</td>\n",
       "      <td>190644.62</td>\n",
       "      <td>10439.512</td>\n",
       "      <td>544961.156541</td>\n",
       "      <td>24406.315</td>\n",
       "    </tr>\n",
       "    <tr>\n",
       "      <th>72</th>\n",
       "      <td>60165</td>\n",
       "      <td>1.774588e+08</td>\n",
       "      <td>201.0</td>\n",
       "      <td>543016250</td>\n",
       "      <td>170806.55</td>\n",
       "      <td>9530.754</td>\n",
       "      <td>499039.165949</td>\n",
       "      <td>22189.284</td>\n",
       "    </tr>\n",
       "    <tr>\n",
       "      <th>91</th>\n",
       "      <td>69438</td>\n",
       "      <td>1.679659e+08</td>\n",
       "      <td>220.0</td>\n",
       "      <td>553721900</td>\n",
       "      <td>190644.62</td>\n",
       "      <td>10439.512</td>\n",
       "      <td>544961.156541</td>\n",
       "      <td>24406.315</td>\n",
       "    </tr>\n",
       "    <tr>\n",
       "      <th>40</th>\n",
       "      <td>69438</td>\n",
       "      <td>1.675846e+08</td>\n",
       "      <td>220.0</td>\n",
       "      <td>553721900</td>\n",
       "      <td>190644.62</td>\n",
       "      <td>10439.512</td>\n",
       "      <td>544961.156541</td>\n",
       "      <td>24406.315</td>\n",
       "    </tr>\n",
       "    <tr>\n",
       "      <th>2</th>\n",
       "      <td>69438</td>\n",
       "      <td>1.624953e+08</td>\n",
       "      <td>220.0</td>\n",
       "      <td>553721900</td>\n",
       "      <td>190644.62</td>\n",
       "      <td>10439.512</td>\n",
       "      <td>544961.156541</td>\n",
       "      <td>24406.315</td>\n",
       "    </tr>\n",
       "    <tr>\n",
       "      <th>94</th>\n",
       "      <td>69438</td>\n",
       "      <td>1.595790e+08</td>\n",
       "      <td>220.0</td>\n",
       "      <td>553721900</td>\n",
       "      <td>190644.62</td>\n",
       "      <td>10439.512</td>\n",
       "      <td>544961.156541</td>\n",
       "      <td>24406.315</td>\n",
       "    </tr>\n",
       "    <tr>\n",
       "      <th>93</th>\n",
       "      <td>69438</td>\n",
       "      <td>1.353205e+08</td>\n",
       "      <td>220.0</td>\n",
       "      <td>553721900</td>\n",
       "      <td>190644.62</td>\n",
       "      <td>10439.512</td>\n",
       "      <td>544961.156541</td>\n",
       "      <td>24406.315</td>\n",
       "    </tr>\n",
       "  </tbody>\n",
       "</table>\n",
       "</div>"
      ],
      "text/plain": [
       "      Store  Weekly_Sales  IsHoliday       Size  Temperature  Fuel_Price  \\\n",
       "Dept                                                                       \n",
       "92    69438  3.503512e+08      220.0  553721900    190644.62   10439.512   \n",
       "95    69438  3.034455e+08      220.0  553721900    190644.62   10439.512   \n",
       "90    69438  2.203874e+08      220.0  553721900    190644.62   10439.512   \n",
       "38    69438  2.031445e+08      220.0  553721900    190644.62   10439.512   \n",
       "72    60165  1.774588e+08      201.0  543016250    170806.55    9530.754   \n",
       "91    69438  1.679659e+08      220.0  553721900    190644.62   10439.512   \n",
       "40    69438  1.675846e+08      220.0  553721900    190644.62   10439.512   \n",
       "2     69438  1.624953e+08      220.0  553721900    190644.62   10439.512   \n",
       "94    69438  1.595790e+08      220.0  553721900    190644.62   10439.512   \n",
       "93    69438  1.353205e+08      220.0  553721900    190644.62   10439.512   \n",
       "\n",
       "                CPI  Unemployment  \n",
       "Dept                               \n",
       "92    544961.156541     24406.315  \n",
       "95    544961.156541     24406.315  \n",
       "90    544961.156541     24406.315  \n",
       "38    544961.156541     24406.315  \n",
       "72    499039.165949     22189.284  \n",
       "91    544961.156541     24406.315  \n",
       "40    544961.156541     24406.315  \n",
       "2     544961.156541     24406.315  \n",
       "94    544961.156541     24406.315  \n",
       "93    544961.156541     24406.315  "
      ]
     },
     "execution_count": 232,
     "metadata": {},
     "output_type": "execute_result"
    }
   ],
   "source": [
    "newdf.groupby(['Dept']).sum().sort_values(by=['Weekly_Sales'], ascending=False).head(n=10)"
   ]
  },
  {
   "cell_type": "markdown",
   "metadata": {},
   "source": [
    "Перейду к графику"
   ]
  },
  {
   "cell_type": "code",
   "execution_count": 343,
   "metadata": {},
   "outputs": [],
   "source": [
    "df_depts = newdf.groupby(['Dept'], as_index=False).sum().sort_values(by=['Weekly_Sales'], ascending=False).head(n=10)"
   ]
  },
  {
   "cell_type": "code",
   "execution_count": 382,
   "metadata": {},
   "outputs": [
    {
     "data": {
      "image/png": "[encoded data removed]",
      "text/plain": [
       "<Figure size 432x288 with 1 Axes>"
      ]
     },
     "metadata": {
      "needs_background": "light"
     },
     "output_type": "display_data"
    }
   ],
   "source": [
    "import matplotlib.pyplot as plt\n",
    "height = df_depts['Weekly_Sales']\n",
    "bars = df_depts['Dept']\n",
    "y_pos = [i for i in range(10)]\n",
    "plt.bar(y_pos, height, color='orange', edgecolor='black')\n",
    " \n",
    "# Create names on the x-axis\n",
    "plt.xticks(y_pos, bars)\n",
    "plt.title('Best seller departments', fontsize=16)\n",
    "plt.xlabel('Departments', fontsize=12)\n",
    "plt.ylabel('Sales, $*10^8$', fontsize=12)\n",
    "# Show graphic\n",
    "plt.show()\n"
   ]
  },
  {
   "cell_type": "markdown",
   "metadata": {},
   "source": [
    "## 5. Парадокс дней рождений (30 баллов)"
   ]
  },
  {
   "cell_type": "markdown",
   "metadata": {},
   "source": [
    "Прочитайте на википедии про [парадокс дней рождений](https://ru.wikipedia.org/wiki/Парадокс_дней_рождения). В этой задаче нам предстоит его проверить. Итак, в произвольной группе из  $50$ человек вероятность того, что хотя бы у двоих людей дни рождения совпадут, равна  $0.97$. Но это всё только в теории. При решении задачи мы предполагаем, что рождения людей равномерно распределены в течение года. Однако на практике это может быть не так. В связи с этим реальная вероятность может отличаться от теоретической.\n",
    "\n",
    "В этой задачке вам предстоит проверить парадокс дней рождений на эмпирических данных. От вас требуется:\n",
    "1. Выбрать какое-то большое сообщество в Vk. С помощью VkAPI выкачать инфорацию по ее подписчикам (самое главное это дата рождения, а также id пользователя, который будет его характеризовать. Не оставляйте свой токен \n",
    "2. Удалите из данных всех, кто не указал когда он родился. Приведите колонку с датами рождений к удобному, однообразному виду.\n",
    "3. Постройте гистограмму, на которой было бы понятно, в какой месяц родилось какое количество людей. Правда ли, что рождаемость людей в течение года распределена равномерно?\n",
    "4. Эмпирически оцените вероятность того, что в группе из 50 произвольных людей найдутся хотя бы двое с одинаковым днём рождения. Для этого напишите цикл, в ходе которого из таблички будет делаться подвыборка из 50 строк. Для этих 50 строк внутри условия вы должны проверить совпадение дней рождений. Если совпало, то нужно запомнить это в переменную счётчик, которую вы впоследствии, чтобы получить вероятность, поделите на длину цикла.\n",
    "\n",
    "**Обратите внимание, что часто придётся прогонять один и тот же код. Не надо его копировать. Оформите его в виде функции.** "
   ]
  },
  {
   "cell_type": "markdown",
   "metadata": {},
   "source": [
    "### Решение пунктов 1, 2 и 3"
   ]
  },
  {
   "cell_type": "markdown",
   "metadata": {},
   "source": [
    "Прежде чем запустить скрипт, посмотрите гистограмму снизу. Потому иначе у вас будет fake credentials и/или captcha needed и вам придется вводить свои данные от вк :):):):). BTW, приятная таблица находится в пункте 4 в pd dataframe"
   ]
  },
  {
   "cell_type": "code",
   "execution_count": 268,
   "metadata": {},
   "outputs": [
    {
     "name": "stdout",
     "output_type": "stream",
     "text": [
      "All data saved to csv | vk_data.csv\n"
     ]
    },
    {
     "data": {
      "image/png": "[encoded data removed]",
      "text/plain": [
       "<Figure size 432x288 with 1 Axes>"
      ]
     },
     "metadata": {
      "needs_background": "light"
     },
     "output_type": "display_data"
    }
   ],
   "source": [
    "import vk_api\n",
    "import random\n",
    "import csv\n",
    "import time\n",
    "import numpy as np\n",
    "from matplotlib import pyplot as plt\n",
    "%matplotlib inline \n",
    "\n",
    "import pandas as pd\n",
    "# csv first\n",
    "with open('vk_data.csv', 'w') as new_file:\n",
    "                # csv\n",
    "                fieldnames = ['id', 'bdate', 'bmonth', 'byear', 'dandm']\n",
    "\n",
    "                csv_writer = csv.DictWriter(new_file, fieldnames=fieldnames, delimiter=',')\n",
    "\n",
    "                csv_writer.writeheader()\n",
    "\n",
    "                newDict = dict()\n",
    "                # parsing\n",
    "                vk_session = vk_api.VkApi('username', 'password')\n",
    "                vk_session.auth()\n",
    "\n",
    "                vk = vk_session.get_api()\n",
    "                \n",
    "                vk_group = vk.groups.getMembers(group_id = 'mudakoff', fields = 'bdate')\n",
    "                \n",
    "                \n",
    "                for i in range(0, 20):\n",
    "                    vk_group = vk.groups.getMembers(group_id = 'mudakoff', offset = 1000 * i,  fields = 'bdate')\n",
    "                    for k in range(0, 1000):\n",
    "                        try:\n",
    "                            new_file.write(str(vk_group['items'][k][\"id\"]) + ',' + str(vk_group['items'][k][\"bdate\"]).replace('.', ','))\n",
    "                            new_file.write('\\n')\n",
    "                        except:\n",
    "                            pass\n",
    "                \n",
    "                print('All data saved to csv | vk_data.csv')\n",
    "                \n",
    "                # task 3\n",
    "                my_csv = pd.read_csv('vk_data.csv')\n",
    "                column = my_csv.bmonth\n",
    "                a = ['Jan', 'Feb', 'Mar', 'Apr', 'May', 'Jun', 'Jul', 'Aug', 'Sep', 'Oct', 'Nov', 'Dec']\n",
    "                ypos = np.arange(len(a))\n",
    "                # histogram\n",
    "                plt.hist(my_csv.bmonth, rwidth=2, histtype='bar', color='green', alpha=1, edgecolor='black', bins=np.arange(1,np.max(my_csv.bmonth)+2)-0.5)\n",
    "                plt.xlabel('Months')\n",
    "                plt.xticks(ypos + 1, a)\n",
    "                plt.ylabel('Frequency')\n",
    "                plt.title('Birthday problem')"
   ]
  },
  {
   "cell_type": "markdown",
   "metadata": {},
   "source": [
    "Ответ на вопрос про равновероятность: Дни рождения по месяцам не являются равновероятнотными событиями, что в целом дотстаточно логично - это всего лишь предпосылка для решения проблемы дней рождений. Очевидно, что будут наблюдаться различные сезонные являения, для различных локаций. Почему-то июль наиболее популярный месяц для дня рождения подписчиков МДК."
   ]
  },
  {
   "cell_type": "markdown",
   "metadata": {},
   "source": [
    "### Пункт 4"
   ]
  },
  {
   "cell_type": "markdown",
   "metadata": {},
   "source": [
    "Его делаю отдельно не просто так. За большое количество запросов ВК может начать выдавать Каптчу из-за чего выполнение скрипта будет невозможно."
   ]
  },
  {
   "cell_type": "code",
   "execution_count": 269,
   "metadata": {},
   "outputs": [],
   "source": [
    "import random\n",
    "import csv\n",
    "import numpy as np\n",
    "from matplotlib import pyplot as plt\n",
    "%matplotlib inline \n",
    "import pandas as pd"
   ]
  },
  {
   "cell_type": "code",
   "execution_count": 277,
   "metadata": {},
   "outputs": [
    {
     "data": {
      "text/html": [
       "<div>\n",
       "<style scoped>\n",
       "    .dataframe tbody tr th:only-of-type {\n",
       "        vertical-align: middle;\n",
       "    }\n",
       "\n",
       "    .dataframe tbody tr th {\n",
       "        vertical-align: top;\n",
       "    }\n",
       "\n",
       "    .dataframe thead th {\n",
       "        text-align: right;\n",
       "    }\n",
       "</style>\n",
       "<table border=\"1\" class=\"dataframe\">\n",
       "  <thead>\n",
       "    <tr style=\"text-align: right;\">\n",
       "      <th></th>\n",
       "      <th>id</th>\n",
       "      <th>bdate</th>\n",
       "      <th>bmonth</th>\n",
       "      <th>dandm</th>\n",
       "    </tr>\n",
       "  </thead>\n",
       "  <tbody>\n",
       "    <tr>\n",
       "      <th>0</th>\n",
       "      <td>177</td>\n",
       "      <td>23</td>\n",
       "      <td>4</td>\n",
       "      <td>23,4</td>\n",
       "    </tr>\n",
       "    <tr>\n",
       "      <th>1</th>\n",
       "      <td>345</td>\n",
       "      <td>19</td>\n",
       "      <td>10</td>\n",
       "      <td>19,10</td>\n",
       "    </tr>\n",
       "    <tr>\n",
       "      <th>2</th>\n",
       "      <td>1080</td>\n",
       "      <td>4</td>\n",
       "      <td>7</td>\n",
       "      <td>4,7</td>\n",
       "    </tr>\n",
       "    <tr>\n",
       "      <th>3</th>\n",
       "      <td>1232</td>\n",
       "      <td>16</td>\n",
       "      <td>6</td>\n",
       "      <td>16,6</td>\n",
       "    </tr>\n",
       "    <tr>\n",
       "      <th>4</th>\n",
       "      <td>1295</td>\n",
       "      <td>6</td>\n",
       "      <td>6</td>\n",
       "      <td>6,6</td>\n",
       "    </tr>\n",
       "  </tbody>\n",
       "</table>\n",
       "</div>"
      ],
      "text/plain": [
       "     id  bdate  bmonth  dandm\n",
       "0   177     23       4   23,4\n",
       "1   345     19      10  19,10\n",
       "2  1080      4       7    4,7\n",
       "3  1232     16       6   16,6\n",
       "4  1295      6       6    6,6"
      ]
     },
     "execution_count": 277,
     "metadata": {},
     "output_type": "execute_result"
    }
   ],
   "source": [
    "counter = 0\n",
    "# csv via pandas\n",
    "df = pd.read_csv('vk_data.csv')\n",
    "# firstly i made head with date and month('dandm'), now let's put data to this column\n",
    "df[\"dandm\"] = df['bdate'].astype(str) + ',' + df['bmonth'].astype(str)\n",
    "df = df.drop(['byear'], axis=1)\n",
    "df.head()"
   ]
  },
  {
   "cell_type": "code",
   "execution_count": 278,
   "metadata": {},
   "outputs": [
    {
     "data": {
      "text/html": [
       "<div>\n",
       "<style scoped>\n",
       "    .dataframe tbody tr th:only-of-type {\n",
       "        vertical-align: middle;\n",
       "    }\n",
       "\n",
       "    .dataframe tbody tr th {\n",
       "        vertical-align: top;\n",
       "    }\n",
       "\n",
       "    .dataframe thead th {\n",
       "        text-align: right;\n",
       "    }\n",
       "</style>\n",
       "<table border=\"1\" class=\"dataframe\">\n",
       "  <thead>\n",
       "    <tr style=\"text-align: right;\">\n",
       "      <th></th>\n",
       "      <th>id</th>\n",
       "      <th>bdate</th>\n",
       "      <th>bmonth</th>\n",
       "      <th>dandm</th>\n",
       "    </tr>\n",
       "  </thead>\n",
       "  <tbody>\n",
       "    <tr>\n",
       "      <th>14584</th>\n",
       "      <td>733361</td>\n",
       "      <td>24</td>\n",
       "      <td>11</td>\n",
       "      <td>24,11</td>\n",
       "    </tr>\n",
       "    <tr>\n",
       "      <th>14585</th>\n",
       "      <td>733595</td>\n",
       "      <td>25</td>\n",
       "      <td>1</td>\n",
       "      <td>25,1</td>\n",
       "    </tr>\n",
       "    <tr>\n",
       "      <th>14586</th>\n",
       "      <td>733653</td>\n",
       "      <td>18</td>\n",
       "      <td>5</td>\n",
       "      <td>18,5</td>\n",
       "    </tr>\n",
       "    <tr>\n",
       "      <th>14587</th>\n",
       "      <td>733732</td>\n",
       "      <td>6</td>\n",
       "      <td>8</td>\n",
       "      <td>6,8</td>\n",
       "    </tr>\n",
       "    <tr>\n",
       "      <th>14588</th>\n",
       "      <td>733733</td>\n",
       "      <td>21</td>\n",
       "      <td>12</td>\n",
       "      <td>21,12</td>\n",
       "    </tr>\n",
       "  </tbody>\n",
       "</table>\n",
       "</div>"
      ],
      "text/plain": [
       "           id  bdate  bmonth  dandm\n",
       "14584  733361     24      11  24,11\n",
       "14585  733595     25       1   25,1\n",
       "14586  733653     18       5   18,5\n",
       "14587  733732      6       8    6,8\n",
       "14588  733733     21      12  21,12"
      ]
     },
     "execution_count": 278,
     "metadata": {},
     "output_type": "execute_result"
    }
   ],
   "source": [
    "df.tail()"
   ]
  },
  {
   "cell_type": "code",
   "execution_count": 281,
   "metadata": {},
   "outputs": [],
   "source": [
    "df.to_csv('vk_data.csv')"
   ]
  },
  {
   "cell_type": "markdown",
   "metadata": {},
   "source": [
    "Проверим парадокс"
   ]
  },
  {
   "cell_type": "code",
   "execution_count": 279,
   "metadata": {},
   "outputs": [
    {
     "name": "stdout",
     "output_type": "stream",
     "text": [
      "Вероятность: 0.972\n"
     ]
    }
   ],
   "source": [
    "# choose 50 rows with dandm data\n",
    "fifty = df[\"dandm\"].sample(n = 50)\n",
    "for i in range(0, 1000):\n",
    "    fifty = df[\"dandm\"].sample(n = 50)\n",
    "    for j in fifty.duplicated():\n",
    "        if j == True:\n",
    "            counter = counter + 1\n",
    "            break\n",
    "print('Вероятность:', counter / 1000)"
   ]
  },
  {
   "cell_type": "markdown",
   "metadata": {},
   "source": [
    "Вероятность совпадает с той, которая в парадоксе дне рождений. (В районе $97%$)"
   ]
  }
 ],
 "metadata": {
  "kernelspec": {
   "display_name": "Python 3",
   "language": "python",
   "name": "python3"
  },
  "language_info": {
   "codemirror_mode": {
    "name": "ipython",
    "version": 3
   },
   "file_extension": ".py",
   "mimetype": "text/x-python",
   "name": "python",
   "nbconvert_exporter": "python",
   "pygments_lexer": "ipython3",
   "version": "3.7.6"
  }
 },
 "nbformat": 4,
 "nbformat_minor": 2
}
