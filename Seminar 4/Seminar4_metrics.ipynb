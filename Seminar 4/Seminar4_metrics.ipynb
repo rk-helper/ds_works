{
 "cells": [
  {
   "cell_type": "markdown",
   "metadata": {},
   "source": [
    "# Оценка качества моделей классификации.\n",
    "\n",
    "Будем тренироваться интерпретировать качество моделей классификации."
   ]
  },
  {
   "cell_type": "code",
   "execution_count": 1,
   "metadata": {},
   "outputs": [
    {
     "name": "stdout",
     "output_type": "stream",
     "text": [
      "Populating the interactive namespace from numpy and matplotlib\n"
     ]
    }
   ],
   "source": [
    "import pandas as pd\n",
    "import matplotlib.pyplot as plt\n",
    "\n",
    "%pylab inline"
   ]
  },
  {
   "cell_type": "markdown",
   "metadata": {},
   "source": [
    "### Задача: датасет о кредитном скоринге. \n",
    "* Колонки 0, 1, ..., 13 - анонимизированные характеристики клиентов (некоторые числовые, некоторые категориальные). \n",
    "* Target - целевая переменная: 1 - выдать кредит, 0 - не выдать кредит.\n",
    "\n",
    "На этих данных было обучено три различных алгоритма классификации и получены предсказания:\n",
    "* pred1_probs - предсказанные вероятности положительного класса, полученные алгоритмом 1.\n",
    "* pred1_classes - предсказанные алгоритмом 1 классы\n",
    "* pred2_probs, pred2_classes, pred3_probs, pred3_classes - аналогичные величины для алгоритмов 2 и 3\n",
    "\n",
    "Наша задача - оценить качество каждого из трех алгоритмов и разобраться, какой из алгоритмов лучше всего работает в данной задаче."
   ]
  },
  {
   "cell_type": "code",
   "execution_count": 2,
   "metadata": {},
   "outputs": [
    {
     "data": {
      "text/html": [
       "<div>\n",
       "<style scoped>\n",
       "    .dataframe tbody tr th:only-of-type {\n",
       "        vertical-align: middle;\n",
       "    }\n",
       "\n",
       "    .dataframe tbody tr th {\n",
       "        vertical-align: top;\n",
       "    }\n",
       "\n",
       "    .dataframe thead th {\n",
       "        text-align: right;\n",
       "    }\n",
       "</style>\n",
       "<table border=\"1\" class=\"dataframe\">\n",
       "  <thead>\n",
       "    <tr style=\"text-align: right;\">\n",
       "      <th></th>\n",
       "      <th>0</th>\n",
       "      <th>1</th>\n",
       "      <th>2</th>\n",
       "      <th>3</th>\n",
       "      <th>4</th>\n",
       "      <th>5</th>\n",
       "      <th>6</th>\n",
       "      <th>7</th>\n",
       "      <th>8</th>\n",
       "      <th>9</th>\n",
       "      <th>...</th>\n",
       "      <th>11</th>\n",
       "      <th>12</th>\n",
       "      <th>13</th>\n",
       "      <th>target</th>\n",
       "      <th>pred1_probs</th>\n",
       "      <th>pred1_classes</th>\n",
       "      <th>pred2_probs</th>\n",
       "      <th>pred2_classes</th>\n",
       "      <th>pred3_probs</th>\n",
       "      <th>pred3_classes</th>\n",
       "    </tr>\n",
       "  </thead>\n",
       "  <tbody>\n",
       "    <tr>\n",
       "      <th>0</th>\n",
       "      <td>1</td>\n",
       "      <td>22.08</td>\n",
       "      <td>11.46</td>\n",
       "      <td>2</td>\n",
       "      <td>4</td>\n",
       "      <td>4</td>\n",
       "      <td>1.585</td>\n",
       "      <td>0</td>\n",
       "      <td>0</td>\n",
       "      <td>0</td>\n",
       "      <td>...</td>\n",
       "      <td>2</td>\n",
       "      <td>100</td>\n",
       "      <td>1213</td>\n",
       "      <td>0</td>\n",
       "      <td>0.506772</td>\n",
       "      <td>1</td>\n",
       "      <td>0.610853</td>\n",
       "      <td>1</td>\n",
       "      <td>0.375494</td>\n",
       "      <td>0</td>\n",
       "    </tr>\n",
       "    <tr>\n",
       "      <th>1</th>\n",
       "      <td>0</td>\n",
       "      <td>22.67</td>\n",
       "      <td>7.00</td>\n",
       "      <td>2</td>\n",
       "      <td>8</td>\n",
       "      <td>4</td>\n",
       "      <td>0.165</td>\n",
       "      <td>0</td>\n",
       "      <td>0</td>\n",
       "      <td>0</td>\n",
       "      <td>...</td>\n",
       "      <td>2</td>\n",
       "      <td>160</td>\n",
       "      <td>1</td>\n",
       "      <td>0</td>\n",
       "      <td>0.358519</td>\n",
       "      <td>0</td>\n",
       "      <td>0.185941</td>\n",
       "      <td>0</td>\n",
       "      <td>0.200975</td>\n",
       "      <td>0</td>\n",
       "    </tr>\n",
       "    <tr>\n",
       "      <th>2</th>\n",
       "      <td>0</td>\n",
       "      <td>29.58</td>\n",
       "      <td>1.75</td>\n",
       "      <td>1</td>\n",
       "      <td>4</td>\n",
       "      <td>4</td>\n",
       "      <td>1.250</td>\n",
       "      <td>0</td>\n",
       "      <td>0</td>\n",
       "      <td>0</td>\n",
       "      <td>...</td>\n",
       "      <td>2</td>\n",
       "      <td>280</td>\n",
       "      <td>1</td>\n",
       "      <td>0</td>\n",
       "      <td>0.358753</td>\n",
       "      <td>0</td>\n",
       "      <td>0.523009</td>\n",
       "      <td>1</td>\n",
       "      <td>0.160465</td>\n",
       "      <td>0</td>\n",
       "    </tr>\n",
       "    <tr>\n",
       "      <th>3</th>\n",
       "      <td>0</td>\n",
       "      <td>21.67</td>\n",
       "      <td>11.50</td>\n",
       "      <td>1</td>\n",
       "      <td>5</td>\n",
       "      <td>3</td>\n",
       "      <td>0.000</td>\n",
       "      <td>1</td>\n",
       "      <td>1</td>\n",
       "      <td>11</td>\n",
       "      <td>...</td>\n",
       "      <td>2</td>\n",
       "      <td>0</td>\n",
       "      <td>1</td>\n",
       "      <td>1</td>\n",
       "      <td>0.408729</td>\n",
       "      <td>0</td>\n",
       "      <td>0.185941</td>\n",
       "      <td>0</td>\n",
       "      <td>0.357771</td>\n",
       "      <td>0</td>\n",
       "    </tr>\n",
       "    <tr>\n",
       "      <th>4</th>\n",
       "      <td>1</td>\n",
       "      <td>20.17</td>\n",
       "      <td>8.17</td>\n",
       "      <td>2</td>\n",
       "      <td>6</td>\n",
       "      <td>4</td>\n",
       "      <td>1.960</td>\n",
       "      <td>1</td>\n",
       "      <td>1</td>\n",
       "      <td>14</td>\n",
       "      <td>...</td>\n",
       "      <td>2</td>\n",
       "      <td>60</td>\n",
       "      <td>159</td>\n",
       "      <td>1</td>\n",
       "      <td>0.480904</td>\n",
       "      <td>0</td>\n",
       "      <td>0.526646</td>\n",
       "      <td>1</td>\n",
       "      <td>0.260169</td>\n",
       "      <td>0</td>\n",
       "    </tr>\n",
       "  </tbody>\n",
       "</table>\n",
       "<p>5 rows × 21 columns</p>\n",
       "</div>"
      ],
      "text/plain": [
       "   0      1      2  3  4  5      6  7  8   9  ...  11   12    13  target  \\\n",
       "0  1  22.08  11.46  2  4  4  1.585  0  0   0  ...   2  100  1213       0   \n",
       "1  0  22.67   7.00  2  8  4  0.165  0  0   0  ...   2  160     1       0   \n",
       "2  0  29.58   1.75  1  4  4  1.250  0  0   0  ...   2  280     1       0   \n",
       "3  0  21.67  11.50  1  5  3  0.000  1  1  11  ...   2    0     1       1   \n",
       "4  1  20.17   8.17  2  6  4  1.960  1  1  14  ...   2   60   159       1   \n",
       "\n",
       "   pred1_probs  pred1_classes  pred2_probs  pred2_classes  pred3_probs  \\\n",
       "0     0.506772              1     0.610853              1     0.375494   \n",
       "1     0.358519              0     0.185941              0     0.200975   \n",
       "2     0.358753              0     0.523009              1     0.160465   \n",
       "3     0.408729              0     0.185941              0     0.357771   \n",
       "4     0.480904              0     0.526646              1     0.260169   \n",
       "\n",
       "   pred3_classes  \n",
       "0              0  \n",
       "1              0  \n",
       "2              0  \n",
       "3              0  \n",
       "4              0  \n",
       "\n",
       "[5 rows x 21 columns]"
      ]
     },
     "execution_count": 2,
     "metadata": {},
     "output_type": "execute_result"
    }
   ],
   "source": [
    "df = pd.read_csv(\"credit_scoring_example1.csv\")\n",
    "df.head()"
   ]
  },
  {
   "cell_type": "code",
   "execution_count": 3,
   "metadata": {},
   "outputs": [
    {
     "data": {
      "text/plain": [
       "(689, 21)"
      ]
     },
     "execution_count": 3,
     "metadata": {},
     "output_type": "execute_result"
    }
   ],
   "source": [
    "df.shape"
   ]
  },
  {
   "cell_type": "markdown",
   "metadata": {},
   "source": [
    "Посмотрим, сбалансированная ли выборка."
   ]
  },
  {
   "cell_type": "code",
   "execution_count": 4,
   "metadata": {},
   "outputs": [
    {
     "data": {
      "text/plain": [
       "(382, 307)"
      ]
     },
     "execution_count": 4,
     "metadata": {},
     "output_type": "execute_result"
    }
   ],
   "source": [
    "len(df[df.target == 0]), len(df[df.target == 1])"
   ]
  },
  {
   "cell_type": "markdown",
   "metadata": {},
   "source": [
    "Оценим **accuracy** - долю правильных ответов каждого из алгоритмов."
   ]
  },
  {
   "cell_type": "code",
   "execution_count": 5,
   "metadata": {},
   "outputs": [
    {
     "name": "stdout",
     "output_type": "stream",
     "text": [
      "алгоритм 1: 0.6618287373004355\n",
      "алгоритм 2: 0.6719883889695211\n",
      "алгоритм 3: 0.6400580551523948\n"
     ]
    }
   ],
   "source": [
    "from sklearn.metrics import accuracy_score\n",
    "\n",
    "print('алгоритм 1:', accuracy_score(df['target'], df['pred1_classes']))\n",
    "print('алгоритм 2:', accuracy_score(df['target'], df['pred2_classes']))\n",
    "print('алгоритм 3:', accuracy_score(df['target'], df['pred3_classes']))"
   ]
  },
  {
   "cell_type": "markdown",
   "metadata": {},
   "source": [
    "***С точки зрения метрики accuracy второй алгоритм работает немного лучше остальных***. Посмотрим на другие метрики.\n",
    "\n",
    "Теперь посмотрим на **precision** и **recall**."
   ]
  },
  {
   "cell_type": "code",
   "execution_count": 6,
   "metadata": {},
   "outputs": [
    {
     "name": "stdout",
     "output_type": "stream",
     "text": [
      "алгоритм 1:\n",
      "точность: 0.6907216494845361\n",
      "полнота: 0.4364820846905538\n",
      "алгоритм 2:\n",
      "точность: 0.6103542234332425\n",
      "полнота: 0.7296416938110749\n",
      "алгоритм 3:\n",
      "точность: 0.6903225806451613\n",
      "полнота: 0.3485342019543974\n"
     ]
    }
   ],
   "source": [
    "from sklearn.metrics import precision_score, recall_score\n",
    "\n",
    "print('алгоритм 1:')\n",
    "print('точность:', precision_score(df['target'], df['pred1_classes']))\n",
    "print('полнота:',  recall_score(df['target'], df['pred1_classes']))\n",
    "print('алгоритм 2:')\n",
    "print('точность:', precision_score(df['target'], df['pred2_classes']))\n",
    "print('полнота:',  recall_score(df['target'], df['pred2_classes']))\n",
    "print('алгоритм 3:')\n",
    "print('точность:', precision_score(df['target'], df['pred3_classes']))\n",
    "print('полнота:',  recall_score(df['target'], df['pred3_classes']))"
   ]
  },
  {
   "cell_type": "markdown",
   "metadata": {},
   "source": [
    "Самым полезным инструментом в практических задачах является ***матрица ошибок***. Смотря на неё и регулируя порог, определяющий классы, мы можем достичь оптимального решения нашей задачи."
   ]
  },
  {
   "cell_type": "code",
   "execution_count": 7,
   "metadata": {},
   "outputs": [],
   "source": [
    "import itertools\n",
    "from sklearn.metrics import confusion_matrix\n",
    "\n",
    "def plot_confusion_matrix(cm, classes,\n",
    "                          normalize=False,\n",
    "                          title='Confusion matrix',\n",
    "                          cmap=plt.cm.Blues):\n",
    " \n",
    "    plt.imshow(cm, interpolation='nearest', cmap=cmap)\n",
    "    plt.title(title)\n",
    "    plt.colorbar()\n",
    "    tick_marks = np.arange(len(classes))\n",
    "    plt.xticks(tick_marks, classes, rotation=45)\n",
    "    plt.yticks(tick_marks, classes)\n",
    " \n",
    "    fmt = '.2f' if normalize else 'd'\n",
    "    thresh = cm.max() / 2.\n",
    "    for i, j in itertools.product(range(cm.shape[0]), range(cm.shape[1])):\n",
    "        plt.text(j, i, format(cm[i, j], fmt),\n",
    "                 horizontalalignment=\"center\",\n",
    "                 color=\"white\" if cm[i, j] > thresh else \"black\")\n",
    " \n",
    "    plt.tight_layout()\n",
    "    plt.ylabel('True label')\n",
    "    plt.xlabel('Predicted label')"
   ]
  },
  {
   "cell_type": "code",
   "execution_count": 8,
   "metadata": {},
   "outputs": [
    {
     "name": "stdout",
     "output_type": "stream",
     "text": [
      "алгоритм 1\n"
     ]
    },
    {
     "data": {
      "image/png": "[encoded data removed]",
      "text/plain": [
       "<Figure size 432x288 with 2 Axes>"
      ]
     },
     "metadata": {
      "needs_background": "light"
     },
     "output_type": "display_data"
    },
    {
     "name": "stdout",
     "output_type": "stream",
     "text": [
      "алгоритм 2\n"
     ]
    },
    {
     "data": {
      "image/png": "[encoded data removed]",
      "text/plain": [
       "<Figure size 432x288 with 2 Axes>"
      ]
     },
     "metadata": {
      "needs_background": "light"
     },
     "output_type": "display_data"
    },
    {
     "name": "stdout",
     "output_type": "stream",
     "text": [
      "алгоритм 3\n"
     ]
    },
    {
     "data": {
      "image/png": "[encoded data removed]",
      "text/plain": [
       "<Figure size 432x288 with 2 Axes>"
      ]
     },
     "metadata": {
      "needs_background": "light"
     },
     "output_type": "display_data"
    }
   ],
   "source": [
    "print('алгоритм 1')\n",
    "plot_confusion_matrix(confusion_matrix(df['target'], df['pred1_classes']), classes=['0','1'],\n",
    "                        title='Confusion matrix, without normalization')\n",
    "show()\n",
    "print('алгоритм 2')\n",
    "plot_confusion_matrix(confusion_matrix(df['target'], df['pred2_classes']), classes=['0','1'],\n",
    "                        title='Confusion matrix, without normalization')\n",
    "show()\n",
    "print('алгоритм 3')\n",
    "plot_confusion_matrix(confusion_matrix(df['target'], df['pred3_classes']), classes=['0','1'],\n",
    "                        title='Confusion matrix, without normalization')\n",
    "show()"
   ]
  },
  {
   "cell_type": "markdown",
   "metadata": {},
   "source": [
    "Давайте определимся с целями нашего предсказания:\n",
    "    \n",
    "* **Вариант 1**: хотим выдать кредит максимальному числу людей среди тех, кто мог бы его вернуть. При этом не хотим много ошибаться (общее число ошибок не более 35%).\n",
    "  \n",
    "1) Мы не хотим, чтобы алгоритм много ошибался: accuracy $\\geq$ 0.65.\n",
    "\n",
    "2) Кроме того полнота должна быть как можно больше (число в левом нижнем квадрате матрицы ошибок минимально).\n",
    "\n",
    "Будем изменять порог вероятности в цикле и смотреть на результаты.\n",
    "\n",
    "Смотрим на **модель 1**:"
   ]
  },
  {
   "cell_type": "code",
   "execution_count": 9,
   "metadata": {},
   "outputs": [
    {
     "name": "stdout",
     "output_type": "stream",
     "text": [
      "threshold = 0.1\n",
      "полнота(recall): 1.0\n",
      "accuracy: 0.4455732946298984\n",
      "\n",
      "threshold = 0.2\n",
      "полнота(recall): 1.0\n",
      "accuracy: 0.4455732946298984\n",
      "\n",
      "threshold = 0.30000000000000004\n",
      "полнота(recall): 0.9185667752442996\n",
      "accuracy: 0.5645863570391872\n",
      "\n",
      "threshold = 0.4\n",
      "полнота(recall): 0.6579804560260586\n",
      "accuracy: 0.6676342525399129\n",
      "\n",
      "threshold = 0.5\n",
      "полнота(recall): 0.4364820846905538\n",
      "accuracy: 0.6618287373004355\n",
      "\n",
      "threshold = 0.6\n",
      "полнота(recall): 0.28664495114006516\n",
      "accuracy: 0.6386066763425254\n",
      "\n",
      "threshold = 0.7000000000000001\n",
      "полнота(recall): 0.21172638436482086\n",
      "accuracy: 0.6240928882438317\n",
      "\n",
      "threshold = 0.8\n",
      "полнота(recall): 0.1237785016286645\n",
      "accuracy: 0.5965166908563135\n",
      "\n",
      "threshold = 0.9\n",
      "полнота(recall): 0.06840390879478828\n",
      "accuracy: 0.579100145137881\n",
      "\n"
     ]
    }
   ],
   "source": [
    "for t in np.arange(0.1,1,0.1):\n",
    "    pred1_thr = [1 if x >= t else 0 for x in df['pred1_probs']]\n",
    "    print('threshold =', t)\n",
    "    print('полнота(recall):', recall_score(df['target'],pred1_thr))\n",
    "    print('accuracy:', accuracy_score(df['target'],pred1_thr))\n",
    "    print()"
   ]
  },
  {
   "cell_type": "code",
   "execution_count": 10,
   "metadata": {},
   "outputs": [
    {
     "name": "stdout",
     "output_type": "stream",
     "text": [
      "threshold = 0.35\n",
      "полнота(recall): 0.7882736156351792\n",
      "accuracy: 0.6458635703918723\n",
      "\n",
      "threshold = 0.375\n",
      "полнота(recall): 0.7100977198697068\n",
      "accuracy: 0.6502177068214804\n",
      "\n",
      "threshold = 0.4\n",
      "полнота(recall): 0.6579804560260586\n",
      "accuracy: 0.6676342525399129\n",
      "\n",
      "threshold = 0.42500000000000004\n",
      "полнота(recall): 0.5863192182410424\n",
      "accuracy: 0.6618287373004355\n",
      "\n",
      "threshold = 0.45000000000000007\n",
      "полнота(recall): 0.5244299674267101\n",
      "accuracy: 0.6647314949201741\n",
      "\n",
      "threshold = 0.4750000000000001\n",
      "полнота(recall): 0.46905537459283386\n",
      "accuracy: 0.6632801161103048\n",
      "\n",
      "threshold = 0.5000000000000001\n",
      "полнота(recall): 0.4364820846905538\n",
      "accuracy: 0.6618287373004355\n",
      "\n",
      "threshold = 0.5250000000000001\n",
      "полнота(recall): 0.4006514657980456\n",
      "accuracy: 0.6647314949201741\n",
      "\n",
      "threshold = 0.5500000000000002\n",
      "полнота(recall): 0.3485342019543974\n",
      "accuracy: 0.6531204644412192\n",
      "\n",
      "threshold = 0.5750000000000002\n",
      "полнота(recall): 0.3127035830618892\n",
      "accuracy: 0.6458635703918723\n",
      "\n"
     ]
    }
   ],
   "source": [
    "for t in np.arange(0.35,0.6,0.025):\n",
    "    pred1_thr = [1 if x >= t else 0 for x in df['pred1_probs']]\n",
    "    print('threshold =', t)\n",
    "    print('полнота(recall):', recall_score(df['target'],pred1_thr))\n",
    "    print('accuracy:', accuracy_score(df['target'],pred1_thr))\n",
    "    print()"
   ]
  },
  {
   "cell_type": "markdown",
   "metadata": {},
   "source": [
    "***Наилучший результат:***\n",
    "\n",
    "threshold = 0.375\n",
    "\n",
    "полнота(recall): 0.71\n",
    "\n",
    "accuracy: 0.65"
   ]
  },
  {
   "cell_type": "code",
   "execution_count": 11,
   "metadata": {},
   "outputs": [
    {
     "data": {
      "image/png": "[encoded data removed]",
      "text/plain": [
       "<Figure size 432x288 with 2 Axes>"
      ]
     },
     "metadata": {
      "needs_background": "light"
     },
     "output_type": "display_data"
    }
   ],
   "source": [
    "pred1_thr = [1 if x >= 0.375 else 0 for x in df['pred1_probs']]\n",
    "\n",
    "plot_confusion_matrix(confusion_matrix(df['target'], pred1_thr), classes=['0','1'],\n",
    "                        title='Confusion matrix, without normalization')"
   ]
  },
  {
   "cell_type": "markdown",
   "metadata": {},
   "source": [
    "Теперь посмотрим на **модель 2**:"
   ]
  },
  {
   "cell_type": "code",
   "execution_count": 12,
   "metadata": {},
   "outputs": [
    {
     "name": "stdout",
     "output_type": "stream",
     "text": [
      "threshold = 0.1\n",
      "полнота(recall): 0.990228013029316\n",
      "accuracy: 0.4818577648766328\n",
      "\n",
      "threshold = 0.2\n",
      "полнота(recall): 0.9381107491856677\n",
      "accuracy: 0.555878084179971\n",
      "\n",
      "threshold = 0.30000000000000004\n",
      "полнота(recall): 0.8371335504885994\n",
      "accuracy: 0.6748911465892597\n",
      "\n",
      "threshold = 0.4\n",
      "полнота(recall): 0.7980456026058632\n",
      "accuracy: 0.683599419448476\n",
      "\n",
      "threshold = 0.5\n",
      "полнота(recall): 0.7296416938110749\n",
      "accuracy: 0.6719883889695211\n",
      "\n",
      "threshold = 0.6\n",
      "полнота(recall): 0.5179153094462541\n",
      "accuracy: 0.6734397677793904\n",
      "\n",
      "threshold = 0.7000000000000001\n",
      "полнота(recall): 0.2964169381107492\n",
      "accuracy: 0.6560232220609579\n",
      "\n",
      "threshold = 0.8\n",
      "полнота(recall): 0.26058631921824105\n",
      "accuracy: 0.6473149492017417\n",
      "\n",
      "threshold = 0.9\n",
      "полнота(recall): 0.03908794788273615\n",
      "accuracy: 0.5718432510885341\n",
      "\n"
     ]
    }
   ],
   "source": [
    "for t in np.arange(0.1,1,0.1):\n",
    "    pred2_thr = [1 if x >= t else 0 for x in df['pred2_probs']]\n",
    "    print('threshold =', t)\n",
    "    print('полнота(recall):', recall_score(df['target'],pred2_thr))\n",
    "    print('accuracy:', accuracy_score(df['target'],pred2_thr))\n",
    "    print()"
   ]
  },
  {
   "cell_type": "code",
   "execution_count": 13,
   "metadata": {
    "scrolled": true
   },
   "outputs": [
    {
     "name": "stdout",
     "output_type": "stream",
     "text": [
      "threshold = 0.25\n",
      "полнота(recall): 0.9348534201954397\n",
      "accuracy: 0.5587808417997098\n",
      "\n",
      "threshold = 0.275\n",
      "полнота(recall): 0.8371335504885994\n",
      "accuracy: 0.6748911465892597\n",
      "\n",
      "threshold = 0.30000000000000004\n",
      "полнота(recall): 0.8371335504885994\n",
      "accuracy: 0.6748911465892597\n",
      "\n",
      "threshold = 0.32500000000000007\n",
      "полнота(recall): 0.8208469055374593\n",
      "accuracy: 0.6850507982583455\n",
      "\n",
      "threshold = 0.3500000000000001\n",
      "полнота(recall): 0.8143322475570033\n",
      "accuracy: 0.6821480406386067\n",
      "\n",
      "threshold = 0.3750000000000001\n",
      "полнота(recall): 0.8045602605863192\n",
      "accuracy: 0.6865021770682148\n",
      "\n",
      "threshold = 0.40000000000000013\n",
      "полнота(recall): 0.7980456026058632\n",
      "accuracy: 0.683599419448476\n",
      "\n",
      "threshold = 0.42500000000000016\n",
      "полнота(recall): 0.7752442996742671\n",
      "accuracy: 0.6821480406386067\n",
      "\n",
      "threshold = 0.4500000000000002\n",
      "полнота(recall): 0.742671009771987\n",
      "accuracy: 0.6777939042089985\n",
      "\n",
      "threshold = 0.4750000000000002\n",
      "полнота(recall): 0.742671009771987\n",
      "accuracy: 0.6777939042089985\n",
      "\n",
      "threshold = 0.5000000000000002\n",
      "полнота(recall): 0.7296416938110749\n",
      "accuracy: 0.6719883889695211\n",
      "\n",
      "threshold = 0.5250000000000002\n",
      "полнота(recall): 0.5244299674267101\n",
      "accuracy: 0.6748911465892597\n",
      "\n",
      "threshold = 0.5500000000000003\n",
      "полнота(recall): 0.5179153094462541\n",
      "accuracy: 0.6734397677793904\n",
      "\n",
      "threshold = 0.5750000000000003\n",
      "полнота(recall): 0.5179153094462541\n",
      "accuracy: 0.6734397677793904\n",
      "\n",
      "threshold = 0.6000000000000003\n",
      "полнота(recall): 0.5179153094462541\n",
      "accuracy: 0.6734397677793904\n",
      "\n",
      "threshold = 0.6250000000000003\n",
      "полнота(recall): 0.3257328990228013\n",
      "accuracy: 0.6618287373004355\n",
      "\n",
      "threshold = 0.6500000000000004\n",
      "полнота(recall): 0.31921824104234525\n",
      "accuracy: 0.6632801161103048\n",
      "\n",
      "threshold = 0.6750000000000004\n",
      "полнота(recall): 0.31921824104234525\n",
      "accuracy: 0.6632801161103048\n",
      "\n",
      "threshold = 0.7000000000000004\n",
      "полнота(recall): 0.2964169381107492\n",
      "accuracy: 0.6560232220609579\n",
      "\n",
      "threshold = 0.7250000000000004\n",
      "полнота(recall): 0.2671009771986971\n",
      "accuracy: 0.6502177068214804\n",
      "\n",
      "threshold = 0.7500000000000004\n",
      "полнота(recall): 0.2671009771986971\n",
      "accuracy: 0.6502177068214804\n",
      "\n",
      "threshold = 0.7750000000000005\n",
      "полнота(recall): 0.26058631921824105\n",
      "accuracy: 0.6473149492017417\n",
      "\n"
     ]
    }
   ],
   "source": [
    "for t in np.arange(0.25,0.8,0.025):\n",
    "    pred2_thr = [1 if x >= t else 0 for x in df['pred2_probs']]\n",
    "    print('threshold =', t)\n",
    "    print('полнота(recall):', recall_score(df['target'],pred2_thr))\n",
    "    print('accuracy:', accuracy_score(df['target'],pred2_thr))\n",
    "    print()"
   ]
  },
  {
   "cell_type": "markdown",
   "metadata": {},
   "source": [
    "***Наилучший результат:***\n",
    "\n",
    "threshold = 0.3\n",
    "\n",
    "полнота(recall): 0.837\n",
    "    \n",
    "accuracy: 0.675"
   ]
  },
  {
   "cell_type": "code",
   "execution_count": 14,
   "metadata": {},
   "outputs": [
    {
     "data": {
      "image/png": "[encoded data removed]",
      "text/plain": [
       "<Figure size 432x288 with 2 Axes>"
      ]
     },
     "metadata": {
      "needs_background": "light"
     },
     "output_type": "display_data"
    }
   ],
   "source": [
    "pred2_thr = [1 if x >= 0.3 else 0 for x in df['pred2_probs']]\n",
    "\n",
    "plot_confusion_matrix(confusion_matrix(df['target'], pred2_thr), classes=['0','1'],\n",
    "                        title='Confusion matrix, without normalization')"
   ]
  },
  {
   "cell_type": "markdown",
   "metadata": {},
   "source": [
    "Посмотрим на **модель 3**:"
   ]
  },
  {
   "cell_type": "code",
   "execution_count": 15,
   "metadata": {},
   "outputs": [
    {
     "name": "stdout",
     "output_type": "stream",
     "text": [
      "threshold = 0.1\n",
      "полнота(recall): 1.0\n",
      "accuracy: 0.4455732946298984\n",
      "\n",
      "threshold = 0.2\n",
      "полнота(recall): 0.7068403908794788\n",
      "accuracy: 0.6226415094339622\n",
      "\n",
      "threshold = 0.30000000000000004\n",
      "полнота(recall): 0.5146579804560261\n",
      "accuracy: 0.6313497822931785\n",
      "\n",
      "threshold = 0.4\n",
      "полнота(recall): 0.41368078175895767\n",
      "accuracy: 0.6458635703918723\n",
      "\n",
      "threshold = 0.5\n",
      "полнота(recall): 0.3485342019543974\n",
      "accuracy: 0.6400580551523948\n",
      "\n",
      "threshold = 0.6\n",
      "полнота(recall): 0.30944625407166126\n",
      "accuracy: 0.6386066763425254\n",
      "\n",
      "threshold = 0.7000000000000001\n",
      "полнота(recall): 0.26058631921824105\n",
      "accuracy: 0.6284470246734397\n",
      "\n",
      "threshold = 0.8\n",
      "полнота(recall): 0.23127035830618892\n",
      "accuracy: 0.6168359941944848\n",
      "\n",
      "threshold = 0.9\n",
      "полнота(recall): 0.1986970684039088\n",
      "accuracy: 0.613933236574746\n",
      "\n"
     ]
    }
   ],
   "source": [
    "for t in np.arange(0.1,1,0.1):\n",
    "    pred3_thr = [1 if x >= t else 0 for x in df['pred3_probs']]\n",
    "    print('threshold =', t)\n",
    "    print('полнота(recall):', recall_score(df['target'],pred3_thr))\n",
    "    print('accuracy:', accuracy_score(df['target'],pred3_thr))\n",
    "    print()"
   ]
  },
  {
   "cell_type": "code",
   "execution_count": 16,
   "metadata": {},
   "outputs": [
    {
     "name": "stdout",
     "output_type": "stream",
     "text": [
      "threshold = 0.35\n",
      "полнота(recall): 0.46905537459283386\n",
      "accuracy: 0.6386066763425254\n",
      "\n",
      "threshold = 0.375\n",
      "полнота(recall): 0.4364820846905538\n",
      "accuracy: 0.6386066763425254\n",
      "\n",
      "threshold = 0.4\n",
      "полнота(recall): 0.41368078175895767\n",
      "accuracy: 0.6458635703918723\n",
      "\n",
      "threshold = 0.42500000000000004\n",
      "полнота(recall): 0.3941368078175896\n",
      "accuracy: 0.6444121915820029\n",
      "\n",
      "threshold = 0.45000000000000007\n",
      "полнота(recall): 0.36482084690553745\n",
      "accuracy: 0.637155297532656\n",
      "\n",
      "threshold = 0.4750000000000001\n",
      "полнота(recall): 0.3550488599348534\n",
      "accuracy: 0.6386066763425254\n",
      "\n",
      "threshold = 0.5000000000000001\n",
      "полнота(recall): 0.3485342019543974\n",
      "accuracy: 0.6400580551523948\n",
      "\n",
      "threshold = 0.5250000000000001\n",
      "полнота(recall): 0.34201954397394135\n",
      "accuracy: 0.6415094339622641\n",
      "\n",
      "threshold = 0.5500000000000002\n",
      "полнота(recall): 0.3257328990228013\n",
      "accuracy: 0.6357039187227866\n",
      "\n",
      "threshold = 0.5750000000000002\n",
      "полнота(recall): 0.3257328990228013\n",
      "accuracy: 0.6415094339622641\n",
      "\n"
     ]
    }
   ],
   "source": [
    "for t in np.arange(0.35,0.6,0.025):\n",
    "    pred3_thr = [1 if x >= t else 0 for x in df['pred3_probs']]\n",
    "    print('threshold =', t)\n",
    "    print('полнота(recall):', recall_score(df['target'],pred3_thr))\n",
    "    print('accuracy:', accuracy_score(df['target'],pred3_thr))\n",
    "    print()"
   ]
  },
  {
   "cell_type": "markdown",
   "metadata": {},
   "source": [
    "***Наилучший результат:***\n",
    "\n",
    "threshold = 0.4\n",
    "\n",
    "полнота(recall): 0.414\n",
    "    \n",
    "accuracy: 0.646 (наибольшая точность)\n",
    "\n",
    "***Модель не проходит по критериям (точность меньше 0.65)!***"
   ]
  },
  {
   "cell_type": "code",
   "execution_count": 17,
   "metadata": {},
   "outputs": [
    {
     "data": {
      "image/png": "[encoded data removed]",
      "text/plain": [
       "<Figure size 432x288 with 2 Axes>"
      ]
     },
     "metadata": {
      "needs_background": "light"
     },
     "output_type": "display_data"
    }
   ],
   "source": [
    "pred3_thr = [1 if x >= 0.4 else 0 for x in df['pred3_probs']]\n",
    "\n",
    "plot_confusion_matrix(confusion_matrix(df['target'], pred3_thr), classes=['0','1'],\n",
    "                        title='Confusion matrix, without normalization')"
   ]
  },
  {
   "cell_type": "markdown",
   "metadata": {},
   "source": [
    "**Выводы:** с поставленной задачей лучше всего справляется модель 2 (полнота: 0.837,\n",
    "accuracy: 0.675). "
   ]
  },
  {
   "cell_type": "markdown",
   "metadata": {},
   "source": [
    "Наша цель может звучать и по-другому:\n",
    "    \n",
    "* **Вариант 2**: среди тех, кому модель выдает кредит, должно быть меньше всего ошибок (мало людей, кто его на самом деле не вернет - на них будем терять деньги). \n",
    "    При этом не хотим много ошибаться (общее число ошибок не более 35%).\n",
    "  \n",
    "1) Мы не хотим, чтобы алгоритм много ошибался: accuracy $\\geq$ 0.65.\n",
    "\n",
    "2) Кроме того точность должна быть как можно больше (число в правом верхнем квадрате матрицы ошибок минимально).\n",
    "\n",
    "Будем изменять порог вероятности в цикле и смотреть на результаты.\n",
    "\n",
    "Смотрим на **модель 1**:"
   ]
  },
  {
   "cell_type": "code",
   "execution_count": 18,
   "metadata": {},
   "outputs": [
    {
     "name": "stdout",
     "output_type": "stream",
     "text": [
      "threshold = 0.1\n",
      "точность(precision): 0.4455732946298984\n",
      "accuracy: 0.4455732946298984\n",
      "\n",
      "threshold = 0.2\n",
      "точность(precision): 0.4455732946298984\n",
      "accuracy: 0.4455732946298984\n",
      "\n",
      "threshold = 0.30000000000000004\n",
      "точность(precision): 0.5062836624775583\n",
      "accuracy: 0.5645863570391872\n",
      "\n",
      "threshold = 0.4\n",
      "точность(precision): 0.6196319018404908\n",
      "accuracy: 0.6676342525399129\n",
      "\n",
      "threshold = 0.5\n",
      "точность(precision): 0.6907216494845361\n",
      "accuracy: 0.6618287373004355\n",
      "\n",
      "threshold = 0.6\n",
      "точность(precision): 0.7457627118644068\n",
      "accuracy: 0.6386066763425254\n",
      "\n",
      "threshold = 0.7000000000000001\n",
      "точность(precision): 0.7926829268292683\n",
      "accuracy: 0.6240928882438317\n",
      "\n",
      "threshold = 0.8\n",
      "точность(precision): 0.8085106382978723\n",
      "accuracy: 0.5965166908563135\n",
      "\n",
      "threshold = 0.9\n",
      "точность(precision): 0.84\n",
      "accuracy: 0.579100145137881\n",
      "\n"
     ]
    }
   ],
   "source": [
    "for t in np.arange(0.1,1,0.1):\n",
    "    pred1_thr = [1 if x >= t else 0 for x in df['pred1_probs']]\n",
    "    print('threshold =', t)\n",
    "    print('точность(precision):', precision_score(df['target'],pred1_thr))\n",
    "    print('accuracy:', accuracy_score(df['target'],pred1_thr))\n",
    "    print()"
   ]
  },
  {
   "cell_type": "code",
   "execution_count": 19,
   "metadata": {},
   "outputs": [
    {
     "name": "stdout",
     "output_type": "stream",
     "text": [
      "threshold = 0.35\n",
      "точность(precision): 0.5748218527315915\n",
      "accuracy: 0.6458635703918723\n",
      "\n",
      "threshold = 0.44999999999999996\n",
      "точность(precision): 0.6544715447154471\n",
      "accuracy: 0.6647314949201741\n",
      "\n",
      "threshold = 0.5499999999999999\n",
      "точность(precision): 0.7328767123287672\n",
      "accuracy: 0.6531204644412192\n",
      "\n"
     ]
    }
   ],
   "source": [
    "for t in np.arange(0.35,0.6,0.1):\n",
    "    pred1_thr = [1 if x >= t else 0 for x in df['pred1_probs']]\n",
    "    print('threshold =', t)\n",
    "    print('точность(precision):', precision_score(df['target'],pred1_thr))\n",
    "    print('accuracy:', accuracy_score(df['target'],pred1_thr))\n",
    "    print()"
   ]
  },
  {
   "cell_type": "markdown",
   "metadata": {},
   "source": [
    "***Наилучший результат:***\n",
    "\n",
    "threshold = 0.55\n",
    "\n",
    "точность(precision): 0.733\n",
    "    \n",
    "accuracy: 0.653"
   ]
  },
  {
   "cell_type": "code",
   "execution_count": 20,
   "metadata": {},
   "outputs": [
    {
     "data": {
      "image/png": "[encoded data removed]",
      "text/plain": [
       "<Figure size 432x288 with 2 Axes>"
      ]
     },
     "metadata": {
      "needs_background": "light"
     },
     "output_type": "display_data"
    }
   ],
   "source": [
    "pred1_thr = [1 if x >= 0.55 else 0 for x in df['pred1_probs']]\n",
    "\n",
    "plot_confusion_matrix(confusion_matrix(df['target'], pred1_thr), classes=['0','1'],\n",
    "                        title='Confusion matrix, without normalization')"
   ]
  },
  {
   "cell_type": "markdown",
   "metadata": {},
   "source": [
    "Смотрим на **модель 2**:"
   ]
  },
  {
   "cell_type": "code",
   "execution_count": 21,
   "metadata": {},
   "outputs": [
    {
     "name": "stdout",
     "output_type": "stream",
     "text": [
      "threshold = 0.1\n",
      "точность(precision): 0.46200607902735563\n",
      "accuracy: 0.4818577648766328\n",
      "\n",
      "threshold = 0.2\n",
      "точность(precision): 0.5008695652173913\n",
      "accuracy: 0.555878084179971\n",
      "\n",
      "threshold = 0.30000000000000004\n",
      "точность(precision): 0.5962877030162413\n",
      "accuracy: 0.6748911465892597\n",
      "\n",
      "threshold = 0.4\n",
      "точность(precision): 0.6109725685785536\n",
      "accuracy: 0.683599419448476\n",
      "\n",
      "threshold = 0.5\n",
      "точность(precision): 0.6103542234332425\n",
      "accuracy: 0.6719883889695211\n",
      "\n",
      "threshold = 0.6\n",
      "точность(precision): 0.673728813559322\n",
      "accuracy: 0.6734397677793904\n",
      "\n",
      "threshold = 0.7000000000000001\n",
      "точность(precision): 0.8125\n",
      "accuracy: 0.6560232220609579\n",
      "\n",
      "threshold = 0.8\n",
      "точность(precision): 0.8333333333333334\n",
      "accuracy: 0.6473149492017417\n",
      "\n",
      "threshold = 0.9\n",
      "точность(precision): 1.0\n",
      "accuracy: 0.5718432510885341\n",
      "\n"
     ]
    }
   ],
   "source": [
    "for t in np.arange(0.1,1,0.1):\n",
    "    pred2_thr = [1 if x >= t else 0 for x in df['pred2_probs']]\n",
    "    print('threshold =', t)\n",
    "    print('точность(precision):', precision_score(df['target'],pred2_thr))\n",
    "    print('accuracy:', accuracy_score(df['target'],pred2_thr))\n",
    "    print()"
   ]
  },
  {
   "cell_type": "code",
   "execution_count": 22,
   "metadata": {},
   "outputs": [
    {
     "name": "stdout",
     "output_type": "stream",
     "text": [
      "threshold = 0.25\n",
      "точность(precision): 0.5026269702276708\n",
      "accuracy: 0.5587808417997098\n",
      "\n",
      "threshold = 0.275\n",
      "точность(precision): 0.5962877030162413\n",
      "accuracy: 0.6748911465892597\n",
      "\n",
      "threshold = 0.30000000000000004\n",
      "точность(precision): 0.5962877030162413\n",
      "accuracy: 0.6748911465892597\n",
      "\n",
      "threshold = 0.32500000000000007\n",
      "точность(precision): 0.6086956521739131\n",
      "accuracy: 0.6850507982583455\n",
      "\n",
      "threshold = 0.3500000000000001\n",
      "точность(precision): 0.6067961165048543\n",
      "accuracy: 0.6821480406386067\n",
      "\n",
      "threshold = 0.3750000000000001\n",
      "точность(precision): 0.6129032258064516\n",
      "accuracy: 0.6865021770682148\n",
      "\n",
      "threshold = 0.40000000000000013\n",
      "точность(precision): 0.6109725685785536\n",
      "accuracy: 0.683599419448476\n",
      "\n",
      "threshold = 0.42500000000000016\n",
      "точность(precision): 0.6134020618556701\n",
      "accuracy: 0.6821480406386067\n",
      "\n",
      "threshold = 0.4500000000000002\n",
      "точность(precision): 0.6145552560646901\n",
      "accuracy: 0.6777939042089985\n",
      "\n",
      "threshold = 0.4750000000000002\n",
      "точность(precision): 0.6145552560646901\n",
      "accuracy: 0.6777939042089985\n",
      "\n",
      "threshold = 0.5000000000000002\n",
      "точность(precision): 0.6103542234332425\n",
      "accuracy: 0.6719883889695211\n",
      "\n",
      "threshold = 0.5250000000000002\n",
      "точность(precision): 0.6736401673640168\n",
      "accuracy: 0.6748911465892597\n",
      "\n",
      "threshold = 0.5500000000000003\n",
      "точность(precision): 0.673728813559322\n",
      "accuracy: 0.6734397677793904\n",
      "\n",
      "threshold = 0.5750000000000003\n",
      "точность(precision): 0.673728813559322\n",
      "accuracy: 0.6734397677793904\n",
      "\n",
      "threshold = 0.6000000000000003\n",
      "точность(precision): 0.673728813559322\n",
      "accuracy: 0.6734397677793904\n",
      "\n",
      "threshold = 0.6250000000000003\n",
      "точность(precision): 0.7936507936507936\n",
      "accuracy: 0.6618287373004355\n",
      "\n",
      "threshold = 0.6500000000000004\n",
      "точность(precision): 0.8099173553719008\n",
      "accuracy: 0.6632801161103048\n",
      "\n",
      "threshold = 0.6750000000000004\n",
      "точность(precision): 0.8099173553719008\n",
      "accuracy: 0.6632801161103048\n",
      "\n",
      "threshold = 0.7000000000000004\n",
      "точность(precision): 0.8125\n",
      "accuracy: 0.6560232220609579\n",
      "\n",
      "threshold = 0.7250000000000004\n",
      "точность(precision): 0.8367346938775511\n",
      "accuracy: 0.6502177068214804\n",
      "\n",
      "threshold = 0.7500000000000004\n",
      "точность(precision): 0.8367346938775511\n",
      "accuracy: 0.6502177068214804\n",
      "\n",
      "threshold = 0.7750000000000005\n",
      "точность(precision): 0.8333333333333334\n",
      "accuracy: 0.6473149492017417\n",
      "\n"
     ]
    }
   ],
   "source": [
    "for t in np.arange(0.25,0.8,0.025):\n",
    "    pred2_thr = [1 if x >= t else 0 for x in df['pred2_probs']]\n",
    "    print('threshold =', t)\n",
    "    print('точность(precision):', precision_score(df['target'],pred2_thr))\n",
    "    print('accuracy:', accuracy_score(df['target'],pred2_thr))\n",
    "    print()"
   ]
  },
  {
   "cell_type": "markdown",
   "metadata": {},
   "source": [
    "***Наилучший результат:***\n",
    "\n",
    "threshold = 0.725\n",
    "\n",
    "точность(precision): 0.837\n",
    "    \n",
    "accuracy: 0.65"
   ]
  },
  {
   "cell_type": "code",
   "execution_count": 23,
   "metadata": {},
   "outputs": [
    {
     "data": {
      "image/png": "[encoded data removed]",
      "text/plain": [
       "<Figure size 432x288 with 2 Axes>"
      ]
     },
     "metadata": {
      "needs_background": "light"
     },
     "output_type": "display_data"
    }
   ],
   "source": [
    "pred2_thr = [1 if x >= 0.725 else 0 for x in df['pred2_probs']]\n",
    "\n",
    "plot_confusion_matrix(confusion_matrix(df['target'], pred2_thr), classes=['0','1'],\n",
    "                        title='Confusion matrix, without normalization')"
   ]
  },
  {
   "cell_type": "markdown",
   "metadata": {},
   "source": [
    "Смотрим на **модель 3**:"
   ]
  },
  {
   "cell_type": "code",
   "execution_count": 24,
   "metadata": {},
   "outputs": [
    {
     "name": "stdout",
     "output_type": "stream",
     "text": [
      "threshold = 0.1\n",
      "точность(precision): 0.4455732946298984\n",
      "accuracy: 0.4455732946298984\n",
      "\n",
      "threshold = 0.2\n",
      "точность(precision): 0.5607235142118863\n",
      "accuracy: 0.6226415094339622\n",
      "\n",
      "threshold = 0.30000000000000004\n",
      "точность(precision): 0.6007604562737643\n",
      "accuracy: 0.6313497822931785\n",
      "\n",
      "threshold = 0.4\n",
      "точность(precision): 0.6649214659685864\n",
      "accuracy: 0.6458635703918723\n",
      "\n",
      "threshold = 0.5\n",
      "точность(precision): 0.6903225806451613\n",
      "accuracy: 0.6400580551523948\n",
      "\n",
      "threshold = 0.6\n",
      "точность(precision): 0.7196969696969697\n",
      "accuracy: 0.6386066763425254\n",
      "\n",
      "threshold = 0.7000000000000001\n",
      "точность(precision): 0.7339449541284404\n",
      "accuracy: 0.6284470246734397\n",
      "\n",
      "threshold = 0.8\n",
      "точность(precision): 0.7171717171717171\n",
      "accuracy: 0.6168359941944848\n",
      "\n",
      "threshold = 0.9\n",
      "точность(precision): 0.7530864197530864\n",
      "accuracy: 0.613933236574746\n",
      "\n"
     ]
    }
   ],
   "source": [
    "for t in np.arange(0.1,1,0.1):\n",
    "    pred3_thr = [1 if x >= t else 0 for x in df['pred3_probs']]\n",
    "    print('threshold =', t)\n",
    "    print('точность(precision):', precision_score(df['target'],pred3_thr))\n",
    "    print('accuracy:', accuracy_score(df['target'],pred3_thr))\n",
    "    print()"
   ]
  },
  {
   "cell_type": "code",
   "execution_count": 25,
   "metadata": {},
   "outputs": [
    {
     "name": "stdout",
     "output_type": "stream",
     "text": [
      "threshold = 0.4\n",
      "точность(precision): 0.6649214659685864\n",
      "accuracy: 0.6458635703918723\n",
      "\n",
      "threshold = 0.42500000000000004\n",
      "точность(precision): 0.6722222222222223\n",
      "accuracy: 0.6444121915820029\n",
      "\n",
      "threshold = 0.45000000000000007\n",
      "точность(precision): 0.6706586826347305\n",
      "accuracy: 0.637155297532656\n",
      "\n",
      "threshold = 0.4750000000000001\n",
      "точность(precision): 0.68125\n",
      "accuracy: 0.6386066763425254\n",
      "\n",
      "threshold = 0.5000000000000001\n",
      "точность(precision): 0.6903225806451613\n",
      "accuracy: 0.6400580551523948\n",
      "\n",
      "threshold = 0.5250000000000001\n",
      "точность(precision): 0.7\n",
      "accuracy: 0.6415094339622641\n",
      "\n",
      "threshold = 0.5500000000000002\n",
      "точность(precision): 0.6944444444444444\n",
      "accuracy: 0.6357039187227866\n",
      "\n",
      "threshold = 0.5750000000000002\n",
      "точность(precision): 0.7142857142857143\n",
      "accuracy: 0.6415094339622641\n",
      "\n",
      "threshold = 0.6000000000000002\n",
      "точность(precision): 0.7196969696969697\n",
      "accuracy: 0.6386066763425254\n",
      "\n",
      "threshold = 0.6250000000000002\n",
      "точность(precision): 0.72\n",
      "accuracy: 0.6342525399129173\n",
      "\n"
     ]
    }
   ],
   "source": [
    "for t in np.arange(0.4,0.65,0.025):\n",
    "    pred3_thr = [1 if x >= t else 0 for x in df['pred3_probs']]\n",
    "    print('threshold =', t)\n",
    "    print('точность(precision):', precision_score(df['target'],pred3_thr))\n",
    "    print('accuracy:', accuracy_score(df['target'],pred3_thr))\n",
    "    print()"
   ]
  },
  {
   "cell_type": "markdown",
   "metadata": {},
   "source": [
    "***Наилучший результат:***\n",
    "\n",
    "threshold = 0.575\n",
    "\n",
    "точность(precision): 0.714\n",
    "    \n",
    "accuracy: 0.642\n",
    "    \n",
    "***Модель не проходит по критериям (точность меньше 0.65)!***"
   ]
  },
  {
   "cell_type": "code",
   "execution_count": 26,
   "metadata": {},
   "outputs": [
    {
     "data": {
      "image/png": "[encoded data removed]",
      "text/plain": [
       "<Figure size 432x288 with 2 Axes>"
      ]
     },
     "metadata": {
      "needs_background": "light"
     },
     "output_type": "display_data"
    }
   ],
   "source": [
    "pred3_thr = [1 if x >= 0.575 else 0 for x in df['pred3_probs']]\n",
    "\n",
    "plot_confusion_matrix(confusion_matrix(df['target'], pred3_thr), classes=['0','1'],\n",
    "                        title='Confusion matrix, without normalization')"
   ]
  },
  {
   "cell_type": "markdown",
   "metadata": {},
   "source": [
    "Также (**Вариант 3**) можно потребовать, чтобы и точность, и полнота были высокими, то есть обе ошибки в матрице ошибок были маленькие. Как вариант - можно минимизировать F1-score (среднее гармоническое между точностью и полнотой).\n",
    "\n",
    "Найдем порог для достижения максимального F1-score для наилучшей модели (вторая модель) и построим матрицу ошибок (***проверьте, что F1-score у двух оставшихся моделей ниже!***)."
   ]
  },
  {
   "cell_type": "code",
   "execution_count": 27,
   "metadata": {},
   "outputs": [
    {
     "name": "stdout",
     "output_type": "stream",
     "text": [
      "threshold = 0.1\n",
      "f1-score: 0.6164658634538153\n",
      "accuracy: 0.4455732946298984\n",
      "\n",
      "threshold = 0.2\n",
      "f1-score: 0.6164658634538153\n",
      "accuracy: 0.4455732946298984\n",
      "\n",
      "threshold = 0.30000000000000004\n",
      "f1-score: 0.6527777777777777\n",
      "accuracy: 0.5645863570391872\n",
      "\n",
      "threshold = 0.4\n",
      "f1-score: 0.6382306477093207\n",
      "accuracy: 0.6676342525399129\n",
      "\n",
      "threshold = 0.5\n",
      "f1-score: 0.5349301397205589\n",
      "accuracy: 0.6618287373004355\n",
      "\n",
      "threshold = 0.6\n",
      "f1-score: 0.4141176470588236\n",
      "accuracy: 0.6386066763425254\n",
      "\n",
      "threshold = 0.7000000000000001\n",
      "f1-score: 0.3341902313624679\n",
      "accuracy: 0.6240928882438317\n",
      "\n",
      "threshold = 0.8\n",
      "f1-score: 0.21468926553672318\n",
      "accuracy: 0.5965166908563135\n",
      "\n",
      "threshold = 0.9\n",
      "f1-score: 0.12650602409638553\n",
      "accuracy: 0.579100145137881\n",
      "\n"
     ]
    }
   ],
   "source": [
    "from sklearn.metrics import f1_score\n",
    "\n",
    "for t in np.arange(0.1,1,0.1):\n",
    "    pred1_thr = [1 if x >= t else 0 for x in df['pred1_probs']]\n",
    "    print('threshold =', t)\n",
    "    print('f1-score:', f1_score(df['target'],pred1_thr))\n",
    "    print('accuracy:', accuracy_score(df['target'],pred1_thr))\n",
    "    print()"
   ]
  },
  {
   "cell_type": "code",
   "execution_count": 28,
   "metadata": {},
   "outputs": [
    {
     "name": "stdout",
     "output_type": "stream",
     "text": [
      "threshold = 0.35\n",
      "f1-score: 0.6648351648351648\n",
      "accuracy: 0.6458635703918723\n",
      "\n",
      "threshold = 0.375\n",
      "f1-score: 0.6440177252584932\n",
      "accuracy: 0.6502177068214804\n",
      "\n",
      "threshold = 0.4\n",
      "f1-score: 0.6382306477093207\n",
      "accuracy: 0.6676342525399129\n",
      "\n",
      "threshold = 0.42500000000000004\n",
      "f1-score: 0.6070826306913997\n",
      "accuracy: 0.6618287373004355\n",
      "\n",
      "threshold = 0.45000000000000007\n",
      "f1-score: 0.5822784810126582\n",
      "accuracy: 0.6647314949201741\n",
      "\n",
      "threshold = 0.4750000000000001\n",
      "f1-score: 0.5538461538461538\n",
      "accuracy: 0.6632801161103048\n",
      "\n",
      "threshold = 0.5000000000000001\n",
      "f1-score: 0.5349301397205589\n",
      "accuracy: 0.6618287373004355\n",
      "\n",
      "threshold = 0.5250000000000001\n",
      "f1-score: 0.5157232704402516\n",
      "accuracy: 0.6647314949201741\n",
      "\n",
      "threshold = 0.5500000000000002\n",
      "f1-score: 0.47240618101545256\n",
      "accuracy: 0.6531204644412192\n",
      "\n",
      "threshold = 0.5750000000000002\n",
      "f1-score: 0.44036697247706424\n",
      "accuracy: 0.6458635703918723\n",
      "\n"
     ]
    }
   ],
   "source": [
    "from sklearn.metrics import f1_score\n",
    "\n",
    "for t in np.arange(0.35,0.6,0.025):\n",
    "    pred1_thr = [1 if x >= t else 0 for x in df['pred1_probs']]\n",
    "    print('threshold =', t)\n",
    "    print('f1-score:', f1_score(df['target'],pred1_thr))\n",
    "    print('accuracy:', accuracy_score(df['target'],pred1_thr))\n",
    "    print()"
   ]
  },
  {
   "cell_type": "markdown",
   "metadata": {},
   "source": [
    "***Наилучший результат:***\n",
    "\n",
    "threshold = 0.375\n",
    "\n",
    "f1-score: 0.644\n",
    "    \n",
    "accuracy: 0.65"
   ]
  },
  {
   "cell_type": "code",
   "execution_count": 29,
   "metadata": {},
   "outputs": [
    {
     "data": {
      "image/png": "[encoded data removed]",
      "text/plain": [
       "<Figure size 432x288 with 2 Axes>"
      ]
     },
     "metadata": {
      "needs_background": "light"
     },
     "output_type": "display_data"
    }
   ],
   "source": [
    "pred1_thr = [1 if x >= 0.375 else 0 for x in df['pred1_probs']]\n",
    "\n",
    "plot_confusion_matrix(confusion_matrix(df['target'], pred1_thr), classes=['0','1'],\n",
    "                        title='Confusion matrix, without normalization')"
   ]
  },
  {
   "cell_type": "markdown",
   "metadata": {},
   "source": [
    "Посмотрим на roc-auc."
   ]
  },
  {
   "cell_type": "code",
   "execution_count": 30,
   "metadata": {},
   "outputs": [
    {
     "name": "stdout",
     "output_type": "stream",
     "text": [
      "алгоритм 1: 0.7207224107645342\n",
      "алгоритм 2: 0.7506864266589355\n",
      "алгоритм 3: 0.6867677405051418\n"
     ]
    }
   ],
   "source": [
    "from sklearn.metrics import roc_auc_score\n",
    "\n",
    "print('алгоритм 1:', roc_auc_score(df['target'], df['pred1_probs']))\n",
    "print('алгоритм 2:', roc_auc_score(df['target'], df['pred2_probs']))\n",
    "print('алгоритм 3:', roc_auc_score(df['target'], df['pred3_probs']))"
   ]
  },
  {
   "cell_type": "markdown",
   "metadata": {},
   "source": [
    "Построим roc-кривую для каждой модели и отметим на графике roc-auc."
   ]
  },
  {
   "cell_type": "code",
   "execution_count": 31,
   "metadata": {},
   "outputs": [
    {
     "name": "stdout",
     "output_type": "stream",
     "text": [
      "Модель 1:\n"
     ]
    },
    {
     "data": {
      "image/png": "[encoded data removed]",
      "text/plain": [
       "<Figure size 432x288 with 1 Axes>"
      ]
     },
     "metadata": {
      "needs_background": "light"
     },
     "output_type": "display_data"
    },
    {
     "name": "stdout",
     "output_type": "stream",
     "text": [
      "Модель 2:\n"
     ]
    },
    {
     "data": {
      "image/png": "[encoded data removed]",
      "text/plain": [
       "<Figure size 432x288 with 1 Axes>"
      ]
     },
     "metadata": {
      "needs_background": "light"
     },
     "output_type": "display_data"
    },
    {
     "name": "stdout",
     "output_type": "stream",
     "text": [
      "Модель 3:\n"
     ]
    },
    {
     "data": {
      "image/png": "[encoded data removed]",
      "text/plain": [
       "<Figure size 432x288 with 1 Axes>"
      ]
     },
     "metadata": {
      "needs_background": "light"
     },
     "output_type": "display_data"
    }
   ],
   "source": [
    "from sklearn.metrics import roc_curve, auc\n",
    "\n",
    "for n in range(3):\n",
    "    print('Модель ' + str(n+1) + ':')\n",
    "    \n",
    "    fpr, tpr, threshold = roc_curve(df['target'], df['pred' + str(n+1) + '_probs'])\n",
    "    roc_auc = auc(fpr, tpr)\n",
    "\n",
    "    plt.title('Receiver Operating Characteristic')\n",
    "    plt.plot(fpr, tpr, 'b', label = 'AUC = %0.2f' % roc_auc)\n",
    "    plt.legend(loc = 'lower right')\n",
    "    plt.plot([0, 1], [0, 1],'r--')\n",
    "    plt.xlim([0, 1])\n",
    "    plt.ylim([0, 1])\n",
    "    plt.ylabel('True Positive Rate')\n",
    "    plt.xlabel('False Positive Rate')\n",
    "    plt.show()"
   ]
  },
  {
   "cell_type": "markdown",
   "metadata": {},
   "source": [
    "### Выводы\n",
    "\n",
    "**1. В данной задаче модель 2 выигрывает по всем метрикам. Однако не во всех задачах одна и та же модель будет лучшей относительно всех метрик!** \n",
    "\n",
    "**2. Качество решения задачи нельзя улучшить с помощью выбора метрики или настройки порога, но с помощью настройки порога можно добиться наилучшего результата в рамках поставленной задачи. Чтобы улучшить качество решения - необходимо изменять саму модель.**"
   ]
  },
  {
   "cell_type": "markdown",
   "metadata": {},
   "source": [
    "#### Что ещё можно сделать\n",
    "\n",
    "В python есть удобная функция classification_report, которая выводит значения нескольких метрик."
   ]
  },
  {
   "cell_type": "code",
   "execution_count": 32,
   "metadata": {},
   "outputs": [
    {
     "name": "stdout",
     "output_type": "stream",
     "text": [
      "              precision    recall  f1-score   support\n",
      "\n",
      "           0       0.65      0.84      0.73       382\n",
      "           1       0.69      0.44      0.53       307\n",
      "\n",
      "    accuracy                           0.66       689\n",
      "   macro avg       0.67      0.64      0.63       689\n",
      "weighted avg       0.67      0.66      0.65       689\n",
      "\n"
     ]
    }
   ],
   "source": [
    "from sklearn.metrics import classification_report\n",
    "\n",
    "print(classification_report(df['target'],df['pred1_classes']))"
   ]
  },
  {
   "cell_type": "markdown",
   "metadata": {},
   "source": [
    "## Оценка качества в задачах многоклассовой классификации"
   ]
  },
  {
   "cell_type": "markdown",
   "metadata": {},
   "source": [
    "### Precision, recall & confusion matrix для многоклассовой классификации\n",
    "\n",
    "<img src=\"CM1.png\">"
   ]
  },
  {
   "cell_type": "markdown",
   "metadata": {},
   "source": [
    "<img src=\"CM2.png\">\n",
    "\n",
    "Для класса Cats:\n",
    "    \n",
    "    precision = доля правильно предсказанных Cats / все предсказанные Cats = 4/13\n",
    "    \n",
    "    recall = доля правильно предсказанных Cats / все истинные Cats = 4/6"
   ]
  },
  {
   "cell_type": "code",
   "execution_count": 33,
   "metadata": {},
   "outputs": [
    {
     "name": "stdout",
     "output_type": "stream",
     "text": [
      "[[4 1 1]\n",
      " [6 2 2]\n",
      " [3 0 6]]\n",
      "              precision    recall  f1-score   support\n",
      "\n",
      "         Cat      0.308     0.667     0.421         6\n",
      "        Fish      0.667     0.200     0.308        10\n",
      "         Hen      0.667     0.667     0.667         9\n",
      "\n",
      "    accuracy                          0.480        25\n",
      "   macro avg      0.547     0.511     0.465        25\n",
      "weighted avg      0.581     0.480     0.464        25\n",
      "\n"
     ]
    }
   ],
   "source": [
    "from sklearn import metrics\n",
    "\n",
    "# Constants\n",
    "C=\"Cat\"\n",
    "F=\"Fish\"\n",
    "H=\"Hen\"\n",
    "\n",
    "# True values\n",
    "y_true = [C,C,C,C,C,C, F,F,F,F,F,F,F,F,F,F, H,H,H,H,H,H,H,H,H]\n",
    "# Predicted values\n",
    "y_pred = [C,C,C,C,H,F, C,C,C,C,C,C,H,H,F,F, C,C,C,H,H,H,H,H,H]\n",
    "\n",
    "# Print the confusion matrix\n",
    "print(metrics.confusion_matrix(y_true, y_pred))\n",
    "\n",
    "# Print the precision and recall, among other metrics\n",
    "print(metrics.classification_report(y_true, y_pred, digits=3))"
   ]
  },
  {
   "cell_type": "markdown",
   "metadata": {},
   "source": [
    "### Macro avg (average)\n",
    "\n",
    "***macro average (precision) = среднее арифметическое всех (precision)***\n",
    "\n",
    "Пример:\n",
    "***macro avg precision = (0.308+0.667+0.667)/3=0.547***\n",
    "\n",
    "### Micro avg (average)\n",
    "\n",
    "***micro average (precision) = precision, но вычисленная на всех данных вместе.***\n",
    "\n",
    "Пример:\n",
    "precision = TP/(TP+FP)\n",
    "\n",
    "TP - все правильно предсказанные объекты: \n",
    "$$TP = 4 + 2 + 6 = 12$$\n",
    "\n",
    "FP - например, все Cat, предсказанные как Fish и т.д.\n",
    "$$FP = 6 + 3 + 1 + 0 + 1 + 2 = 13$$\n",
    "\n",
    "Поэтому\n",
    "***micro avg precision*** $ = 12/(12+13)=0.480$"
   ]
  },
  {
   "cell_type": "markdown",
   "metadata": {},
   "source": [
    "### Cтатьи про метрики качества многоклассовой классификации:\n",
    "    \n",
    "1. https://towardsdatascience.com/multi-class-metrics-made-simple-part-i-precision-and-recall-9250280bddc2\n",
    "        \n",
    "2. https://towardsdatascience.com/multi-class-metrics-made-simple-part-ii-the-f1-score-ebe8b2c2ca1"
   ]
  }
 ],
 "metadata": {
  "kernelspec": {
   "display_name": "Python 3",
   "language": "python",
   "name": "python3"
  },
  "language_info": {
   "codemirror_mode": {
    "name": "ipython",
    "version": 3
   },
   "file_extension": ".py",
   "mimetype": "text/x-python",
   "name": "python",
   "nbconvert_exporter": "python",
   "pygments_lexer": "ipython3",
   "version": "3.8.1"
  }
 },
 "nbformat": 4,
 "nbformat_minor": 2
}
