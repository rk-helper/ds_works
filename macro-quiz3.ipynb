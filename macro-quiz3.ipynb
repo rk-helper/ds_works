{
 "cells": [
  {
   "cell_type": "code",
   "execution_count": 1,
   "metadata": {},
   "outputs": [],
   "source": [
    "import numpy as np\n",
    "import sympy as sp\n",
    "from sympy import *\n",
    "import handcalcs.render\n",
    "from numpy import linalg as LA"
   ]
  },
  {
   "cell_type": "markdown",
   "metadata": {},
   "source": [
    "## Задание 1"
   ]
  },
  {
   "cell_type": "markdown",
   "metadata": {},
   "source": [
    "## 1. Уровень $\\pi$ выберет политик"
   ]
  },
  {
   "cell_type": "code",
   "execution_count": null,
   "metadata": {},
   "outputs": [],
   "source": [
    "%%render\n",
    "# 1\n",
    "b = 0.008  # Чувствительность выпуска к неожиданным изменениям цен\n",
    "alpha = 1 # Параметр a отражает относительную значимость выпуска и инфляции для общ. благосостояния\n",
    "c = 1.25 # Степень консервативности политика\n",
    "gamma = Symbol('\\gamma')\n",
    "\n",
    "pi = (c * gamma * b) / alpha \n",
    "pi_e = (c * gamma_average * b) / alpha "
   ]
  },
  {
   "cell_type": "code",
   "execution_count": null,
   "metadata": {},
   "outputs": [],
   "source": [
    "%%render\n",
    "gamma_average = 1 # Среднее случайной величины $\\gamma$, то есть $\\bar{\\gamma}$\n",
    "pi_e = (c * gamma_average * b) / alpha "
   ]
  },
  {
   "cell_type": "markdown",
   "metadata": {},
   "source": [
    "### 2. Ожидаемая величина истинного общественного благосостояния"
   ]
  },
  {
   "cell_type": "code",
   "execution_count": null,
   "metadata": {},
   "outputs": [],
   "source": [
    "%%tex\n",
    "y_bar = Symbol('ybar')\n",
    "sigma_gamma = 0.04 ** 0.5\n",
    "E_W = y_bar * gamma_average + (c * b ** 2) / alpha * sigma_gamma ** 2 - (c ** 2 * b ** 2) / (2 * alpha) * (sigma_gamma ** 2+gamma_average ** 2)"
   ]
  },
  {
   "cell_type": "markdown",
   "metadata": {},
   "source": [
    "### 3. При каком значении с достигается максимум ожидаемого общественного благосостояния"
   ]
  },
  {
   "cell_type": "code",
   "execution_count": null,
   "metadata": {},
   "outputs": [],
   "source": [
    "%%render\n",
    "c = sigma_y ** 2 / (sigma_y ** 2 + gamma_avg ** 2)"
   ]
  },
  {
   "cell_type": "markdown",
   "metadata": {},
   "source": [
    "## Task 2"
   ]
  },
  {
   "cell_type": "markdown",
   "metadata": {},
   "source": [
    "###  Найдем выражение для $P_t, y_t, r_t, i_t$"
   ]
  },
  {
   "cell_type": "code",
   "execution_count": null,
   "metadata": {},
   "outputs": [],
   "source": [
    "%%render\n",
    "k = 1\n",
    "c = 2\n",
    "a = 4\n",
    "h = 5\n",
    "b = 6\n",
    "y_avg = 10\n",
    "r_avg = 3\n",
    "u_t = 7\n",
    "pi_e = 2\n",
    "m_tminus1 = 16\n",
    "\n",
    "P_t = m_tminus1 - b - h * y_avg + k * r_avg\n",
    "y_t = k * c + a * (h * y_avg - k * r_avg + (1 + k) * u_t) / (k + a * h)\n",
    "r_t = (h*(c-y_avg) + k * r_avg - (1 + k) * u_t) / (k + a * h)\n",
    "i_t = (h * (c - y_avg) + k * r_avg) / (k + a * h) + (a * h - 1) / (k + a * h) * pi_e"
   ]
  },
  {
   "cell_type": "markdown",
   "metadata": {},
   "source": [
    "## Task 3"
   ]
  },
  {
   "cell_type": "markdown",
   "metadata": {},
   "source": [
    "### 1. Равновесие в модели если $\\pi$ отличалось от $\\hat{\\pi}$"
   ]
  },
  {
   "cell_type": "code",
   "execution_count": 2,
   "metadata": {},
   "outputs": [
    {
     "data": {
      "text/latex": [
       "\\[\n",
       "\\begin{aligned}\n",
       "\\beta &= 0.9 \\; \\;\\textrm{(Ценность каждого последующего периода)}\n",
       "\\\\[10pt]\n",
       "a &= 2 \\; \\;\\textrm{(Коэффицент степени негативного характера инфляции)}\n",
       "\\\\[10pt]\n",
       "b &= 0.06 \\; \\;\\textrm{(Чувствительность выпуска к неожиданным изменениям цен)}\n",
       "\\\\[10pt]\n",
       "y_{bar} &= \\displaystyle \\bar{y} \\; \\;\\textrm{(Логарифм выпуска при гибких ценах)}\n",
       "\\\\[10pt]\n",
       "\\pi_{hat} &= 0.01 \\; \\;\\textrm{(Ожидаемая инфляция, если $\\pi$ всегда было равно $\\hat{\\pi}$)}\n",
       "\\\\[10pt]\n",
       "\\pi_{e_{dev}} &= 0.03 \\; \\;\\textrm{(Ожидаемая инфляция, если $\\pi$ когда либо отличалось от $\\hat{\\pi}$)}\n",
       "\\\\[10pt]\n",
       "\\pi_{t} &= \\frac{ b }{ a }  = \\frac{ 0.06 }{ 2 } &= 0.03  \n",
       "\\\\[10pt]\n",
       "y_{t} &= \\displaystyle \\bar{y} \\; \n",
       "\\end{aligned}\n",
       "\\]"
      ],
      "text/plain": [
       "<IPython.core.display.Latex object>"
      ]
     },
     "metadata": {},
     "output_type": "display_data"
    }
   ],
   "source": [
    "%%render\n",
    "beta = 0.9 # Ценность каждого последующего периода\n",
    "a = 2 # Коэффицент степени негативного характера инфляции\n",
    "b = 0.06 # Чувствительность выпуска к неожиданным изменениям цен\n",
    "y_bar = Symbol('ybar') # Логарифм выпуска при гибких ценах\n",
    "pi_hat = 0.01 # Ожидаемая инфляция, если $\\pi$ всегда было равно $\\hat{\\pi}$\n",
    "pi_e_dev = 0.03 # Ожидаемая инфляция, если $\\pi$ когда либо отличалось от $\\hat{\\pi}$\n",
    "\n",
    "pi_t = b / a\n",
    "y_t = y_bar"
   ]
  },
  {
   "cell_type": "markdown",
   "metadata": {},
   "source": [
    "### 2. $\\pi^e = \\hat{\\pi}$"
   ]
  },
  {
   "cell_type": "code",
   "execution_count": 3,
   "metadata": {},
   "outputs": [
    {
     "data": {
      "text/latex": [
       "\\[\n",
       "\\begin{aligned}\n",
       "\\pi_{0} &= \\frac{ b }{ a }  = \\frac{ 0.06 }{ 2 } &= 0.03  \n",
       "\\\\[10pt]\n",
       "w_{dev} &= y_{bar} \\cdot \\left( \\frac{ 1 }{ 1 - \\beta } \\right) + \\frac{ \\left( b \\right) ^{ 2 } }{ 2 \\cdot a } \\cdot \\left( \\frac{ 1 - 2 \\cdot \\beta }{ 1 - \\beta } \\right) - b \\cdot \\pi_{hat} \\\\&= \\displaystyle \\bar{y} \\cdot \\left( \\frac{ 1 }{ 1 - 0.9 } \\right) + \\frac{ \\left( 0.06 \\right) ^{ 2 } }{ 2 \\cdot 2 } \\cdot \\left( \\frac{ 1 - 2 \\cdot 0.9 }{ 1 - 0.9 } \\right) - 0.06 \\cdot 0.01 \\\\&= \\displaystyle 10.0 \\bar{y} - 0.0078  \\\\\n",
       "\\\\[10pt]\n",
       "w_{notdev} &= \\frac{ 1 }{ 1 - \\beta } \\cdot \\left( y_{bar} - a \\cdot \\frac{ \\left( \\pi_{hat} \\right) ^{ 2 } }{ 2 } \\right)  = \\frac{ 1 }{ 1 - 0.9 } \\cdot \\left( \\displaystyle \\bar{y} - 2 \\cdot \\frac{ \\left( 0.01 \\right) ^{ 2 } }{ 2 } \\right) &= \\displaystyle 10.0 \\bar{y} - 0.001  \n",
       "\\end{aligned}\n",
       "\\]"
      ],
      "text/plain": [
       "<IPython.core.display.Latex object>"
      ]
     },
     "metadata": {},
     "output_type": "display_data"
    }
   ],
   "source": [
    "%%render\n",
    "pi_0 = b / a\n",
    "w_dev = y_bar * ( 1 / (1 - beta)) + b ** 2 / (2 * a) * ((1 - 2 * beta) / (1 - beta)) - b * pi_hat\n",
    "w_notdev = 1 / (1 - beta) * (y_bar - a * pi_hat ** 2 / 2)"
   ]
  }
 ],
 "metadata": {
  "kernelspec": {
   "display_name": "Python 3",
   "language": "python",
   "name": "python3"
  },
  "language_info": {
   "codemirror_mode": {
    "name": "ipython",
    "version": 3
   },
   "file_extension": ".py",
   "mimetype": "text/x-python",
   "name": "python",
   "nbconvert_exporter": "python",
   "pygments_lexer": "ipython3",
   "version": "3.8.1"
  }
 },
 "nbformat": 4,
 "nbformat_minor": 4
}
