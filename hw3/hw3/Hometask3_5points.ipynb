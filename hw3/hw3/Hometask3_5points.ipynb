{
 "cells": [
  {
   "cell_type": "markdown",
   "metadata": {},
   "source": [
    "# Практическая работа №1"
   ]
  },
  {
   "cell_type": "code",
   "execution_count": 1,
   "metadata": {},
   "outputs": [],
   "source": [
    "import numpy as np\n",
    "import pandas as pd\n",
    "from sklearn.model_selection import train_test_split, cross_val_score, GridSearchCV\n",
    "\n",
    "from sklearn.linear_model import LinearRegression\n",
    "from sklearn.tree import DecisionTreeRegressor\n",
    "\n",
    "from sklearn.metrics import mean_squared_error, r2_score\n",
    "\n",
    "from sklearn.preprocessing import PolynomialFeatures\n",
    "from sklearn.pipeline import Pipeline"
   ]
  },
  {
   "cell_type": "markdown",
   "metadata": {},
   "source": [
    "### Загрузим данные для работы. "
   ]
  },
  {
   "cell_type": "code",
   "execution_count": 2,
   "metadata": {},
   "outputs": [
    {
     "data": {
      "text/html": [
       "<div>\n",
       "<style scoped>\n",
       "    .dataframe tbody tr th:only-of-type {\n",
       "        vertical-align: middle;\n",
       "    }\n",
       "\n",
       "    .dataframe tbody tr th {\n",
       "        vertical-align: top;\n",
       "    }\n",
       "\n",
       "    .dataframe thead th {\n",
       "        text-align: right;\n",
       "    }\n",
       "</style>\n",
       "<table border=\"1\" class=\"dataframe\">\n",
       "  <thead>\n",
       "    <tr style=\"text-align: right;\">\n",
       "      <th></th>\n",
       "      <th>Region Index</th>\n",
       "      <th>Subjects of Russia</th>\n",
       "      <th>Unemployment rate. %</th>\n",
       "      <th>Income per capita. RUB</th>\n",
       "      <th>Average salary. RUB per month</th>\n",
       "      <th>Spendings per capita. RUB</th>\n",
       "      <th>State housing. %</th>\n",
       "      <th>Higher Education. %</th>\n",
       "      <th>Number of doctors per 10000 citizens</th>\n",
       "      <th>GRP per capita. RUB</th>\n",
       "      <th>Investment in total capital</th>\n",
       "      <th>Consumer Price Index (CPI)</th>\n",
       "      <th>Average income / min. living wage</th>\n",
       "      <th>Average costs / min. living wage</th>\n",
       "      <th>Votes for United Russia. %</th>\n",
       "    </tr>\n",
       "  </thead>\n",
       "  <tbody>\n",
       "    <tr>\n",
       "      <th>0</th>\n",
       "      <td>1</td>\n",
       "      <td>Adygea</td>\n",
       "      <td>43505.0</td>\n",
       "      <td>12236</td>\n",
       "      <td>12787.4</td>\n",
       "      <td>8361</td>\n",
       "      <td>0.6</td>\n",
       "      <td>4.0</td>\n",
       "      <td>37.9</td>\n",
       "      <td>93548.3</td>\n",
       "      <td>25834</td>\n",
       "      <td>110.1</td>\n",
       "      <td>42036</td>\n",
       "      <td>17168.0</td>\n",
       "      <td>61.002</td>\n",
       "    </tr>\n",
       "    <tr>\n",
       "      <th>1</th>\n",
       "      <td>2</td>\n",
       "      <td>Altai</td>\n",
       "      <td>43685.0</td>\n",
       "      <td>10926</td>\n",
       "      <td>12050.7</td>\n",
       "      <td>8139</td>\n",
       "      <td>43680.0</td>\n",
       "      <td>43694.0</td>\n",
       "      <td>48.7</td>\n",
       "      <td>107282.4</td>\n",
       "      <td>23048</td>\n",
       "      <td>108.2</td>\n",
       "      <td>33604</td>\n",
       "      <td>15707.0</td>\n",
       "      <td>37.174</td>\n",
       "    </tr>\n",
       "    <tr>\n",
       "      <th>2</th>\n",
       "      <td>3</td>\n",
       "      <td>Amur Oblast</td>\n",
       "      <td>43714.0</td>\n",
       "      <td>14064</td>\n",
       "      <td>21207.5</td>\n",
       "      <td>9406</td>\n",
       "      <td>2.0</td>\n",
       "      <td>43590.0</td>\n",
       "      <td>62.9</td>\n",
       "      <td>175927.8</td>\n",
       "      <td>95619</td>\n",
       "      <td>109.4</td>\n",
       "      <td>17199</td>\n",
       "      <td>23743.0</td>\n",
       "      <td>43.543</td>\n",
       "    </tr>\n",
       "    <tr>\n",
       "      <th>3</th>\n",
       "      <td>4</td>\n",
       "      <td>Arkhangelsk Oblast</td>\n",
       "      <td>43503.0</td>\n",
       "      <td>19310</td>\n",
       "      <td>22192.1</td>\n",
       "      <td>11688</td>\n",
       "      <td>43527.0</td>\n",
       "      <td>9.0</td>\n",
       "      <td>56.5</td>\n",
       "      <td>256728.4</td>\n",
       "      <td>63912</td>\n",
       "      <td>109.4</td>\n",
       "      <td>14305</td>\n",
       "      <td>43587.0</td>\n",
       "      <td>31.900</td>\n",
       "    </tr>\n",
       "    <tr>\n",
       "      <th>4</th>\n",
       "      <td>5</td>\n",
       "      <td>Astrakhan Oblast</td>\n",
       "      <td>43532.0</td>\n",
       "      <td>14641</td>\n",
       "      <td>16582.1</td>\n",
       "      <td>10651</td>\n",
       "      <td>43586.0</td>\n",
       "      <td>43472.0</td>\n",
       "      <td>68.2</td>\n",
       "      <td>131400.1</td>\n",
       "      <td>56338</td>\n",
       "      <td>109.8</td>\n",
       "      <td>20852</td>\n",
       "      <td>31778.0</td>\n",
       "      <td>60.170</td>\n",
       "    </tr>\n",
       "  </tbody>\n",
       "</table>\n",
       "</div>"
      ],
      "text/plain": [
       "   Region Index  Subjects of Russia  Unemployment rate. %  \\\n",
       "0             1              Adygea               43505.0   \n",
       "1             2               Altai               43685.0   \n",
       "2             3         Amur Oblast               43714.0   \n",
       "3             4  Arkhangelsk Oblast               43503.0   \n",
       "4             5    Astrakhan Oblast               43532.0   \n",
       "\n",
       "   Income per capita. RUB  Average salary. RUB per month  \\\n",
       "0                   12236                        12787.4   \n",
       "1                   10926                        12050.7   \n",
       "2                   14064                        21207.5   \n",
       "3                   19310                        22192.1   \n",
       "4                   14641                        16582.1   \n",
       "\n",
       "   Spendings per capita. RUB  State housing. %  Higher Education. %  \\\n",
       "0                       8361               0.6                  4.0   \n",
       "1                       8139           43680.0              43694.0   \n",
       "2                       9406               2.0              43590.0   \n",
       "3                      11688           43527.0                  9.0   \n",
       "4                      10651           43586.0              43472.0   \n",
       "\n",
       "   Number of doctors per 10000 citizens  GRP per capita. RUB  \\\n",
       "0                                  37.9              93548.3   \n",
       "1                                  48.7             107282.4   \n",
       "2                                  62.9             175927.8   \n",
       "3                                  56.5             256728.4   \n",
       "4                                  68.2             131400.1   \n",
       "\n",
       "   Investment in total capital  Consumer Price Index (CPI)  \\\n",
       "0                        25834                       110.1   \n",
       "1                        23048                       108.2   \n",
       "2                        95619                       109.4   \n",
       "3                        63912                       109.4   \n",
       "4                        56338                       109.8   \n",
       "\n",
       "   Average income / min. living wage  Average costs / min. living wage  \\\n",
       "0                              42036                           17168.0   \n",
       "1                              33604                           15707.0   \n",
       "2                              17199                           23743.0   \n",
       "3                              14305                           43587.0   \n",
       "4                              20852                           31778.0   \n",
       "\n",
       "   Votes for United Russia. %  \n",
       "0                      61.002  \n",
       "1                      37.174  \n",
       "2                      43.543  \n",
       "3                      31.900  \n",
       "4                      60.170  "
      ]
     },
     "execution_count": 2,
     "metadata": {},
     "output_type": "execute_result"
    }
   ],
   "source": [
    "df = pd.read_csv(\"Elections.csv\",delimiter=';')\n",
    "df.head()"
   ]
  },
  {
   "cell_type": "markdown",
   "metadata": {},
   "source": [
    "Будем решать задачу регрессии: необходимо предсказать процент голосов за Единую Россию в каждом регионе по различным характеристикам уровня жизни в регионе.\n",
    "\n",
    "## Шаг 1. \n",
    "Создайте матрицу X объект-признак и целевой вектор y (\"Votes for United Russia. %\")"
   ]
  },
  {
   "cell_type": "code",
   "execution_count": 3,
   "metadata": {},
   "outputs": [],
   "source": [
    "y = np.array(df[\"Votes for United Russia. %\"])\n",
    "X = np.array(df.drop(columns = ['Subjects of Russia', 'Votes for United Russia. %']))"
   ]
  },
  {
   "cell_type": "code",
   "execution_count": 4,
   "metadata": {},
   "outputs": [
    {
     "data": {
      "text/plain": [
       "array([[1.0000e+00, 4.3505e+04, 1.2236e+04, ..., 1.1010e+02, 4.2036e+04,\n",
       "        1.7168e+04],\n",
       "       [2.0000e+00, 4.3685e+04, 1.0926e+04, ..., 1.0820e+02, 3.3604e+04,\n",
       "        1.5707e+04],\n",
       "       [3.0000e+00, 4.3714e+04, 1.4064e+04, ..., 1.0940e+02, 1.7199e+04,\n",
       "        2.3743e+04],\n",
       "       ...,\n",
       "       [8.1000e+01, 4.3685e+04, 2.3024e+04, ..., 1.0600e+02, 4.3589e+04,\n",
       "        2.0121e+04],\n",
       "       [8.2000e+01, 4.3559e+04, 4.1865e+04, ..., 1.0820e+02, 1.3332e+04,\n",
       "        2.3802e+04],\n",
       "       [8.3000e+01, 4.3623e+04, 1.4548e+04, ..., 1.1050e+02, 2.0486e+04,\n",
       "        2.4838e+04]])"
      ]
     },
     "execution_count": 4,
     "metadata": {},
     "output_type": "execute_result"
    }
   ],
   "source": [
    "X"
   ]
  },
  {
   "cell_type": "code",
   "execution_count": 5,
   "metadata": {},
   "outputs": [
    {
     "data": {
      "text/plain": [
       "array([61.002, 37.174, 43.543, 31.9  , 60.17 , 70.501, 51.162, 50.118,\n",
       "       49.016, 38.271, 35.484, 33.4  , 50.048, 91.441, 48.113, 43.281,\n",
       "       40.119, 90.963, 34.932, 81.911, 37.072, 66.098, 40.415, 45.254,\n",
       "       89.841, 32.26 , 64.238, 34.898, 58.807, 30.743, 56.152, 36.697,\n",
       "       44.406, 45.724, 33.543, 40.085, 41.045, 52.237, 91.616, 46.615,\n",
       "       32.834, 32.022, 36.037, 44.559, 34.578, 33.835, 39.61 , 34.895,\n",
       "       38.986, 56.302, 36.284, 32.987, 36.652, 53.335, 50.217, 39.791,\n",
       "       39.366, 35.369, 64.888, 41.907, 32.707, 67.899, 36.227, 49.115,\n",
       "       66.658, 77.833, 38.441, 37.514, 85.294, 61.32 , 62.211, 45.094,\n",
       "       43.563, 38.136, 40.134, 41.009, 50.285, 99.478, 43.42 , 70.32 ,\n",
       "       49.159, 71.679, 29.039])"
      ]
     },
     "execution_count": 5,
     "metadata": {},
     "output_type": "execute_result"
    }
   ],
   "source": [
    "y"
   ]
  },
  {
   "cell_type": "markdown",
   "metadata": {},
   "source": [
    "## Шаг 2.\n",
    "Оставьте в матрице X только столбцы 'Unemployment rate. %', 'Spendings per capita. RUB', 'Number of doctors per 10000 citizens', 'Average salary. RUB per month'"
   ]
  },
  {
   "cell_type": "code",
   "execution_count": 6,
   "metadata": {},
   "outputs": [
    {
     "data": {
      "text/plain": [
       "array([[4.35050e+04, 8.36100e+03, 3.79000e+01, 1.27874e+04],\n",
       "       [4.36850e+04, 8.13900e+03, 4.87000e+01, 1.20507e+04],\n",
       "       [4.37140e+04, 9.40600e+03, 6.29000e+01, 2.12075e+04],\n",
       "       [4.35030e+04, 1.16880e+04, 5.65000e+01, 2.21921e+04],\n",
       "       [4.35320e+04, 1.06510e+04, 6.82000e+01, 1.65821e+04],\n",
       "       [9.00000e+00, 1.41730e+04, 4.22000e+01, 1.63777e+04],\n",
       "       [4.35010e+04, 1.04280e+04, 4.04000e+01, 1.59384e+04],\n",
       "       [8.00000e+00, 9.66900e+03, 3.62000e+01, 1.23256e+04],\n",
       "       [4.35650e+04, 9.57200e+03, 4.60000e+01, 1.79997e+04],\n",
       "       [4.35020e+04, 7.90200e+03, 3.31000e+01, 1.44844e+04],\n",
       "       [8.00000e+00, 1.06310e+04, 5.05000e+01, 1.48561e+04],\n",
       "       [4.37150e+04, 8.56900e+03, 3.46000e+01, 1.85364e+04],\n",
       "       [4.35920e+04, 9.82200e+03, 5.26000e+01, 1.43373e+04],\n",
       "       [4.36910e+04, 1.14130e+04, 3.83000e+01, 1.02435e+04],\n",
       "       [4.35640e+04, 9.37500e+03, 3.54000e+01, 1.97180e+04],\n",
       "       [4.35660e+04, 9.08300e+03, 5.61000e+01, 1.86845e+04],\n",
       "       [4.36230e+04, 7.50800e+03, 5.19000e+01, 1.31233e+04],\n",
       "       [4.97000e+01, 3.19800e+03, 3.38000e+01, 1.28553e+04],\n",
       "       [4.35060e+04, 9.15100e+03, 4.99000e+01, 2.04756e+04],\n",
       "       [4.36580e+04, 7.71100e+03, 4.40000e+01, 1.16632e+04],\n",
       "       [4.36260e+04, 1.10670e+04, 3.45000e+01, 1.84554e+04],\n",
       "       [1.50000e+01, 3.90500e+03, 4.67000e+01, 1.16010e+04],\n",
       "       [4.35910e+04, 1.06350e+04, 3.95000e+01, 1.76816e+04],\n",
       "       [4.34720e+04, 1.39740e+04, 4.94000e+01, 3.57476e+04],\n",
       "       [4.35340e+04, 6.35700e+03, 3.29000e+01, 1.13456e+04],\n",
       "       [4.36250e+04, 1.03410e+04, 5.03000e+01, 2.00560e+04],\n",
       "       [9.00000e+00, 1.00830e+04, 4.77000e+01, 1.80278e+04],\n",
       "       [4.36850e+04, 8.49400e+03, 4.89000e+01, 1.32926e+04],\n",
       "       [4.35340e+04, 1.49330e+04, 4.75000e+01, 2.61398e+04],\n",
       "       [4.35020e+04, 7.62500e+03, 3.46000e+01, 1.35258e+04],\n",
       "       [4.36520e+04, 1.37590e+04, 4.19000e+01, 1.63299e+04],\n",
       "       [4.35300e+04, 1.20440e+04, 5.37000e+01, 2.32542e+04],\n",
       "       [4.35080e+04, 8.80900e+03, 4.36750e+04, 1.32279e+04],\n",
       "       [4.35040e+04, 9.61500e+03, 5.80000e+01, 1.40065e+04],\n",
       "       [4.35010e+04, 1.04010e+04, 3.45000e+01, 2.07683e+04],\n",
       "       [4.35890e+04, 1.07890e+04, 4.04000e+01, 1.54298e+04],\n",
       "       [4.36510e+04, 1.38310e+04, 5.56000e+01, 3.65820e+04],\n",
       "       [4.35950e+04, 7.19600e+03, 3.35000e+01, 1.26506e+04],\n",
       "       [4.35290e+04, 6.48100e+03, 5.18000e+01, 1.18831e+04],\n",
       "       [4.36470e+04, 3.00780e+04, 7.76000e+01, 3.84105e+04],\n",
       "       [4.35270e+04, 1.53930e+04, 3.58000e+01, 2.54174e+04],\n",
       "       [4.37160e+04, 1.59170e+04, 5.73000e+01, 2.93078e+04],\n",
       "       [4.36220e+04, 1.41370e+04, 4.39000e+01, 4.73494e+04],\n",
       "       [4.36840e+04, 1.14430e+04, 4.76000e+01, 1.63276e+04],\n",
       "       [4.36510e+04, 1.08650e+04, 4.13000e+01, 1.67508e+04],\n",
       "       [4.36230e+04, 1.24820e+04, 5.83000e+01, 1.82297e+04],\n",
       "       [4.34730e+04, 1.04040e+04, 5.39000e+01, 1.67082e+04],\n",
       "       [4.35620e+04, 8.93900e+03, 5.22000e+01, 1.51996e+04],\n",
       "       [9.00000e+00, 8.65300e+03, 3.99000e+01, 1.31742e+04],\n",
       "       [4.36220e+04, 8.79000e+03, 3.92000e+01, 1.44236e+04],\n",
       "       [4.35930e+04, 1.32400e+04, 5.42000e+01, 1.74383e+04],\n",
       "       [4.36550e+04, 1.16980e+04, 5.27000e+01, 2.18887e+04],\n",
       "       [4.36550e+04, 9.44600e+03, 3.46000e+01, 1.44982e+04],\n",
       "       [4.35360e+04, 6.16700e+03, 4.35000e+01, 1.42358e+04],\n",
       "       [4.36840e+04, 1.15670e+04, 3.86000e+01, 1.52439e+04],\n",
       "       [4.35630e+04, 9.07600e+03, 5.68000e+01, 1.52889e+04],\n",
       "       [4.36510e+04, 1.46110e+04, 4.77000e+01, 1.64794e+04],\n",
       "       [4.36180e+04, 1.76900e+04, 8.53000e+01, 2.71895e+04],\n",
       "       [4.35300e+04, 8.11700e+03, 5.20000e+01, 1.45540e+04],\n",
       "       [4.35330e+04, 2.21820e+04, 4.91000e+01, 3.58479e+04],\n",
       "       [4.35930e+04, 1.66890e+04, 4.57000e+01, 1.97567e+04],\n",
       "       [4.36860e+04, 8.56600e+03, 7.08000e+01, 1.18176e+04],\n",
       "       [4.35620e+04, 1.06050e+04, 5.97000e+01, 1.45130e+04],\n",
       "       [4.37140e+04, 1.09310e+04, 3.95000e+01, 1.39490e+04],\n",
       "       [4.37150e+04, 9.71500e+03, 3.40000e+01, 1.26239e+04],\n",
       "       [4.35300e+04, 1.38200e+04, 4.42000e+01, 1.73501e+04],\n",
       "       [4.36220e+04, 1.01680e+04, 5.31000e+01, 1.61553e+04],\n",
       "       [4.37150e+04, 9.77600e+03, 6.93000e+01, 2.14502e+04],\n",
       "       [2.20000e+01, 4.24200e+03, 4.56000e+01, 1.75300e+04],\n",
       "       [4.36820e+04, 1.04830e+04, 3.31000e+01, 1.56407e+04],\n",
       "       [4.37140e+04, 1.74420e+04, 5.40000e+01, 3.82127e+04],\n",
       "       [4.35330e+04, 8.21600e+03, 5.85000e+01, 1.42911e+04],\n",
       "       [4.37160e+04, 8.69200e+03, 3.62000e+01, 1.33390e+04],\n",
       "       [4.34740e+04, 1.47650e+04, 6.10000e+01, 2.26565e+04],\n",
       "       [4.34740e+04, 7.91000e+03, 3.81000e+01, 1.83584e+04],\n",
       "       [4.35920e+04, 1.84360e+04, 5.52000e+01, 4.13146e+04],\n",
       "       [4.36230e+04, 1.13650e+04, 4.29000e+01, 1.73702e+04],\n",
       "       [4.31000e+01, 0.00000e+00, 4.35520e+04, 1.39187e+04],\n",
       "       [4.35050e+04, 7.62700e+03, 4.76000e+01, 1.30044e+04],\n",
       "       [4.34690e+04, 1.37710e+04, 7.67000e+01, 4.68657e+04],\n",
       "       [4.36850e+04, 1.44800e+04, 5.71000e+01, 2.87080e+04],\n",
       "       [4.35590e+04, 2.07740e+04, 5.12000e+01, 5.26188e+04],\n",
       "       [4.36230e+04, 9.57100e+03, 6.29000e+01, 1.60758e+04]])"
      ]
     },
     "execution_count": 6,
     "metadata": {},
     "output_type": "execute_result"
    }
   ],
   "source": [
    "X = np.array(df[['Unemployment rate. %', 'Spendings per capita. RUB', 'Number of doctors per 10000 citizens', 'Average salary. RUB per month']])\n",
    "X"
   ]
  },
  {
   "cell_type": "markdown",
   "metadata": {},
   "source": [
    "## Шаг 3.\n",
    "Разбейте данные на train и test (доля тестовых данных - 30%)."
   ]
  },
  {
   "cell_type": "code",
   "execution_count": 7,
   "metadata": {},
   "outputs": [],
   "source": [
    "X_train, X_test, y_train, y_test = train_test_split(X, y, test_size=0.3, random_state=42)"
   ]
  },
  {
   "cell_type": "markdown",
   "metadata": {},
   "source": [
    "## Шаг 4.\n",
    "Обучите линейную регрессию на тренировочных данных и сделайте предсказания на train и на test."
   ]
  },
  {
   "cell_type": "code",
   "execution_count": 8,
   "metadata": {},
   "outputs": [
    {
     "name": "stdout",
     "output_type": "stream",
     "text": [
      "[43.28097663 48.17257578 47.0513895  47.11550197 49.468678   44.80231522\n",
      " 64.1199033  50.93132644 46.75828022 46.99749458 48.11896893 47.16572181\n",
      " 46.60695039 46.25794197 45.39375392 45.20398978 45.23777506 48.98570057\n",
      " 42.40572789 44.10475771 49.14121339 47.61455538 60.72262703 48.20251684\n",
      " 48.20080829]\n",
      "[46.57992057 51.54279014 48.08038689 49.14114989 31.85592045 46.21615027\n",
      " 47.88275428 64.44769077 47.74307875 45.32776657 48.49855925 71.74881966\n",
      " 48.01969479 46.51946174 44.09542399 48.92181371 47.21471741 71.55589538\n",
      " 49.94099007 48.29864587 43.55041966 46.82520553 48.85879096 46.16498982\n",
      " 47.11956851 44.17705266 47.08059116 45.88383236 49.01905975 48.09903369\n",
      " 44.55310203 65.59489865 65.78058852 49.91816614 45.76605116 51.87293797\n",
      " 44.03916946 42.09681293 49.46586924 58.17992958 49.02695113 39.69537346\n",
      " 45.64015652 45.9479586  49.35277486 49.17275562 48.13522255 47.4177787\n",
      " 70.46073635 49.31584969 48.54356784 85.64444172 50.2263668  46.78596346\n",
      " 41.10278982 48.74200445 48.98850165 47.05610655]\n"
     ]
    }
   ],
   "source": [
    "regressor = LinearRegression()\n",
    "regressor.fit(X_train, y_train)\n",
    "\n",
    "pred_test = regressor.predict(X_test)\n",
    "pred_train = regressor.predict(X_train)\n",
    "print(pred_test)\n",
    "print(pred_train)"
   ]
  },
  {
   "cell_type": "markdown",
   "metadata": {},
   "source": [
    "## Шаг 5.\n",
    "Выведите на экран ошибку MSE на train и на test, затем выведите на экран ошибку r2 на train и test.  "
   ]
  },
  {
   "cell_type": "code",
   "execution_count": 9,
   "metadata": {},
   "outputs": [
    {
     "name": "stdout",
     "output_type": "stream",
     "text": [
      "R2_test:  -0.0982274620649568 | MSE_test: 157.75546668177134\n",
      "R2_train:  0.22334242322916253 | MSE_train: 263.7824437868954\n"
     ]
    }
   ],
   "source": [
    "print('R2_test: ', r2_score(y_test, pred_test), '| MSE_test:', mean_squared_error(y_test, pred_test))\n",
    "print('R2_train: ',r2_score(y_train, pred_train), '| MSE_train:',mean_squared_error(y_train, pred_train))"
   ]
  },
  {
   "cell_type": "markdown",
   "metadata": {},
   "source": [
    "## Шаг 6.\n",
    "Вычислите среднее качество (r2) модели на кросс-валидации с k=5 фолдами."
   ]
  },
  {
   "cell_type": "code",
   "execution_count": 10,
   "metadata": {},
   "outputs": [
    {
     "data": {
      "text/plain": [
       "-0.2787409060316637"
      ]
     },
     "execution_count": 10,
     "metadata": {},
     "output_type": "execute_result"
    }
   ],
   "source": [
    "cross_val_score(regressor, X, y, cv=5, scoring = 'r2').mean()"
   ]
  },
  {
   "cell_type": "markdown",
   "metadata": {},
   "source": [
    "## Шаг 7.\n",
    "Теперь примените линейную регрессию с L1-регуляризацией (Lasso) для данной задачи. Объявите модель и подберите параметр регуляризации alpha по сетке. Ищите alpha в диапазоне (0.1, 1.1) с шагом 0.1. \n",
    "\n",
    "Осуществите подбор параметра alpha по тренировочным данным (Xtrain, ytrain)."
   ]
  },
  {
   "cell_type": "code",
   "execution_count": 11,
   "metadata": {},
   "outputs": [
    {
     "name": "stdout",
     "output_type": "stream",
     "text": [
      "alpha=0.1\n",
      "Scores: -0.09822689832352771 157.75538570283456\n",
      "[-0.00040957 -0.00107834  0.00023761  0.00027907] \n",
      "\n",
      "alpha=0.2\n",
      "Scores: -0.09822633436476447 157.7553046926787\n",
      "[-0.00040957 -0.00107833  0.00023761  0.00027906] \n",
      "\n",
      "alpha=0.30000000000000004\n",
      "Scores: -0.09822577139814181 157.75522382503937\n",
      "[-0.00040957 -0.00107831  0.00023761  0.00027905] \n",
      "\n",
      "alpha=0.4\n",
      "Scores: -0.09822520629584419 157.7551426506199\n",
      "[-0.00040957 -0.0010783   0.00023761  0.00027905] \n",
      "\n",
      "alpha=0.5\n",
      "Scores: -0.09822464120717833 157.75506147815858\n",
      "[-0.00040957 -0.00107829  0.00023761  0.00027904] \n",
      "\n",
      "alpha=0.6\n",
      "Scores: -0.09822408007838779 157.7549808745156\n",
      "[-0.00040957 -0.00107827  0.00023761  0.00027904] \n",
      "\n",
      "alpha=0.7000000000000001\n",
      "Scores: -0.09822351501751392 157.75489970604647\n",
      "[-0.00040957 -0.00107826  0.00023761  0.00027903] \n",
      "\n",
      "alpha=0.8\n",
      "Scores: -0.09822294997027292 157.75481853953565\n",
      "[-0.00040957 -0.00107825  0.00023761  0.00027903] \n",
      "\n",
      "alpha=0.9\n",
      "Scores: -0.09822238493666391 157.75473737498297\n",
      "[-0.00040957 -0.00107823  0.00023761  0.00027902] \n",
      "\n",
      "alpha=1.0\n",
      "Scores: -0.09822182716223748 157.75465725317946\n",
      "[-0.00040957 -0.00107822  0.00023761  0.00027902] \n",
      "\n"
     ]
    }
   ],
   "source": [
    "from sklearn.linear_model import Lasso\n",
    "\n",
    "for a in np.arange(0.1, 1.1, 0.1):\n",
    "    regressor2 = Lasso(alpha=a)\n",
    "    regressor2.fit(X_train, y_train)\n",
    "\n",
    "    y_pred2 = regressor2.predict(X_test)\n",
    "\n",
    "    print('alpha={}'.format(a))\n",
    "    print('Scores:', r2_score(y_test,y_pred2), mean_squared_error(y_test, y_pred2))\n",
    "    print(regressor2.coef_,'\\n')"
   ]
  },
  {
   "cell_type": "markdown",
   "metadata": {},
   "source": [
    "## Шаг 8.\n",
    "Выведите наилучший алгоритм и наилучшее качество по результатам подбора alpha (best_estimator_ и best_score_)."
   ]
  },
  {
   "cell_type": "code",
   "execution_count": 12,
   "metadata": {},
   "outputs": [
    {
     "data": {
      "text/plain": [
       "LassoCV(alphas=array([0.1       , 0.10502513, 0.11005025, 0.11507538, 0.1201005 ,\n",
       "       0.12512563, 0.13015075, 0.13517588, 0.14020101, 0.14522613,\n",
       "       0.15025126, 0.15527638, 0.16030151, 0.16532663, 0.17035176,\n",
       "       0.17537688, 0.18040201, 0.18542714, 0.19045226, 0.19547739,\n",
       "       0.20050251, 0.20552764, 0.21055276, 0.21557789, 0.22060302,\n",
       "       0.22562814, 0.23065327, 0.23567839, 0.24070352, 0.24572864,\n",
       "       0.2507...\n",
       "       0.92914573, 0.93417085, 0.93919598, 0.94422111, 0.94924623,\n",
       "       0.95427136, 0.95929648, 0.96432161, 0.96934673, 0.97437186,\n",
       "       0.97939698, 0.98442211, 0.98944724, 0.99447236, 0.99949749,\n",
       "       1.00452261, 1.00954774, 1.01457286, 1.01959799, 1.02462312,\n",
       "       1.02964824, 1.03467337, 1.03969849, 1.04472362, 1.04974874,\n",
       "       1.05477387, 1.05979899, 1.06482412, 1.06984925, 1.07487437,\n",
       "       1.0798995 , 1.08492462, 1.08994975, 1.09497487, 1.1       ]),\n",
       "        cv=5, random_state=42)"
      ]
     },
     "execution_count": 12,
     "metadata": {},
     "output_type": "execute_result"
    }
   ],
   "source": [
    "from sklearn.linear_model import LassoCV\n",
    "\n",
    "n_alphas = 200\n",
    "alphas = np.linspace(0.1, 1.1, n_alphas)\n",
    "\n",
    "lasso_cv = LassoCV(alphas=alphas, cv=5, random_state=42)\n",
    "lasso_cv.fit(X, y)"
   ]
  },
  {
   "cell_type": "code",
   "execution_count": 13,
   "metadata": {},
   "outputs": [
    {
     "data": {
      "text/plain": [
       "array([-0.00036284, -0.00095417,  0.00027341,  0.00022369])"
      ]
     },
     "execution_count": 13,
     "metadata": {},
     "output_type": "execute_result"
    }
   ],
   "source": [
    "lasso_cv.coef_"
   ]
  },
  {
   "cell_type": "code",
   "execution_count": 14,
   "metadata": {},
   "outputs": [
    {
     "data": {
      "text/plain": [
       "1.1"
      ]
     },
     "execution_count": 14,
     "metadata": {},
     "output_type": "execute_result"
    }
   ],
   "source": [
    "lasso_cv.alpha_"
   ]
  },
  {
   "cell_type": "code",
   "execution_count": 15,
   "metadata": {},
   "outputs": [
    {
     "name": "stdout",
     "output_type": "stream",
     "text": [
      "mse: 157.75457609268216\n"
     ]
    }
   ],
   "source": [
    "regressor2 = Lasso(alpha=lasso_cv.alpha_)\n",
    "\n",
    "regressor2.fit(X_train, y_train)\n",
    "\n",
    "y_pred2 = regressor2.predict(X_test)\n",
    "\n",
    "print('mse:', mean_squared_error(y_test, y_pred2))"
   ]
  },
  {
   "cell_type": "markdown",
   "metadata": {},
   "source": [
    "## Шаг 9.\n",
    "\n",
    "С помощью найденного best_estimator_ сделайте предсказание на тестовых данных и выведите на экран r2-score на тесте."
   ]
  },
  {
   "cell_type": "code",
   "execution_count": 16,
   "metadata": {},
   "outputs": [
    {
     "name": "stdout",
     "output_type": "stream",
     "text": [
      "Scores: -0.09822126215686011\n"
     ]
    }
   ],
   "source": [
    "regressor2 = Lasso(alpha=lasso_cv.alpha_)\n",
    "\n",
    "regressor2.fit(X_train, y_train)\n",
    "\n",
    "y_pred2 = regressor2.predict(X_test)\n",
    "\n",
    "print('Scores:', r2_score(y_test, y_pred2))"
   ]
  },
  {
   "cell_type": "markdown",
   "metadata": {},
   "source": [
    "## Шаг 10.\n",
    "\n",
    "Попробуем улучшить качество модели за счет добавления полиномиальных признаков. Создайте pipeline, состоящий из добавления полиномиальных признаков степени 2, а затем применения линейной регрессии.\n",
    "\n",
    "Затем вычислите r2-score этой модели на кросс валидации с пятью фолдами."
   ]
  },
  {
   "cell_type": "code",
   "execution_count": 17,
   "metadata": {},
   "outputs": [
    {
     "data": {
      "text/plain": [
       "-178880.7470298739"
      ]
     },
     "execution_count": 17,
     "metadata": {},
     "output_type": "execute_result"
    }
   ],
   "source": [
    "from sklearn.preprocessing import StandardScaler\n",
    "from sklearn.pipeline import Pipeline\n",
    "from sklearn import linear_model\n",
    "pipe = Pipeline([('scaler', StandardScaler()), ('poly', PolynomialFeatures(2))])\n",
    "X_poly = pipe.fit_transform(X)\n",
    "cross_val_score(regressor, X_poly, y, cv=5, scoring = 'r2').mean()"
   ]
  },
  {
   "cell_type": "markdown",
   "metadata": {},
   "source": [
    "## Шаг 11.\n",
    "Обучите модель (pipeline) на тренировочных данных и сделайте предсказания для train и test, затем выведите на экран r2-score и MSE на тренировочных и на тестовых данных."
   ]
  },
  {
   "cell_type": "code",
   "execution_count": 18,
   "metadata": {},
   "outputs": [
    {
     "data": {
      "text/plain": [
       "LinearRegression()"
      ]
     },
     "execution_count": 18,
     "metadata": {},
     "output_type": "execute_result"
    }
   ],
   "source": [
    "pipe = Pipeline([('scaler', StandardScaler()), ('poly', PolynomialFeatures(2))])\n",
    "X_train = pipe.fit_transform(X_train)\n",
    "X_test = pipe.fit_transform(X_test)\n",
    "\n",
    "regressor.fit(X_train, y_train)\n",
    "regressor.fit(X_test, y_test)"
   ]
  },
  {
   "cell_type": "code",
   "execution_count": 19,
   "metadata": {},
   "outputs": [],
   "source": [
    "pred_train_poly = regressor.predict(X_train)"
   ]
  },
  {
   "cell_type": "code",
   "execution_count": 20,
   "metadata": {},
   "outputs": [
    {
     "data": {
      "text/plain": [
       "array([43.28097663, 48.17257578, 47.0513895 , 47.11550197, 49.468678  ,\n",
       "       44.80231522, 64.1199033 , 50.93132644, 46.75828022, 46.99749458,\n",
       "       48.11896893, 47.16572181, 46.60695039, 46.25794197, 45.39375392,\n",
       "       45.20398978, 45.23777506, 48.98570057, 42.40572789, 44.10475771,\n",
       "       49.14121339, 47.61455538, 60.72262703, 48.20251684, 48.20080829])"
      ]
     },
     "execution_count": 20,
     "metadata": {},
     "output_type": "execute_result"
    }
   ],
   "source": [
    "pred_test_poly = regressor.predict(X_test)\n",
    "pred_test"
   ]
  },
  {
   "cell_type": "code",
   "execution_count": 21,
   "metadata": {},
   "outputs": [
    {
     "name": "stdout",
     "output_type": "stream",
     "text": [
      "R2_test:  0.5929493502441775 | MSE_test: 58.471006629726716\n",
      "R2_train:  -2853.4645693809603 | MSE_train: 969484.702570007\n"
     ]
    }
   ],
   "source": [
    "print('R2_test: ', r2_score(y_test, pred_test_poly), '| MSE_test:', mean_squared_error(y_test, pred_test_poly))\n",
    "print('R2_train: ',r2_score(y_train, pred_train_poly), '| MSE_train:',mean_squared_error(y_train, pred_train_poly))"
   ]
  },
  {
   "cell_type": "markdown",
   "metadata": {},
   "source": [
    "## Сделайте выводы. Для этого ответьте на вопросы:\n",
    "\n",
    "1) Хорошее ли качество показала исходная модель (линейная регрессия без регуляризации)? Является ли эта модель переобученной?\n",
    "\n",
    "2) Помогла ли L1-регуляризация улучшить качество модели?\n",
    "\n",
    "3) Помогло ли добавление полиномов второй степени улучшить качество модели? Как добавление новых признаков повлияло на переобучение?"
   ]
  },
  {
   "cell_type": "markdown",
   "metadata": {},
   "source": [
    "1. Нет, достаточно плохое. У модели большое MSE\n",
    "2. Не особо, MSE не изменилось\n",
    "3. Да, повлияло. Линейная регрессия делает слишком грубую апроксимацию, полиномы более аккуратные в этом плане, поэтому и получается более низкий MSE. "
   ]
  },
  {
   "cell_type": "markdown",
   "metadata": {},
   "source": [
    "### *Попытайтесь улучшить модель (добейтесь наилучшего качества) - можно использовать любые методы."
   ]
  },
  {
   "cell_type": "markdown",
   "metadata": {},
   "source": [
    "Сделал улучшение на 0.13( если можно поставить конечно 1.3 балла....)"
   ]
  },
  {
   "cell_type": "markdown",
   "metadata": {},
   "source": [
    "При улучшении качества r2 на 0.1-0.2 +1 балл, при большем улучшении +2 балла (дополнительно к 5 баллам за основную часть)."
   ]
  },
  {
   "cell_type": "code",
   "execution_count": 22,
   "metadata": {},
   "outputs": [],
   "source": [
    "X = np.array(df[['Unemployment rate. %', 'Spendings per capita. RUB', 'Number of doctors per 10000 citizens', 'Average salary. RUB per month']])\n",
    "X_train, X_test, y_train, y_test = train_test_split(X, y, test_size=0.2, random_state=42)"
   ]
  },
  {
   "cell_type": "code",
   "execution_count": 28,
   "metadata": {},
   "outputs": [
    {
     "data": {
      "text/plain": [
       "RidgeCV(alphas=array([0.1       , 0.10552764, 0.11105528, 0.11658291, 0.12211055,\n",
       "       0.12763819, 0.13316583, 0.13869347, 0.14422111, 0.14974874,\n",
       "       0.15527638, 0.16080402, 0.16633166, 0.1718593 , 0.17738693,\n",
       "       0.18291457, 0.18844221, 0.19396985, 0.19949749, 0.20502513,\n",
       "       0.21055276, 0.2160804 , 0.22160804, 0.22713568, 0.23266332,\n",
       "       0.23819095, 0.24371859, 0.24924623, 0.25477387, 0.26030151,\n",
       "       0.26582...\n",
       "       1.0120603 , 1.01758794, 1.02311558, 1.02864322, 1.03417085,\n",
       "       1.03969849, 1.04522613, 1.05075377, 1.05628141, 1.06180905,\n",
       "       1.06733668, 1.07286432, 1.07839196, 1.0839196 , 1.08944724,\n",
       "       1.09497487, 1.10050251, 1.10603015, 1.11155779, 1.11708543,\n",
       "       1.12261307, 1.1281407 , 1.13366834, 1.13919598, 1.14472362,\n",
       "       1.15025126, 1.15577889, 1.16130653, 1.16683417, 1.17236181,\n",
       "       1.17788945, 1.18341709, 1.18894472, 1.19447236, 1.2       ]),\n",
       "        cv=7)"
      ]
     },
     "execution_count": 28,
     "metadata": {},
     "output_type": "execute_result"
    }
   ],
   "source": [
    "pipe = Pipeline([('scaler', StandardScaler()), ('poly', PolynomialFeatures(2))])\n",
    "X = pipe.fit_transform(X)\n",
    "from sklearn.linear_model import RidgeCV\n",
    "\n",
    "n_alphas = 200\n",
    "alphas = np.linspace(0.1, 1.2, n_alphas)\n",
    "\n",
    "ridge_cv = RidgeCV(alphas=alphas, cv=7)\n",
    "ridge_cv.fit(X, y)"
   ]
  },
  {
   "cell_type": "code",
   "execution_count": 29,
   "metadata": {},
   "outputs": [
    {
     "name": "stdout",
     "output_type": "stream",
     "text": [
      "Score: 0.720820648396978\n"
     ]
    }
   ],
   "source": [
    "from sklearn.linear_model import Ridge\n",
    "regressor2 = Ridge(alpha=lasso_cv.alpha_)\n",
    "regressor2.fit(X, y)\n",
    "y_pred2 = regressor2.predict(X)\n",
    "\n",
    "print('Score:', r2_score(y, y_pred2))"
   ]
  }
 ],
 "metadata": {
  "kernelspec": {
   "display_name": "Python 3",
   "language": "python",
   "name": "python3"
  },
  "language_info": {
   "codemirror_mode": {
    "name": "ipython",
    "version": 3
   },
   "file_extension": ".py",
   "mimetype": "text/x-python",
   "name": "python",
   "nbconvert_exporter": "python",
   "pygments_lexer": "ipython3",
   "version": "3.8.1"
  }
 },
 "nbformat": 4,
 "nbformat_minor": 2
}
