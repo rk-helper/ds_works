{
 "cells": [
  {
   "cell_type": "markdown",
   "metadata": {},
   "source": [
    "# Линейная регрессия\n",
    "\n",
    "На сегодняшнем занятии будем работать с датасетом BlackFriday (ниже есть его описание):\n",
    "\n",
    "Description\n",
    "The dataset here is a sample of the transactions made in a retail store. The store wants to know better the customer purchase behaviour against different products. Specifically, here the problem is a regression problem where we are trying to predict the dependent variable (the amount of purchase) with the help of the information contained in the other variables.\n",
    "\n",
    "Classification problem can also be settled in this dataset since several variables are categorical, and some other approaches could be \"Predicting the age of the consumer\" or even \"Predict the category of goods bought\". This dataset is also particularly convenient for clustering and maybe find different clusters of consumers within it."
   ]
  },
  {
   "cell_type": "code",
   "execution_count": 1,
   "metadata": {},
   "outputs": [
    {
     "name": "stdout",
     "output_type": "stream",
     "text": [
      "Populating the interactive namespace from numpy and matplotlib\n"
     ]
    }
   ],
   "source": [
    "import numpy as np\n",
    "import pandas as pd\n",
    "import matplotlib.pyplot as plt\n",
    "import seaborn as sns\n",
    "\n",
    "%pylab inline"
   ]
  },
  {
   "cell_type": "code",
   "execution_count": 2,
   "metadata": {},
   "outputs": [
    {
     "data": {
      "text/html": [
       "<div>\n",
       "<style scoped>\n",
       "    .dataframe tbody tr th:only-of-type {\n",
       "        vertical-align: middle;\n",
       "    }\n",
       "\n",
       "    .dataframe tbody tr th {\n",
       "        vertical-align: top;\n",
       "    }\n",
       "\n",
       "    .dataframe thead th {\n",
       "        text-align: right;\n",
       "    }\n",
       "</style>\n",
       "<table border=\"1\" class=\"dataframe\">\n",
       "  <thead>\n",
       "    <tr style=\"text-align: right;\">\n",
       "      <th></th>\n",
       "      <th>User_ID</th>\n",
       "      <th>Product_ID</th>\n",
       "      <th>Gender</th>\n",
       "      <th>Age</th>\n",
       "      <th>Occupation</th>\n",
       "      <th>City_Category</th>\n",
       "      <th>Stay_In_Current_City_Years</th>\n",
       "      <th>Marital_Status</th>\n",
       "      <th>Product_Category_1</th>\n",
       "      <th>Product_Category_2</th>\n",
       "      <th>Product_Category_3</th>\n",
       "      <th>Purchase</th>\n",
       "    </tr>\n",
       "  </thead>\n",
       "  <tbody>\n",
       "    <tr>\n",
       "      <th>0</th>\n",
       "      <td>1000001</td>\n",
       "      <td>P00069042</td>\n",
       "      <td>F</td>\n",
       "      <td>0-17</td>\n",
       "      <td>10</td>\n",
       "      <td>A</td>\n",
       "      <td>2</td>\n",
       "      <td>0</td>\n",
       "      <td>3</td>\n",
       "      <td>NaN</td>\n",
       "      <td>NaN</td>\n",
       "      <td>8370</td>\n",
       "    </tr>\n",
       "    <tr>\n",
       "      <th>1</th>\n",
       "      <td>1000001</td>\n",
       "      <td>P00248942</td>\n",
       "      <td>F</td>\n",
       "      <td>0-17</td>\n",
       "      <td>10</td>\n",
       "      <td>A</td>\n",
       "      <td>2</td>\n",
       "      <td>0</td>\n",
       "      <td>1</td>\n",
       "      <td>6.0</td>\n",
       "      <td>14.0</td>\n",
       "      <td>15200</td>\n",
       "    </tr>\n",
       "    <tr>\n",
       "      <th>2</th>\n",
       "      <td>1000001</td>\n",
       "      <td>P00087842</td>\n",
       "      <td>F</td>\n",
       "      <td>0-17</td>\n",
       "      <td>10</td>\n",
       "      <td>A</td>\n",
       "      <td>2</td>\n",
       "      <td>0</td>\n",
       "      <td>12</td>\n",
       "      <td>NaN</td>\n",
       "      <td>NaN</td>\n",
       "      <td>1422</td>\n",
       "    </tr>\n",
       "    <tr>\n",
       "      <th>3</th>\n",
       "      <td>1000001</td>\n",
       "      <td>P00085442</td>\n",
       "      <td>F</td>\n",
       "      <td>0-17</td>\n",
       "      <td>10</td>\n",
       "      <td>A</td>\n",
       "      <td>2</td>\n",
       "      <td>0</td>\n",
       "      <td>12</td>\n",
       "      <td>14.0</td>\n",
       "      <td>NaN</td>\n",
       "      <td>1057</td>\n",
       "    </tr>\n",
       "    <tr>\n",
       "      <th>4</th>\n",
       "      <td>1000002</td>\n",
       "      <td>P00285442</td>\n",
       "      <td>M</td>\n",
       "      <td>55+</td>\n",
       "      <td>16</td>\n",
       "      <td>C</td>\n",
       "      <td>4+</td>\n",
       "      <td>0</td>\n",
       "      <td>8</td>\n",
       "      <td>NaN</td>\n",
       "      <td>NaN</td>\n",
       "      <td>7969</td>\n",
       "    </tr>\n",
       "  </tbody>\n",
       "</table>\n",
       "</div>"
      ],
      "text/plain": [
       "   User_ID Product_ID Gender   Age  Occupation City_Category  \\\n",
       "0  1000001  P00069042      F  0-17          10             A   \n",
       "1  1000001  P00248942      F  0-17          10             A   \n",
       "2  1000001  P00087842      F  0-17          10             A   \n",
       "3  1000001  P00085442      F  0-17          10             A   \n",
       "4  1000002  P00285442      M   55+          16             C   \n",
       "\n",
       "  Stay_In_Current_City_Years  Marital_Status  Product_Category_1  \\\n",
       "0                          2               0                   3   \n",
       "1                          2               0                   1   \n",
       "2                          2               0                  12   \n",
       "3                          2               0                  12   \n",
       "4                         4+               0                   8   \n",
       "\n",
       "   Product_Category_2  Product_Category_3  Purchase  \n",
       "0                 NaN                 NaN      8370  \n",
       "1                 6.0                14.0     15200  \n",
       "2                 NaN                 NaN      1422  \n",
       "3                14.0                 NaN      1057  \n",
       "4                 NaN                 NaN      7969  "
      ]
     },
     "execution_count": 2,
     "metadata": {},
     "output_type": "execute_result"
    }
   ],
   "source": [
    "data = pd.read_csv('BlackFriday.csv')\n",
    "data.head()"
   ]
  },
  {
   "cell_type": "markdown",
   "metadata": {},
   "source": [
    "# Подготовка данных"
   ]
  },
  {
   "cell_type": "code",
   "execution_count": 3,
   "metadata": {},
   "outputs": [
    {
     "name": "stdout",
     "output_type": "stream",
     "text": [
      "Product_Category_3    69.441029\n",
      "Product_Category_2    31.062713\n",
      "dtype: float64 %\n"
     ]
    }
   ],
   "source": [
    "missing_values = data.isnull().sum().sort_values(ascending=False)\n",
    "missing_values = missing_values[missing_values > 0] / data.shape[0]\n",
    "print(f'{missing_values * 100} %')"
   ]
  },
  {
   "cell_type": "markdown",
   "metadata": {},
   "source": [
    "Скорее всего NaN-ы в Product_Category_2 и Product_Category_3 означают, что человек не покупал продукты из этих категорий.\n",
    "\n",
    "Поэтому можем заменить эти пропущенные значения на 0."
   ]
  },
  {
   "cell_type": "code",
   "execution_count": 4,
   "metadata": {
    "collapsed": true
   },
   "outputs": [],
   "source": [
    "data = data.fillna(0)"
   ]
  },
  {
   "cell_type": "code",
   "execution_count": 5,
   "metadata": {},
   "outputs": [
    {
     "name": "stdout",
     "output_type": "stream",
     "text": [
      "Series([], dtype: float64) %\n"
     ]
    }
   ],
   "source": [
    "missing_values = data.isnull().sum().sort_values(ascending=False)\n",
    "missing_values = missing_values[missing_values > 0] / data.shape[0]\n",
    "print(f'{missing_values *100} %')"
   ]
  },
  {
   "cell_type": "markdown",
   "metadata": {},
   "source": [
    "Посмотрим, какие типы данных есть в нашем датасете. \n",
    "\n",
    "Выведите на экран тип каждой колонки в таблице."
   ]
  },
  {
   "cell_type": "code",
   "execution_count": 6,
   "metadata": {},
   "outputs": [
    {
     "name": "stdout",
     "output_type": "stream",
     "text": [
      "<class 'pandas.core.frame.DataFrame'>\n",
      "RangeIndex: 537577 entries, 0 to 537576\n",
      "Data columns (total 12 columns):\n",
      " #   Column                      Non-Null Count   Dtype  \n",
      "---  ------                      --------------   -----  \n",
      " 0   User_ID                     537577 non-null  int64  \n",
      " 1   Product_ID                  537577 non-null  object \n",
      " 2   Gender                      537577 non-null  object \n",
      " 3   Age                         537577 non-null  object \n",
      " 4   Occupation                  537577 non-null  int64  \n",
      " 5   City_Category               537577 non-null  object \n",
      " 6   Stay_In_Current_City_Years  537577 non-null  object \n",
      " 7   Marital_Status              537577 non-null  int64  \n",
      " 8   Product_Category_1          537577 non-null  int64  \n",
      " 9   Product_Category_2          537577 non-null  float64\n",
      " 10  Product_Category_3          537577 non-null  float64\n",
      " 11  Purchase                    537577 non-null  int64  \n",
      "dtypes: float64(2), int64(5), object(5)\n",
      "memory usage: 49.2+ MB\n"
     ]
    }
   ],
   "source": [
    "data.info()"
   ]
  },
  {
   "cell_type": "markdown",
   "metadata": {},
   "source": [
    "Обработаем нечисловые колонки.\n",
    "\n",
    "1) Выведите на экран все возможные значения из столбца Gender.\n",
    "\n",
    "2) Замените значение 'M' на 1, а 'F' на 0."
   ]
  },
  {
   "cell_type": "code",
   "execution_count": 7,
   "metadata": {},
   "outputs": [
    {
     "name": "stdout",
     "output_type": "stream",
     "text": [
      "['F' 'M']\n"
     ]
    }
   ],
   "source": [
    "print(data['Gender'].unique())\n",
    "\n",
    "data['Gender'] = data['Gender'].apply(lambda x: 1 if x == 'M' else 0)"
   ]
  },
  {
   "cell_type": "markdown",
   "metadata": {},
   "source": [
    "Поработаем со столбцом Age.\n",
    "\n",
    "1) Выведите на экран все возможные значения из столбца Age.\n",
    "\n",
    "2) Напишите функцию для перевода каждого диапазона возрастов в число (самые маленькие возрасты - 0, следующий диапазон - 1 и т.д.). Замените значения в столбце Age на числовые, применив эту функцию."
   ]
  },
  {
   "cell_type": "code",
   "execution_count": 8,
   "metadata": {},
   "outputs": [
    {
     "name": "stdout",
     "output_type": "stream",
     "text": [
      "['0-17' '55+' '26-35' '46-50' '51-55' '36-45' '18-25']\n"
     ]
    }
   ],
   "source": [
    "#your code here\n",
    "\n",
    "print(data['Age'].unique())\n",
    "\n",
    "age_mapping_dict = {\n",
    "    '0-17': 0,\n",
    "    '18-25': 1,\n",
    "    '26-35': 2,\n",
    "    '36-45': 3,\n",
    "    '46-50': 4,\n",
    "    '51-55': 5,\n",
    "    '55+': 6,\n",
    "}\n",
    "\n",
    "def map_age(age):\n",
    "    return age_mapping_dict[age]\n",
    "\n",
    "data['Age'] = data['Age'].apply(map_age)"
   ]
  },
  {
   "cell_type": "markdown",
   "metadata": {},
   "source": [
    "Обработаем столбец City_Category.\n",
    "\n",
    "1) Выведите все уникальные значения данного столбца.\n",
    "\n",
    "2) Закодируйте столбец с помощью OneHotEncoding (get_dummies)."
   ]
  },
  {
   "cell_type": "code",
   "execution_count": 9,
   "metadata": {
    "scrolled": true
   },
   "outputs": [
    {
     "name": "stdout",
     "output_type": "stream",
     "text": [
      "['A' 'C' 'B']\n"
     ]
    },
    {
     "data": {
      "text/html": [
       "<div>\n",
       "<style scoped>\n",
       "    .dataframe tbody tr th:only-of-type {\n",
       "        vertical-align: middle;\n",
       "    }\n",
       "\n",
       "    .dataframe tbody tr th {\n",
       "        vertical-align: top;\n",
       "    }\n",
       "\n",
       "    .dataframe thead th {\n",
       "        text-align: right;\n",
       "    }\n",
       "</style>\n",
       "<table border=\"1\" class=\"dataframe\">\n",
       "  <thead>\n",
       "    <tr style=\"text-align: right;\">\n",
       "      <th></th>\n",
       "      <th>User_ID</th>\n",
       "      <th>Product_ID</th>\n",
       "      <th>Gender</th>\n",
       "      <th>Age</th>\n",
       "      <th>Occupation</th>\n",
       "      <th>Stay_In_Current_City_Years</th>\n",
       "      <th>Marital_Status</th>\n",
       "      <th>Product_Category_1</th>\n",
       "      <th>Product_Category_2</th>\n",
       "      <th>Product_Category_3</th>\n",
       "      <th>Purchase</th>\n",
       "      <th>City_Category_B</th>\n",
       "      <th>City_Category_C</th>\n",
       "    </tr>\n",
       "  </thead>\n",
       "  <tbody>\n",
       "    <tr>\n",
       "      <th>0</th>\n",
       "      <td>1000001</td>\n",
       "      <td>P00069042</td>\n",
       "      <td>0</td>\n",
       "      <td>0</td>\n",
       "      <td>10</td>\n",
       "      <td>2</td>\n",
       "      <td>0</td>\n",
       "      <td>3</td>\n",
       "      <td>0.0</td>\n",
       "      <td>0.0</td>\n",
       "      <td>8370</td>\n",
       "      <td>0</td>\n",
       "      <td>0</td>\n",
       "    </tr>\n",
       "    <tr>\n",
       "      <th>1</th>\n",
       "      <td>1000001</td>\n",
       "      <td>P00248942</td>\n",
       "      <td>0</td>\n",
       "      <td>0</td>\n",
       "      <td>10</td>\n",
       "      <td>2</td>\n",
       "      <td>0</td>\n",
       "      <td>1</td>\n",
       "      <td>6.0</td>\n",
       "      <td>14.0</td>\n",
       "      <td>15200</td>\n",
       "      <td>0</td>\n",
       "      <td>0</td>\n",
       "    </tr>\n",
       "    <tr>\n",
       "      <th>2</th>\n",
       "      <td>1000001</td>\n",
       "      <td>P00087842</td>\n",
       "      <td>0</td>\n",
       "      <td>0</td>\n",
       "      <td>10</td>\n",
       "      <td>2</td>\n",
       "      <td>0</td>\n",
       "      <td>12</td>\n",
       "      <td>0.0</td>\n",
       "      <td>0.0</td>\n",
       "      <td>1422</td>\n",
       "      <td>0</td>\n",
       "      <td>0</td>\n",
       "    </tr>\n",
       "    <tr>\n",
       "      <th>3</th>\n",
       "      <td>1000001</td>\n",
       "      <td>P00085442</td>\n",
       "      <td>0</td>\n",
       "      <td>0</td>\n",
       "      <td>10</td>\n",
       "      <td>2</td>\n",
       "      <td>0</td>\n",
       "      <td>12</td>\n",
       "      <td>14.0</td>\n",
       "      <td>0.0</td>\n",
       "      <td>1057</td>\n",
       "      <td>0</td>\n",
       "      <td>0</td>\n",
       "    </tr>\n",
       "    <tr>\n",
       "      <th>4</th>\n",
       "      <td>1000002</td>\n",
       "      <td>P00285442</td>\n",
       "      <td>1</td>\n",
       "      <td>6</td>\n",
       "      <td>16</td>\n",
       "      <td>4+</td>\n",
       "      <td>0</td>\n",
       "      <td>8</td>\n",
       "      <td>0.0</td>\n",
       "      <td>0.0</td>\n",
       "      <td>7969</td>\n",
       "      <td>0</td>\n",
       "      <td>1</td>\n",
       "    </tr>\n",
       "    <tr>\n",
       "      <th>...</th>\n",
       "      <td>...</td>\n",
       "      <td>...</td>\n",
       "      <td>...</td>\n",
       "      <td>...</td>\n",
       "      <td>...</td>\n",
       "      <td>...</td>\n",
       "      <td>...</td>\n",
       "      <td>...</td>\n",
       "      <td>...</td>\n",
       "      <td>...</td>\n",
       "      <td>...</td>\n",
       "      <td>...</td>\n",
       "      <td>...</td>\n",
       "    </tr>\n",
       "    <tr>\n",
       "      <th>537572</th>\n",
       "      <td>1004737</td>\n",
       "      <td>P00193542</td>\n",
       "      <td>1</td>\n",
       "      <td>3</td>\n",
       "      <td>16</td>\n",
       "      <td>1</td>\n",
       "      <td>0</td>\n",
       "      <td>1</td>\n",
       "      <td>2.0</td>\n",
       "      <td>0.0</td>\n",
       "      <td>11664</td>\n",
       "      <td>0</td>\n",
       "      <td>1</td>\n",
       "    </tr>\n",
       "    <tr>\n",
       "      <th>537573</th>\n",
       "      <td>1004737</td>\n",
       "      <td>P00111142</td>\n",
       "      <td>1</td>\n",
       "      <td>3</td>\n",
       "      <td>16</td>\n",
       "      <td>1</td>\n",
       "      <td>0</td>\n",
       "      <td>1</td>\n",
       "      <td>15.0</td>\n",
       "      <td>16.0</td>\n",
       "      <td>19196</td>\n",
       "      <td>0</td>\n",
       "      <td>1</td>\n",
       "    </tr>\n",
       "    <tr>\n",
       "      <th>537574</th>\n",
       "      <td>1004737</td>\n",
       "      <td>P00345942</td>\n",
       "      <td>1</td>\n",
       "      <td>3</td>\n",
       "      <td>16</td>\n",
       "      <td>1</td>\n",
       "      <td>0</td>\n",
       "      <td>8</td>\n",
       "      <td>15.0</td>\n",
       "      <td>0.0</td>\n",
       "      <td>8043</td>\n",
       "      <td>0</td>\n",
       "      <td>1</td>\n",
       "    </tr>\n",
       "    <tr>\n",
       "      <th>537575</th>\n",
       "      <td>1004737</td>\n",
       "      <td>P00285842</td>\n",
       "      <td>1</td>\n",
       "      <td>3</td>\n",
       "      <td>16</td>\n",
       "      <td>1</td>\n",
       "      <td>0</td>\n",
       "      <td>5</td>\n",
       "      <td>0.0</td>\n",
       "      <td>0.0</td>\n",
       "      <td>7172</td>\n",
       "      <td>0</td>\n",
       "      <td>1</td>\n",
       "    </tr>\n",
       "    <tr>\n",
       "      <th>537576</th>\n",
       "      <td>1004737</td>\n",
       "      <td>P00118242</td>\n",
       "      <td>1</td>\n",
       "      <td>3</td>\n",
       "      <td>16</td>\n",
       "      <td>1</td>\n",
       "      <td>0</td>\n",
       "      <td>5</td>\n",
       "      <td>8.0</td>\n",
       "      <td>0.0</td>\n",
       "      <td>6875</td>\n",
       "      <td>0</td>\n",
       "      <td>1</td>\n",
       "    </tr>\n",
       "  </tbody>\n",
       "</table>\n",
       "<p>537577 rows × 13 columns</p>\n",
       "</div>"
      ],
      "text/plain": [
       "        User_ID Product_ID  Gender  Age  Occupation  \\\n",
       "0       1000001  P00069042       0    0          10   \n",
       "1       1000001  P00248942       0    0          10   \n",
       "2       1000001  P00087842       0    0          10   \n",
       "3       1000001  P00085442       0    0          10   \n",
       "4       1000002  P00285442       1    6          16   \n",
       "...         ...        ...     ...  ...         ...   \n",
       "537572  1004737  P00193542       1    3          16   \n",
       "537573  1004737  P00111142       1    3          16   \n",
       "537574  1004737  P00345942       1    3          16   \n",
       "537575  1004737  P00285842       1    3          16   \n",
       "537576  1004737  P00118242       1    3          16   \n",
       "\n",
       "       Stay_In_Current_City_Years  Marital_Status  Product_Category_1  \\\n",
       "0                               2               0                   3   \n",
       "1                               2               0                   1   \n",
       "2                               2               0                  12   \n",
       "3                               2               0                  12   \n",
       "4                              4+               0                   8   \n",
       "...                           ...             ...                 ...   \n",
       "537572                          1               0                   1   \n",
       "537573                          1               0                   1   \n",
       "537574                          1               0                   8   \n",
       "537575                          1               0                   5   \n",
       "537576                          1               0                   5   \n",
       "\n",
       "        Product_Category_2  Product_Category_3  Purchase  City_Category_B  \\\n",
       "0                      0.0                 0.0      8370                0   \n",
       "1                      6.0                14.0     15200                0   \n",
       "2                      0.0                 0.0      1422                0   \n",
       "3                     14.0                 0.0      1057                0   \n",
       "4                      0.0                 0.0      7969                0   \n",
       "...                    ...                 ...       ...              ...   \n",
       "537572                 2.0                 0.0     11664                0   \n",
       "537573                15.0                16.0     19196                0   \n",
       "537574                15.0                 0.0      8043                0   \n",
       "537575                 0.0                 0.0      7172                0   \n",
       "537576                 8.0                 0.0      6875                0   \n",
       "\n",
       "        City_Category_C  \n",
       "0                     0  \n",
       "1                     0  \n",
       "2                     0  \n",
       "3                     0  \n",
       "4                     1  \n",
       "...                 ...  \n",
       "537572                1  \n",
       "537573                1  \n",
       "537574                1  \n",
       "537575                1  \n",
       "537576                1  \n",
       "\n",
       "[537577 rows x 13 columns]"
      ]
     },
     "execution_count": 9,
     "metadata": {},
     "output_type": "execute_result"
    }
   ],
   "source": [
    "print(data['City_Category'].unique())\n",
    "\n",
    "data = pd.get_dummies(data, columns=['City_Category'], drop_first=True, dtype = int)\n",
    "data"
   ]
  },
  {
   "cell_type": "markdown",
   "metadata": {},
   "source": [
    "Наконец, обработаем Stay_In_Current_City_Years.\n",
    "\n",
    "1) Выведите на экран все уникальные значения данного столбца.\n",
    "\n",
    "2) Замените '4+' на 4, а все остальные значения оставьте как есть, но переведите их в числовой вид (x -> int(x))."
   ]
  },
  {
   "cell_type": "code",
   "execution_count": 10,
   "metadata": {
    "collapsed": true
   },
   "outputs": [],
   "source": [
    "#your code here\n",
    "\n",
    "def map_stay(stay):\n",
    "    if stay == '4+':\n",
    "        return 4\n",
    "    else:\n",
    "        return int(stay)\n",
    "\n",
    "data['Stay_In_Current_City_Years'] = data['Stay_In_Current_City_Years'].apply(map_stay)    "
   ]
  },
  {
   "cell_type": "code",
   "execution_count": 11,
   "metadata": {},
   "outputs": [
    {
     "data": {
      "text/html": [
       "<div>\n",
       "<style scoped>\n",
       "    .dataframe tbody tr th:only-of-type {\n",
       "        vertical-align: middle;\n",
       "    }\n",
       "\n",
       "    .dataframe tbody tr th {\n",
       "        vertical-align: top;\n",
       "    }\n",
       "\n",
       "    .dataframe thead th {\n",
       "        text-align: right;\n",
       "    }\n",
       "</style>\n",
       "<table border=\"1\" class=\"dataframe\">\n",
       "  <thead>\n",
       "    <tr style=\"text-align: right;\">\n",
       "      <th></th>\n",
       "      <th>User_ID</th>\n",
       "      <th>Product_ID</th>\n",
       "      <th>Gender</th>\n",
       "      <th>Age</th>\n",
       "      <th>Occupation</th>\n",
       "      <th>Stay_In_Current_City_Years</th>\n",
       "      <th>Marital_Status</th>\n",
       "      <th>Product_Category_1</th>\n",
       "      <th>Product_Category_2</th>\n",
       "      <th>Product_Category_3</th>\n",
       "      <th>Purchase</th>\n",
       "      <th>City_Category_B</th>\n",
       "      <th>City_Category_C</th>\n",
       "    </tr>\n",
       "  </thead>\n",
       "  <tbody>\n",
       "    <tr>\n",
       "      <th>0</th>\n",
       "      <td>1000001</td>\n",
       "      <td>P00069042</td>\n",
       "      <td>0</td>\n",
       "      <td>0</td>\n",
       "      <td>10</td>\n",
       "      <td>2</td>\n",
       "      <td>0</td>\n",
       "      <td>3</td>\n",
       "      <td>0.0</td>\n",
       "      <td>0.0</td>\n",
       "      <td>8370</td>\n",
       "      <td>0</td>\n",
       "      <td>0</td>\n",
       "    </tr>\n",
       "    <tr>\n",
       "      <th>1</th>\n",
       "      <td>1000001</td>\n",
       "      <td>P00248942</td>\n",
       "      <td>0</td>\n",
       "      <td>0</td>\n",
       "      <td>10</td>\n",
       "      <td>2</td>\n",
       "      <td>0</td>\n",
       "      <td>1</td>\n",
       "      <td>6.0</td>\n",
       "      <td>14.0</td>\n",
       "      <td>15200</td>\n",
       "      <td>0</td>\n",
       "      <td>0</td>\n",
       "    </tr>\n",
       "    <tr>\n",
       "      <th>2</th>\n",
       "      <td>1000001</td>\n",
       "      <td>P00087842</td>\n",
       "      <td>0</td>\n",
       "      <td>0</td>\n",
       "      <td>10</td>\n",
       "      <td>2</td>\n",
       "      <td>0</td>\n",
       "      <td>12</td>\n",
       "      <td>0.0</td>\n",
       "      <td>0.0</td>\n",
       "      <td>1422</td>\n",
       "      <td>0</td>\n",
       "      <td>0</td>\n",
       "    </tr>\n",
       "    <tr>\n",
       "      <th>3</th>\n",
       "      <td>1000001</td>\n",
       "      <td>P00085442</td>\n",
       "      <td>0</td>\n",
       "      <td>0</td>\n",
       "      <td>10</td>\n",
       "      <td>2</td>\n",
       "      <td>0</td>\n",
       "      <td>12</td>\n",
       "      <td>14.0</td>\n",
       "      <td>0.0</td>\n",
       "      <td>1057</td>\n",
       "      <td>0</td>\n",
       "      <td>0</td>\n",
       "    </tr>\n",
       "    <tr>\n",
       "      <th>4</th>\n",
       "      <td>1000002</td>\n",
       "      <td>P00285442</td>\n",
       "      <td>1</td>\n",
       "      <td>6</td>\n",
       "      <td>16</td>\n",
       "      <td>4</td>\n",
       "      <td>0</td>\n",
       "      <td>8</td>\n",
       "      <td>0.0</td>\n",
       "      <td>0.0</td>\n",
       "      <td>7969</td>\n",
       "      <td>0</td>\n",
       "      <td>1</td>\n",
       "    </tr>\n",
       "  </tbody>\n",
       "</table>\n",
       "</div>"
      ],
      "text/plain": [
       "   User_ID Product_ID  Gender  Age  Occupation  Stay_In_Current_City_Years  \\\n",
       "0  1000001  P00069042       0    0          10                           2   \n",
       "1  1000001  P00248942       0    0          10                           2   \n",
       "2  1000001  P00087842       0    0          10                           2   \n",
       "3  1000001  P00085442       0    0          10                           2   \n",
       "4  1000002  P00285442       1    6          16                           4   \n",
       "\n",
       "   Marital_Status  Product_Category_1  Product_Category_2  Product_Category_3  \\\n",
       "0               0                   3                 0.0                 0.0   \n",
       "1               0                   1                 6.0                14.0   \n",
       "2               0                  12                 0.0                 0.0   \n",
       "3               0                  12                14.0                 0.0   \n",
       "4               0                   8                 0.0                 0.0   \n",
       "\n",
       "   Purchase  City_Category_B  City_Category_C  \n",
       "0      8370                0                0  \n",
       "1     15200                0                0  \n",
       "2      1422                0                0  \n",
       "3      1057                0                0  \n",
       "4      7969                0                1  "
      ]
     },
     "execution_count": 11,
     "metadata": {},
     "output_type": "execute_result"
    }
   ],
   "source": [
    "data.head()"
   ]
  },
  {
   "cell_type": "markdown",
   "metadata": {},
   "source": [
    "Удалим столбцы User_ID и Product_ID."
   ]
  },
  {
   "cell_type": "code",
   "execution_count": 12,
   "metadata": {
    "collapsed": true
   },
   "outputs": [],
   "source": [
    "#your code here\n",
    "\n",
    "cols = ['User_ID','Product_ID']\n",
    "data.drop(cols, inplace=True, axis =1)"
   ]
  },
  {
   "cell_type": "markdown",
   "metadata": {},
   "source": [
    "# Исследование данных"
   ]
  },
  {
   "cell_type": "markdown",
   "metadata": {},
   "source": [
    "1. Как влияет пол на целевую переменную Purchase? Постройте диаграмму.\n",
    "\n",
    "2. Как влияет возраст на целевую переменную Purchase? Постройте диаграмму.\n",
    "\n",
    "3. Как влияет City_Category на целевую переменную Purchase? Постройте диаграмму."
   ]
  },
  {
   "cell_type": "markdown",
   "metadata": {},
   "source": [
    "Нарисуйте матрицу корреляций признаков."
   ]
  },
  {
   "cell_type": "code",
   "execution_count": 13,
   "metadata": {},
   "outputs": [
    {
     "data": {
      "text/plain": [
       "<matplotlib.axes._subplots.AxesSubplot at 0x7fc26f330a50>"
      ]
     },
     "execution_count": 13,
     "metadata": {},
     "output_type": "execute_result"
    },
    {
     "data": {
      "image/png": "[encoded data removed]",
      "text/plain": [
       "<Figure size 864x648 with 2 Axes>"
      ]
     },
     "metadata": {
      "needs_background": "light"
     },
     "output_type": "display_data"
    }
   ],
   "source": [
    "plt.figure(figsize=(12,9))\n",
    "\n",
    "corr = data.corr()\n",
    "sns.heatmap(corr, annot=True, linewidths=.5, fmt= '.2f', mask=np.zeros_like(corr, dtype=np.bool), \\\n",
    "            cmap=sns.diverging_palette(100,200, as_cmap=True), square=True)"
   ]
  },
  {
   "cell_type": "markdown",
   "metadata": {},
   "source": [
    "# Построение модели"
   ]
  },
  {
   "cell_type": "code",
   "execution_count": 14,
   "metadata": {},
   "outputs": [
    {
     "name": "stdout",
     "output_type": "stream",
     "text": [
      "[11965.7012279   7656.11286483  8525.50440259 ...  7330.07656614\n",
      "  9957.58221028  9093.62375548]\n"
     ]
    }
   ],
   "source": [
    "from sklearn.metrics import r2_score, mean_squared_error\n",
    "from sklearn.model_selection import train_test_split\n",
    "from sklearn.linear_model import LinearRegression\n",
    "from sklearn.preprocessing import StandardScaler\n",
    "\n",
    "X = data.copy()\n",
    "\n",
    "y = data['Purchase']\n",
    "del X['Purchase']\n",
    "\n",
    "X['Product'] = X['Product_Category_1'] * X['Product_Category_3']\n",
    "\n",
    "ind_train, ind_test = train_test_split(range(len(X)), test_size=0.2, random_state=111)\n",
    "X_train = X.iloc[ind_train]\n",
    "y_train = y[ind_train]\n",
    "X_test = X.iloc[ind_test]\n",
    "y_test = y[ind_test]\n",
    "\n",
    "# X_train, X_test, y_train, y_test = train_test_split(X, y, test_size=0.2, random_state=42)\n",
    "\n",
    "scaler = StandardScaler().fit(X_train)\n",
    "X_train = scaler.transform(X_train)\n",
    "X_test = scaler.transform(X_test)\n",
    "\n",
    "regressor = LinearRegression()\n",
    "regressor.fit(X_train, y_train)\n",
    "\n",
    "y_pred = regressor.predict(X_test)\n",
    "print(y_pred)"
   ]
  },
  {
   "cell_type": "code",
   "execution_count": 15,
   "metadata": {},
   "outputs": [
    {
     "name": "stdout",
     "output_type": "stream",
     "text": [
      "0.13494723413739185 21524684.495717593\n"
     ]
    }
   ],
   "source": [
    "print(r2_score(y_test, y_pred), mean_squared_error(y_test, y_pred))"
   ]
  },
  {
   "cell_type": "markdown",
   "metadata": {},
   "source": [
    "Добавим L1 регуляризацию."
   ]
  },
  {
   "cell_type": "code",
   "execution_count": 16,
   "metadata": {},
   "outputs": [
    {
     "name": "stdout",
     "output_type": "stream",
     "text": [
      "alpha=0.1\n",
      "Scores: 0.13494727374222637 21524683.510249883\n",
      "[  209.79057742   134.69878377    38.76884216    13.87708511\n",
      "   -21.18178276 -1194.03856657    52.23899218   925.9970247\n",
      "    70.71900358   311.23180496] \n",
      "\n",
      "alpha=25.1\n",
      "Scores: 0.1347137637397442 21530493.825329345\n",
      "[  188.22565368   108.72270497    20.09589568     0.\n",
      "    -0.         -1176.46511481    30.54216468   912.15059708\n",
      "    14.58518785   258.3675509 ] \n",
      "\n",
      "alpha=50.1\n",
      "Scores: 0.13429106221630294 21541011.700408168\n",
      "[ 1.66628597e+02  8.75700742e+01  8.55532291e-01  0.00000000e+00\n",
      " -0.00000000e+00 -1.15841517e+03  8.60093993e+00  8.97917620e+02\n",
      "  0.00000000e+00  2.29397497e+02] \n",
      "\n",
      "alpha=75.1\n",
      "Scores: 0.1337612278520044 21554195.309520315\n",
      "[  143.05695947    63.81635889     0.             0.\n",
      "     0.         -1139.95214537     0.           882.31287341\n",
      "     0.           208.18754192] \n",
      "\n"
     ]
    }
   ],
   "source": [
    "from sklearn.linear_model import Lasso\n",
    "\n",
    "for a in np.arange(0.1, 100.1, 25):\n",
    "    regressor2 = Lasso(alpha=a)\n",
    "    regressor2.fit(X_train, y_train)\n",
    "\n",
    "    y_pred2 = regressor2.predict(X_test)\n",
    "\n",
    "    print('alpha={}'.format(a))\n",
    "    print('Scores:', r2_score(y_test,y_pred2), mean_squared_error(y_test, y_pred2))\n",
    "    print(regressor2.coef_,'\\n')"
   ]
  },
  {
   "cell_type": "markdown",
   "metadata": {},
   "source": [
    "**Видим, что L1-регуляризация зануляет некоторые веса и таким образом производит отбор признаков.**"
   ]
  },
  {
   "cell_type": "markdown",
   "metadata": {},
   "source": [
    "Подберем оптимальное значение параметра регуляризации по кросс-валидации"
   ]
  },
  {
   "cell_type": "code",
   "execution_count": 17,
   "metadata": {},
   "outputs": [
    {
     "data": {
      "text/plain": [
       "LassoCV(alphas=array([ 0.1       ,  0.14974874,  0.19949749,  0.24924623,  0.29899497,\n",
       "        0.34874372,  0.39849246,  0.44824121,  0.49798995,  0.54773869,\n",
       "        0.59748744,  0.64723618,  0.69698492,  0.74673367,  0.79648241,\n",
       "        0.84623116,  0.8959799 ,  0.94572864,  0.99547739,  1.04522613,\n",
       "        1.09497487,  1.14472362,  1.19447236,  1.24422111,  1.29396985,\n",
       "        1.34371859,  1.39346734,  1.44321608,  1.49296482,  1.54271357,\n",
       "        1.5924...\n",
       "        9.30351759,  9.35326633,  9.40301508,  9.45276382,  9.50251256,\n",
       "        9.55226131,  9.60201005,  9.65175879,  9.70150754,  9.75125628,\n",
       "        9.80100503,  9.85075377,  9.90050251,  9.95025126, 10.        ]),\n",
       "        copy_X=True, cv=5, eps=0.001, fit_intercept=True, max_iter=1000,\n",
       "        n_alphas=100, n_jobs=None, normalize=False, positive=False,\n",
       "        precompute='auto', random_state=42, selection='cyclic', tol=0.0001,\n",
       "        verbose=False)"
      ]
     },
     "execution_count": 17,
     "metadata": {},
     "output_type": "execute_result"
    }
   ],
   "source": [
    "from sklearn.linear_model import LassoCV\n",
    "\n",
    "n_alphas = 200\n",
    "alphas = np.linspace(0.1, 10, n_alphas)\n",
    "\n",
    "lasso_cv = LassoCV(alphas=alphas, cv=5, random_state=42)\n",
    "lasso_cv.fit(X, y)"
   ]
  },
  {
   "cell_type": "code",
   "execution_count": 18,
   "metadata": {},
   "outputs": [
    {
     "data": {
      "text/plain": [
       "array([ 482.16976974,  103.49903741,    5.69793977,    9.52760257,\n",
       "        -47.30585129, -317.88884738,    8.13663821,  148.34973621,\n",
       "        145.94388277,  660.99699949])"
      ]
     },
     "execution_count": 18,
     "metadata": {},
     "output_type": "execute_result"
    }
   ],
   "source": [
    "lasso_cv.coef_"
   ]
  },
  {
   "cell_type": "code",
   "execution_count": 19,
   "metadata": {},
   "outputs": [
    {
     "data": {
      "text/plain": [
       "0.1"
      ]
     },
     "execution_count": 19,
     "metadata": {},
     "output_type": "execute_result"
    }
   ],
   "source": [
    "lasso_cv.alpha_"
   ]
  },
  {
   "cell_type": "code",
   "execution_count": 20,
   "metadata": {},
   "outputs": [
    {
     "name": "stdout",
     "output_type": "stream",
     "text": [
      "Scores: 0.13494727374222637 21524683.510249883\n"
     ]
    }
   ],
   "source": [
    "regressor2 = Lasso(alpha=lasso_cv.alpha_)\n",
    "\n",
    "regressor2.fit(X_train, y_train)\n",
    "\n",
    "y_pred2 = regressor2.predict(X_test)\n",
    "\n",
    "print('Scores:', r2_score(y_test, y_pred2), mean_squared_error(y_test, y_pred2))"
   ]
  },
  {
   "cell_type": "markdown",
   "metadata": {},
   "source": [
    "Добавим L2 регуляризацию."
   ]
  },
  {
   "cell_type": "code",
   "execution_count": 21,
   "metadata": {
    "scrolled": true
   },
   "outputs": [
    {
     "name": "stdout",
     "output_type": "stream",
     "text": [
      "alpha=-10.0\n",
      "Scores: 0.13494723761220817 21524684.409255438\n",
      "[  209.87944783   134.82546587    38.84199631    13.96728677\n",
      "   -21.32682107 -1194.13179636    52.32433086   926.06457378\n",
      "    70.95172149   311.45361575]\n",
      "alpha=-7.5\n",
      "Scores: 0.13494723675116538 21524684.430680342\n",
      "[  209.87858039   134.82440742    38.84210403    13.96727861\n",
      "   -21.32641984 -1194.12608113    52.32460719   926.06149056\n",
      "    70.94977898   311.45102683]\n",
      "alpha=-5.0\n",
      "Scores: 0.13494723588501512 21524684.45223234\n",
      "[  209.87771296   134.82334899    38.84221176    13.96727046\n",
      "   -21.32601861 -1194.12036596    52.32488352   926.05840735\n",
      "    70.94783653   311.44843797]\n",
      "alpha=-2.5\n",
      "Scores: 0.13494723501375694 21524684.473911427\n",
      "[  209.87684554   134.82229057    38.84231947    13.9672623\n",
      "   -21.32561739 -1194.11465086    52.32515984   926.05532415\n",
      "    70.94589414   311.44584918]\n",
      "alpha=0.0\n",
      "Scores: 0.13494723413739185 21524684.495717593\n",
      "[  209.87597813   134.82123217    38.84242718    13.96725414\n",
      "   -21.32521618 -1194.10893582    52.32543615   926.05224096\n",
      "    70.9439518    311.44326044]\n",
      "alpha=2.5\n",
      "Scores: 0.1349472332559194 21524684.51765084\n",
      "[  209.87511072   134.82017378    38.84253489    13.96724597\n",
      "   -21.32481498 -1194.10322083    52.32571246   926.04915778\n",
      "    70.94200952   311.44067176]\n",
      "alpha=5.0\n",
      "Scores: 0.13494723236934003 21524684.53971116\n",
      "[  209.87424333   134.81911541    38.84264258    13.96723781\n",
      "   -21.32441378 -1194.09750591    52.32598876   926.04607461\n",
      "    70.9400673    311.43808315]\n",
      "alpha=7.5\n",
      "Scores: 0.13494723147765353 21524684.56189856\n",
      "[  209.87337594   134.81805704    38.84275028    13.96722964\n",
      "   -21.3240126  -1194.09179106    52.32626505   926.04299145\n",
      "    70.93812514   311.43549459]\n",
      "alpha=10.0\n",
      "Scores: 0.13494723058086056 21524684.58421302\n",
      "[  209.87250856   134.8169987     38.84285797    13.96722148\n",
      "   -21.32361143 -1194.08607626    52.32654133   926.0399083\n",
      "    70.93618303   311.43290609]\n"
     ]
    }
   ],
   "source": [
    "from sklearn.linear_model import Ridge\n",
    "\n",
    "for a in np.arange(-10, 10.1, 2.5):\n",
    "    regressor3 = Ridge(alpha=a)\n",
    "    regressor3.fit(X_train, y_train)\n",
    "\n",
    "    y_pred3 = regressor3.predict(X_test)\n",
    "\n",
    "    print('alpha={}'.format(a))\n",
    "    print('Scores:',r2_score(y_test, y_pred3), mean_squared_error(y_test, y_pred3))\n",
    "    print(regressor3.coef_)"
   ]
  },
  {
   "cell_type": "markdown",
   "metadata": {},
   "source": [
    "**Ridge регрессия не зануляет веса (они могут быть очень маленькими, но ненулевыми).**"
   ]
  },
  {
   "cell_type": "markdown",
   "metadata": {},
   "source": [
    "Теперь подберем оптимальное a по кросс-валидации."
   ]
  },
  {
   "cell_type": "code",
   "execution_count": 22,
   "metadata": {},
   "outputs": [
    {
     "data": {
      "text/plain": [
       "RidgeCV(alphas=array([1.00000000e-02, 2.63665090e-02, 6.95192796e-02, 1.83298071e-01,\n",
       "       4.83293024e-01, 1.27427499e+00, 3.35981829e+00, 8.85866790e+00,\n",
       "       2.33572147e+01, 6.15848211e+01, 1.62377674e+02, 4.28133240e+02,\n",
       "       1.12883789e+03, 2.97635144e+03, 7.84759970e+03, 2.06913808e+04,\n",
       "       5.45559478e+04, 1.43844989e+05, 3.79269019e+05, 1.00000000e+06]),\n",
       "        cv=5, fit_intercept=True, gcv_mode=None, normalize=False,\n",
       "        scoring='neg_mean_squared_error', store_cv_values=False)"
      ]
     },
     "execution_count": 22,
     "metadata": {},
     "output_type": "execute_result"
    }
   ],
   "source": [
    "from sklearn.linear_model import RidgeCV\n",
    "\n",
    "n_alphas = 20\n",
    "ridge_alphas = np.logspace(-2, 6, n_alphas)\n",
    "\n",
    "ridge_cv = RidgeCV(\n",
    "    alphas=ridge_alphas, \n",
    "    scoring='neg_mean_squared_error',\n",
    "    cv=5,\n",
    ")\n",
    "ridge_cv.fit(X, y)"
   ]
  },
  {
   "cell_type": "code",
   "execution_count": 23,
   "metadata": {},
   "outputs": [
    {
     "data": {
      "text/plain": [
       "61.584821106602604"
      ]
     },
     "execution_count": 23,
     "metadata": {},
     "output_type": "execute_result"
    }
   ],
   "source": [
    "ridge_cv.alpha_"
   ]
  },
  {
   "cell_type": "code",
   "execution_count": 24,
   "metadata": {},
   "outputs": [
    {
     "name": "stdout",
     "output_type": "stream",
     "text": [
      "Scores: 0.13405790882648072 21546813.14206939\n"
     ]
    }
   ],
   "source": [
    "regressor3 = Lasso(alpha=ridge_cv.alpha_)\n",
    "\n",
    "regressor3.fit(X_train, y_train)\n",
    "\n",
    "y_pred3 = regressor3.predict(X_test)\n",
    "\n",
    "print('Scores:', r2_score(y_test, y_pred3), mean_squared_error(y_test, y_pred3))"
   ]
  },
  {
   "cell_type": "markdown",
   "metadata": {},
   "source": [
    "Добавим одновременно и L1, и L2 регуляризацию.\n",
    "\n",
    "У ElasticNet два параметра: alpha и l1_ratio.\n",
    "\n",
    "https://scikit-learn.org/stable/modules/generated/sklearn.linear_model.ElasticNet.html"
   ]
  },
  {
   "cell_type": "code",
   "execution_count": 25,
   "metadata": {},
   "outputs": [
    {
     "name": "stdout",
     "output_type": "stream",
     "text": [
      "0.134606473037022 21533163.487362176\n"
     ]
    }
   ],
   "source": [
    "from sklearn.linear_model import ElasticNet\n",
    "\n",
    "#your code here\n",
    "\n",
    "regressor4 = ElasticNet(alpha=0.1, l1_ratio=0.3)\n",
    "regressor4.fit(X_train, y_train)\n",
    "\n",
    "y_pred4 = regressor4.predict(X_test)\n",
    "\n",
    "print(r2_score(y_test, y_pred4), mean_squared_error(y_test, y_pred4))"
   ]
  },
  {
   "cell_type": "markdown",
   "metadata": {},
   "source": [
    "Посмотрим на веса, которые присвоила линейная регрессия признакам."
   ]
  },
  {
   "cell_type": "code",
   "execution_count": 26,
   "metadata": {},
   "outputs": [
    {
     "data": {
      "text/html": [
       "<div>\n",
       "<style scoped>\n",
       "    .dataframe tbody tr th:only-of-type {\n",
       "        vertical-align: middle;\n",
       "    }\n",
       "\n",
       "    .dataframe tbody tr th {\n",
       "        vertical-align: top;\n",
       "    }\n",
       "\n",
       "    .dataframe thead th {\n",
       "        text-align: right;\n",
       "    }\n",
       "</style>\n",
       "<table border=\"1\" class=\"dataframe\">\n",
       "  <thead>\n",
       "    <tr style=\"text-align: right;\">\n",
       "      <th></th>\n",
       "      <th>0</th>\n",
       "      <th>0</th>\n",
       "    </tr>\n",
       "  </thead>\n",
       "  <tbody>\n",
       "    <tr>\n",
       "      <th>0</th>\n",
       "      <td>Gender</td>\n",
       "      <td>209.875978</td>\n",
       "    </tr>\n",
       "    <tr>\n",
       "      <th>1</th>\n",
       "      <td>Age</td>\n",
       "      <td>134.821232</td>\n",
       "    </tr>\n",
       "    <tr>\n",
       "      <th>2</th>\n",
       "      <td>Occupation</td>\n",
       "      <td>38.842427</td>\n",
       "    </tr>\n",
       "    <tr>\n",
       "      <th>3</th>\n",
       "      <td>Stay_In_Current_City_Years</td>\n",
       "      <td>13.967254</td>\n",
       "    </tr>\n",
       "    <tr>\n",
       "      <th>4</th>\n",
       "      <td>Marital_Status</td>\n",
       "      <td>-21.325216</td>\n",
       "    </tr>\n",
       "    <tr>\n",
       "      <th>5</th>\n",
       "      <td>Product_Category_1</td>\n",
       "      <td>-1194.108936</td>\n",
       "    </tr>\n",
       "    <tr>\n",
       "      <th>6</th>\n",
       "      <td>Product_Category_2</td>\n",
       "      <td>52.325436</td>\n",
       "    </tr>\n",
       "    <tr>\n",
       "      <th>7</th>\n",
       "      <td>Product_Category_3</td>\n",
       "      <td>926.052241</td>\n",
       "    </tr>\n",
       "    <tr>\n",
       "      <th>8</th>\n",
       "      <td>City_Category_B</td>\n",
       "      <td>70.943952</td>\n",
       "    </tr>\n",
       "    <tr>\n",
       "      <th>9</th>\n",
       "      <td>City_Category_C</td>\n",
       "      <td>311.443260</td>\n",
       "    </tr>\n",
       "  </tbody>\n",
       "</table>\n",
       "</div>"
      ],
      "text/plain": [
       "                            0            0\n",
       "0                      Gender   209.875978\n",
       "1                         Age   134.821232\n",
       "2                  Occupation    38.842427\n",
       "3  Stay_In_Current_City_Years    13.967254\n",
       "4              Marital_Status   -21.325216\n",
       "5          Product_Category_1 -1194.108936\n",
       "6          Product_Category_2    52.325436\n",
       "7          Product_Category_3   926.052241\n",
       "8             City_Category_B    70.943952\n",
       "9             City_Category_C   311.443260"
      ]
     },
     "execution_count": 26,
     "metadata": {},
     "output_type": "execute_result"
    }
   ],
   "source": [
    "coefficients = pd.concat([pd.DataFrame(X.columns),pd.DataFrame(np.transpose(regressor.coef_))], axis = 1)\n",
    "coefficients"
   ]
  },
  {
   "cell_type": "markdown",
   "metadata": {},
   "source": [
    "# Feature Ingineering\n",
    "\n",
    "Попробуйте соорудить новые признаки.\n",
    "\n",
    "Идеи:\n",
    "\n",
    "1) Группировка исходных признаков по бинам\n",
    "(попробуйте сгруппировать числовые признаки, например, Product_Category_1(2,3))\n",
    "\n",
    "2) Перемножение признаков, которые в паре могут влиять на результат (линейная регрессия не умеет умножать)\n",
    "\n",
    "3) Взятие других функций от признаков.\n",
    "\n",
    "4) Счётчики."
   ]
  },
  {
   "cell_type": "code",
   "execution_count": 27,
   "metadata": {
    "collapsed": true
   },
   "outputs": [],
   "source": [
    "def code_mean(data, cat_feature, real_feature):\n",
    "    \"\"\"\n",
    "    Возвращает словарь, где ключами являются уникальные категории признака cat_feature, \n",
    "    а значениями - средние по real_feature\n",
    "    \"\"\"\n",
    "    return dict(data.groupby(cat_feature)[real_feature].mean())"
   ]
  },
  {
   "cell_type": "code",
   "execution_count": 28,
   "metadata": {
    "collapsed": true
   },
   "outputs": [],
   "source": [
    "data['age_average'] = list(map(code_mean(data.iloc[ind_train], 'Age', \"Purchase\").get, data.Age))"
   ]
  }
 ],
 "metadata": {
  "kernelspec": {
   "display_name": "Python 3",
   "language": "python",
   "name": "python3"
  },
  "language_info": {
   "codemirror_mode": {
    "name": "ipython",
    "version": 3
   },
   "file_extension": ".py",
   "mimetype": "text/x-python",
   "name": "python",
   "nbconvert_exporter": "python",
   "pygments_lexer": "ipython3",
   "version": "3.8.1"
  }
 },
 "nbformat": 4,
 "nbformat_minor": 2
}
